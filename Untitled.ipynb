{
 "cells": [
  {
   "cell_type": "code",
   "execution_count": null,
   "metadata": {},
   "outputs": [],
   "source": [
    "#Jo's trial\n"
   ]
  },
  {
   "cell_type": "markdown",
   "metadata": {},
   "source": [
    "# 1 Read data & basic text prerpocessing"
   ]
  },
  {
   "cell_type": "code",
   "execution_count": 1,
   "metadata": {},
   "outputs": [],
   "source": [
    "import re\n",
    "import sys\n",
    "import shutil as sh\n",
    "import os"
   ]
  },
  {
   "cell_type": "code",
   "execution_count": 2,
   "metadata": {},
   "outputs": [],
   "source": [
    "#path = \"/home/yingjie/Desktop/Machine_Learning/Assignment4/data/\"\n",
    "#path2 = \"/home/yingjie/Desktop/Machine_Learning/Assignment4/data_clean/\"\n",
    "\n",
    "path = \"/Users/Pan/Google Drive/Data Science/Machine Learning/ML_Assignment4/data/\"\n",
    "path2 = \"/Users/Pan/Google Drive/Data Science/Machine Learning/ML_Assignment4/data_clean/\""
   ]
  },
  {
   "cell_type": "code",
   "execution_count": 3,
   "metadata": {},
   "outputs": [],
   "source": [
    "def data_preprocess(path,thefile):\n",
    "    # Replace all numbers with \"NUM\" special character\n",
    "    num_dec = re.compile(\"[\\d]+\\.[\\d]+\")\n",
    "    num_comma = re.compile(\"[\\d]+,[\\d]+\")\n",
    "    num_reg = re.compile(\"[\\d]+\")\n",
    "\n",
    "    # Detect non-English characters\n",
    "    non_eng = re.compile(\"[^a-zA-Z\\n ]\")\n",
    "    \n",
    "    #open file\n",
    "    file=open(os.path.join(path,thefile), \"r\", encoding=\"iso-8859-15\")\n",
    "    text = file.read().lower()\n",
    "    file.close()\n",
    "    \n",
    "    # Replace various forms of numbers with NUM character\n",
    "    text = num_dec.sub(\"NUM\", text)\n",
    "    text = num_comma.sub(\"NUM\", text)\n",
    "    text = num_reg.sub(\"NUM\", text)\n",
    "\n",
    "    # Replace all non-English characters with a space\n",
    "    text = non_eng.sub(\" \", text)\n",
    "\n",
    "    # Replace double spaces with a single space\n",
    "    text = text.replace(\"  \", \" \")\n",
    "    \n",
    "    # Split the file into reviews based on \\n\n",
    "    #text = text.split(\"\\n\")\n",
    "    \n",
    "    return(text)"
   ]
  },
  {
   "cell_type": "code",
   "execution_count": 4,
   "metadata": {},
   "outputs": [],
   "source": [
    "train=data_preprocess(path,\"train.txt\")\n",
    "valid=data_preprocess(path,\"valid.txt\")"
   ]
  },
  {
   "cell_type": "markdown",
   "metadata": {},
   "source": [
    "# 2 Create vocabulary\n",
    "\n",
    "reference source:https://stackoverflow.com/questions/40661684/tensorflow-vocabularyprocessor"
   ]
  },
  {
   "cell_type": "code",
   "execution_count": 5,
   "metadata": {},
   "outputs": [
    {
     "name": "stderr",
     "output_type": "stream",
     "text": [
      "/Users/Pan/anaconda/lib/python3.6/site-packages/h5py/__init__.py:34: FutureWarning: Conversion of the second argument of issubdtype from `float` to `np.floating` is deprecated. In future, it will be treated as `np.float64 == np.dtype(float).type`.\n",
      "  from ._conv import register_converters as _register_converters\n"
     ]
    }
   ],
   "source": [
    "import numpy as np\n",
    "from tensorflow.contrib import learn"
   ]
  },
  {
   "cell_type": "code",
   "execution_count": 6,
   "metadata": {},
   "outputs": [
    {
     "data": {
      "text/plain": [
       "'we brought two different brand switches to test this srwNUM from linksys and wsrNUM from netgear netgear switch is over NUM and this one is under NUM both of them are all gigabit ports linksys has NUM gigabit ports and netgear has NUM gigabit ports however this srwNUM has more functions and features than the netgear NUM switches for example this switch supports lags for gang ports together in different lacp groups netgear switch does not this switch allowing setup stp on top the lags netgear does not this switch loaded with current firmware netgear switch comes with a two years old firmware this switch is really good bargain for its functions features and speed it is a shining star comparing to all those overpriced competitors the only problem we have is that this switch generates some kind of apple talk probing when we have switch setup to do stp on top of lags that probing caused problem to our routers and vpn servers so we had to turn the stp off \\nwhat needs to be said really that hasn t already been said a million times this is one of the greatest albums of all time  and arguably dylan s best i say it is but everyone has their favorites and with an artist like dylan it s hard to pin down one album as his best either way  if you dont own this you should be ashamed take a hint from jack black in high fidelity  if you dont own it dont let anyone know as for the audiophile discussion that s been popping up  this sacd hybrid sounds spectacular and if you re one of those people that really like good sound it s worth a repurchase even if it is a bit pricey however if you truly want the best sound for this album  go with the NUM gram mono mix reissue from sundazed vinyl on a good turntable nothing digital can hold a candle to it but whatever your poison this is a timeless classic that only gets better every time you hear it six words of advice  buy it buy it buy it \\nthese photo corners are not as metallic as they are grey and gold not much sheen  however they stay put much better than those truly metallic ones that you have to wet \\ni can t believe there aren t any reviews for this yet but i must say that this is one of the top thrash albums of the NUMs and almost certainly the best of NUM only death s scream bloody gore could give this one a run for its money during that year i love everything about this disc the playing is tight the vox are cool  the lyrics actually make you think even the mix on the album is quite good the cd is impossible to find these days but i just heard some great news brazil s marquee records has signed a deal with the legendary canadian thrashers sacrifice for the re release of their first three albums NUM s torment in fire  NUM s forward to termination and NUM s soldiers of misfortune  plus a live album with a complete show from NUM all cds will be double cds special editions full of bonus tracks the live one will probably be released as a cd dvd set the distribution in the u s and japan will be handled by khaosmaster records and disk heaven respectively metal lives  \\ni have been trying to move away from fake sugars bad for my memory  but stevia s mild licorice taste really bothers me i m hyper sensitive to licorice since i hate it so much probably others would be fine with it  so i picked up this light agave syrup from a health food grocery store i just made my first cup of tea with it and i have to say i really like it it s a subtly different flavor than white sugar i d say your initial thought is slightly toward honey even though it doesn t have honey s strong taste it s a softer flavor than white sugar or fake sugar somehow in all a very pleasant taste and i will certainly tell the office baker about it  \\nwell i had bought this game years ago but was missing some cd s so i decided to buy it again the game is kinda cool you are the captian of a bird of pray how cool you can cloak your ship transfer power to repairs and fire primary and seconary weapons when you take on a star ship it can take a little skill getting your targeting lined up the star ships move all over the place fast this is an older game and you may have some problems with graphics for me it is on the start up page over all it is a good game especially if you like star trek and the klingons\\nthis new two disc dvd set is well worth adding to any NUM fan s collection if only to get the second disc which has all of the interviews and featurettes the recorded no video interview with stanley kubrick also is extremely interesting particularly if you re a film buff toward the end kubrick speaks glowingly of arthur clarke which is refreshing considering that at the time of the interview he was keeping arthur at the end of his financial tether the disc with the film is intriguing because of the sporadic commentary provided by lockwood and dullea but i consider it a grave mistake not to have included additional commentary from others involved in the production i am grateful that we have any dvd commentary at all of course but many of gary lockwood s comments aren t especially pertinent and both are left to flail and misremember information which they were not fully prepared to conjure up or reference we do feel though that by the end we ve gotten to know these two performers better and that in itself is enjoyable i haven t made any inquiries but it strikes me as reprehensible  and worthy of some sort of explanation  that the commentary track doesn t include material from arthur c clarke daniel richter moonwatcher  the special effects wizard douglas trumbull or frederick ordway who served as the technical science consultant to kubrick all of these gentlemen are still with us and no doubt would have been glad to be involved fortunately we still meet and hear them all on disc NUM but what wonderful expertise we could have been treated to while watching the film if we could hear say richter commenting on the dawn of man sequence instead of lockwood and dullea neither of whom were involved directly it also would have been a service to include comments at length from one or more noted film critics or historians who could have put the entire film  and notable sequences  into historical perspective from a cinematic viewpoint on disc NUM roger ebert does provide some thoughts but they strike me as brief and cursory still this dvd set is as good as it s going to get for awhile and  i repeat  i m glad to have it though the initial sequence shows the moon too dark to be visible at all in the theater it was quite clear  the image of the film in general looks terrific and includes colors i haven t seen in years and yet because of the glaringly missed opportunities the commentary track represents i feel as though more remains to be done dare we hope for an improved commentary track on the NUM or NUM disc criterion collection set someday   \\ni freely admit i was a huge fan of this show after watching the first few episodes it seemed to promise action plus just enough human feeling to make the lead character a little more than another cartoon cutout adaption i m now up to episode seven   and am almost completely over this whole series what started as an action packed vigilante against the strong men of crime idea promising some vicarious entertainment as we watch our hero take out the baddies in highly imaginative ways   progressively degenerates into lengthy soap ridden clich eacute scenes of feminine talkfests about caring  female relationships issues support and other assorted warm fuzzy aspects this is all done with such over emotional bad acting that it just overwhelms the original concept completely it is literally as if whole sections of the bold  the beautiful have been spliced into the episodes   complete with that oh so serious method of acting   where they exchange those deep  meaningfuls in near whispers with grim faces bad bad   and even worse it s exactly what the writers did to dexter with that damn plot line of the baby and all those family issues NUM of the viewers just'"
      ]
     },
     "execution_count": 6,
     "metadata": {},
     "output_type": "execute_result"
    }
   ],
   "source": [
    "small_train=train[0:8001]\n",
    "small_train"
   ]
  },
  {
   "cell_type": "code",
   "execution_count": 38,
   "metadata": {},
   "outputs": [],
   "source": [
    "max_document_length = max([len(small_train.split(\" \"))])\n",
    "max_document_length = 1"
   ]
  },
  {
   "cell_type": "code",
   "execution_count": 39,
   "metadata": {},
   "outputs": [],
   "source": [
    "## Create the vocabularyprocessor object, setting the max lengh of the documents.\n",
    "vocab_processor = learn.preprocessing.VocabularyProcessor(max_document_length)"
   ]
  },
  {
   "cell_type": "code",
   "execution_count": 40,
   "metadata": {},
   "outputs": [
    {
     "data": {
      "text/plain": [
       "array([[ 1],\n",
       "       [ 2],\n",
       "       [ 0],\n",
       "       ...,\n",
       "       [ 6],\n",
       "       [15],\n",
       "       [ 9]])"
      ]
     },
     "execution_count": 40,
     "metadata": {},
     "output_type": "execute_result"
    }
   ],
   "source": [
    "## Transform the documents using the vocabulary.\n",
    "train_transformed = np.array(list(vocab_processor.fit_transform(small_train)))\n",
    "train_transformed"
   ]
  },
  {
   "cell_type": "code",
   "execution_count": 41,
   "metadata": {},
   "outputs": [],
   "source": [
    "y=vocab_processor.fit_transform(small_train)\n",
    "#np.set_printoptions(threshold=np.nan)\n",
    "#np.set_printoptions(threshold=100)"
   ]
  },
  {
   "cell_type": "code",
   "execution_count": 42,
   "metadata": {},
   "outputs": [],
   "source": [
    "## Extract word:id mapping from the object.\n",
    "vocab_dict = vocab_processor.vocabulary_._mapping"
   ]
  },
  {
   "cell_type": "code",
   "execution_count": 43,
   "metadata": {},
   "outputs": [
    {
     "data": {
      "text/plain": [
       "dict_items([('<UNK>', 0), ('w', 1), ('e', 2), ('b', 3), ('r', 4), ('o', 5), ('u', 6), ('g', 7), ('h', 8), ('t', 9), ('d', 10), ('i', 11), ('f', 12), ('n', 13), ('a', 14), ('s', 15), ('c', 16), ('N', 17), ('U', 18), ('M', 19), ('m', 20), ('l', 21), ('k', 22), ('y', 23), ('v', 24), ('p', 25), ('x', 26), ('j', 27), ('z', 28), ('q', 29)])"
      ]
     },
     "execution_count": 43,
     "metadata": {},
     "output_type": "execute_result"
    }
   ],
   "source": [
    "vocab_dict.items()"
   ]
  },
  {
   "cell_type": "code",
   "execution_count": 24,
   "metadata": {},
   "outputs": [],
   "source": [
    "## Sort the vocabulary dictionary on the basis of values(id).\n",
    "## Both statements perform same task.\n",
    "#sorted_vocab = sorted(vocab_dict.items(), key=operator.itemgetter(1))\n",
    "sorted_vocab = sorted(vocab_dict.items(), key = lambda x : x[1])"
   ]
  },
  {
   "cell_type": "code",
   "execution_count": 25,
   "metadata": {},
   "outputs": [
    {
     "name": "stdout",
     "output_type": "stream",
     "text": [
      "['<UNK>', 'w', 'e', 'b', 'r', 'o', 'u', 'g', 'h', 't', 'd', 'i', 'f', 'n', 'a', 's', 'c', 'N', 'U', 'M', 'm', 'l', 'k', 'y', 'v', 'p', 'x', 'j', 'z', 'q']\n"
     ]
    }
   ],
   "source": [
    "## Treat the id's as index into list and create a list of words in the ascending order of id's\n",
    "## word with id i goes at index i of the list.\n",
    "vocabulary = list(list(zip(*sorted_vocab))[0])\n",
    "print(vocabulary)"
   ]
  },
  {
   "cell_type": "code",
   "execution_count": null,
   "metadata": {},
   "outputs": [],
   "source": [
    "seq_size = 2\n",
    "trainX, trainY = [], []\n",
    "\n",
    "for review in train_transformed:\n",
    "    #loop through every word in the review\n",
    "    for i in range(max_document_length):        \n",
    "        #if the next 10 consecutive words are 0, that means the review has ended.\n",
    "        # eg: [1 2 3 4 0 0 0 0]\n",
    "        # this will create x: [1 2] [2 3]. (no [3 4])\n",
    "        \n",
    "        if all(review[i+seq_size:i+seq_size+10] ==0):        \n",
    "            break\n",
    "        else:\n",
    "            trainX.append(np.expand_dims(review[i:i+seq_size], axis=1).tolist())\n",
    "            trainY.append(review[i+1:i+seq_size+1])\n",
    "\n",
    "# Inspect trainX and trainY\n",
    "print(\"X:\\n\",'\\n'.join([str(item) for item in trainX[0:5]]))\n",
    "print(\"Y:\\n\",'\\n'.join([str(item) for item in trainY[0:5]]))"
   ]
  },
  {
   "cell_type": "markdown",
   "metadata": {},
   "source": [
    "# TF setup"
   ]
  },
  {
   "cell_type": "code",
   "execution_count": null,
   "metadata": {},
   "outputs": [],
   "source": [
    "%matplotlib inline\n",
    "\n",
    "import pandas as pd\n",
    "import numpy as np\n",
    "import matplotlib.pyplot as plt\n",
    "import tensorflow as tf\n",
    "from tensorflow.contrib import rnn\n",
    "from sklearn.preprocessing import MinMaxScaler"
   ]
  },
  {
   "cell_type": "code",
   "execution_count": null,
   "metadata": {},
   "outputs": [],
   "source": [
    "# Build computational graph\n",
    "input_dim=1 # dim > 1 for multivariate time series\n",
    "hidden_dim=100 # number of hiddent units h\n",
    "graph = tf.Graph()\n",
    "with graph.as_default():\n",
    "    # input place holders\n",
    "    # input Shape: [# training examples, sequence length, # features]\n",
    "    x = tf.placeholder(tf.float32,[None,seq_size,input_dim])\n",
    "    # label Shape: [# training examples, sequence length]\n",
    "    y = tf.placeholder(tf.float32,[None,seq_size])\n",
    "    \n",
    "    weights = tf.ones([num_examples])\n",
    "    # RNN Network\n",
    "    cell = rnn.BasicRNNCell(hidden_dim)\n",
    "    \n",
    "    # RNN output Shape: [# training examples, sequence length, # hidden] \n",
    "    outputs, _ = tf.nn.dynamic_rnn(cell,x,dtype=tf.float32)\n",
    "    \n",
    "    \n",
    "    # weights for output dense layer (i.e., after RNN)\n",
    "    # W shape: [# hidden, 1]\n",
    "    W_out = tf.Variable(tf.random_normal([hidden_dim,1]),name=\"w_out\") \n",
    "    # b shape: [1]\n",
    "    b_out = tf.Variable(tf.random_normal([1]),name=\"b_out\")\n",
    "\n",
    "    # output dense layer:\n",
    "    num_examples = tf.shape(x)[0] \n",
    "    # convert W from [# hidden, 1] to [# training examples, # hidden, 1]\n",
    "    # step 1: add a new dimension at index 0 using tf.expand_dims\n",
    "    w_exp= tf.expand_dims(W_out,0)\n",
    "    # step 2: duplicate W for 'num_examples' times using tf.tile\n",
    "    W_repeated = tf.tile(w_exp,[num_examples,1,1])\n",
    "    \n",
    "    # Dense Layer calculation: \n",
    "    # [# training examples, sequence length, # hidden] *\n",
    "    # [# training examples, # hidden, 1] = [# training examples, sequence length]\n",
    "    \n",
    "    \n",
    "    # Actually, y_pred: [# training examples, sequence length, 1]\n",
    "    # Remove last dimension using tf.squeeze\n",
    "    y_pred = tf.matmul(outputs,W_repeated)+b_out\n",
    "    y_pred = tf.squeeze(y_pred)    # [# training examples, sequence length]\n",
    "   \n",
    "    \n",
    "    # Cost & Training Step\n",
    "    cost = -tf.reduce_sum(y*tf.log(y_pred)) #cross_entropy\n",
    "    \n",
    "    #cost = tf.contrib.seq2seq.sequence_loss(y_pred,y,weights)\n",
    "\n",
    "    train_op = tf.train.AdamOptimizer(learning_rate=0.01).minimize(cost)"
   ]
  },
  {
   "cell_type": "code",
   "execution_count": null,
   "metadata": {},
   "outputs": [],
   "source": [
    "# Run Session\n",
    "with tf.Session(graph=graph) as sess:\n",
    "    # initialize variables\n",
    "    sess.run(tf.global_variables_initializer())\n",
    "    # Run for 1000 iterations (1000 is arbitrary, need a validation set to tune!)\n",
    "    print('Training...')\n",
    "    for i in range(1000): # If we train more, would we overfit? Try 10000\n",
    "        _, train_err = sess.run([train_op,cost],feed_dict={x:trainX,y:trainY})\n",
    "        if i==0:\n",
    "            print('  step, train err= %6d: %8.5f' % (0,train_err)) \n",
    "        elif  (i+1) % 100 == 0: \n",
    "            print('  step, train err= %6d: %8.5f' % (i+1,train_err)) \n",
    "\n",
    "    # Test trained model on training data\n",
    "    predicted_vals_all= sess.run(y_pred,feed_dict={x:trainX}) \n",
    "    # Get last item in each predicted sequence:\n",
    "    predicted_vals = predicted_vals_all[:,seq_size-1]\n",
    "    \n",
    "    # Compute MSE\n",
    "    # step 1: denormalize data\n",
    "    predicted_vals_dnorm=predicted_vals*(max_dataset-min_dataset)+min_dataset\n",
    "    # step 2: get ground-truth\n",
    "    actual=dataset[seq_size:][:,0]\n",
    "    # step 3: compute MSE\n",
    "    mse = ((predicted_vals_dnorm - actual) ** 2).mean()\n",
    "    print(\"Training MSE = %10.5f\"%mse)\n",
    "    \n",
    "    # Plot predictions\n",
    "    plt.figure()\n",
    "    plt.plot(list(range(seq_size,seq_size+len(predicted_vals_dnorm))), predicted_vals_dnorm, color='r', label='predicted')\n",
    "    plt.plot(list(range(len(dataset))), dataset, color='g', label='actual')\n",
    "    plt.legend()"
   ]
  },
  {
   "cell_type": "code",
   "execution_count": null,
   "metadata": {},
   "outputs": [],
   "source": [
    "predicted_vals_all"
   ]
  },
  {
   "cell_type": "code",
   "execution_count": null,
   "metadata": {},
   "outputs": [],
   "source": []
  }
 ],
 "metadata": {
  "kernelspec": {
   "display_name": "Python 3",
   "language": "python",
   "name": "python3"
  },
  "language_info": {
   "codemirror_mode": {
    "name": "ipython",
    "version": 3
   },
   "file_extension": ".py",
   "mimetype": "text/x-python",
   "name": "python",
   "nbconvert_exporter": "python",
   "pygments_lexer": "ipython3",
   "version": "3.6.5"
  }
 },
 "nbformat": 4,
 "nbformat_minor": 2
}
