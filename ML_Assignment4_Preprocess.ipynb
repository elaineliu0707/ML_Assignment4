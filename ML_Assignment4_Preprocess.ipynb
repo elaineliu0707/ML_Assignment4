{
 "cells": [
  {
   "cell_type": "markdown",
   "metadata": {},
   "source": [
    "## Preprocess"
   ]
  },
  {
   "cell_type": "code",
   "execution_count": null,
   "metadata": {
    "collapsed": true
   },
   "outputs": [],
   "source": [
    "import re\n",
    "import sys\n",
    "import shutil as sh\n",
    "import os"
   ]
  },
  {
   "cell_type": "code",
   "execution_count": 39,
   "metadata": {
    "collapsed": true
   },
   "outputs": [],
   "source": [
    "path = \"/home/yingjie/Desktop/Machine_Learning/Assignment4/data\"\n",
    "path2 = \"/home/yingjie/Desktop/Machine_Learning/Assignment4/data_clean\""
   ]
  },
  {
   "cell_type": "code",
   "execution_count": 40,
   "metadata": {
    "collapsed": true
   },
   "outputs": [],
   "source": [
    "# Replace all numbers with \"NUM\" special character\n",
    "num_dec = re.compile(\"[\\d]+\\.[\\d]+\")\n",
    "num_comma = re.compile(\"[\\d]+,[\\d]+\")\n",
    "num_reg = re.compile(\"[\\d]+\")\n",
    "\n",
    "# Detect non-English characters\n",
    "non_eng = re.compile(\"[^a-zA-Z\\n ]\")"
   ]
  },
  {
   "cell_type": "code",
   "execution_count": 41,
   "metadata": {},
   "outputs": [],
   "source": [
    "for filename in os.listdir(path):\n",
    "    with open(os.path.join(path,filename), \"r\", encoding=\"iso-8859-15\") as file:\n",
    "        try:\n",
    "            text = file.read().lower()\n",
    "        except UnicodeDecodeError:\n",
    "            print(filename)\n",
    "\n",
    "        # Replace various forms of numbers with NUM character\n",
    "        text = num_dec.sub(\"NUM\", text)\n",
    "        text = num_comma.sub(\"NUM\", text)\n",
    "        text = num_reg.sub(\"NUM\", text)\n",
    "       \n",
    "        # Replace all non-English characters with a space\n",
    "        text = non_eng.sub(\" \", text)\n",
    "        \n",
    "        # Replace double spaces with a single space\n",
    "        text = text.replace(\"  \", \" \")\n",
    "        \n",
    "        with open(os.path.join(path2, filename), \"w+\") as file2:\n",
    "            file2.write(text)\n",
    "            file2.close()\n",
    "        file.close()"
   ]
  },
  {
   "cell_type": "code",
   "execution_count": 42,
   "metadata": {
    "scrolled": true
   },
   "outputs": [
    {
     "name": "stdout",
     "output_type": "stream",
     "text": [
      "corpus length: 39294628\n"
     ]
    }
   ],
   "source": [
    "print('corpus length:', len(text))"
   ]
  }
 ],
 "metadata": {
  "kernelspec": {
   "display_name": "Python 3",
   "language": "python",
   "name": "python3"
  },
  "language_info": {
   "codemirror_mode": {
    "name": "ipython",
    "version": 3
   },
   "file_extension": ".py",
   "mimetype": "text/x-python",
   "name": "python",
   "nbconvert_exporter": "python",
   "pygments_lexer": "ipython3",
   "version": "3.6.1"
  },
  "toc": {
   "nav_menu": {},
   "number_sections": true,
   "sideBar": true,
   "skip_h1_title": false,
   "title_cell": "Table of Contents",
   "title_sidebar": "Contents",
   "toc_cell": false,
   "toc_position": {},
   "toc_section_display": true,
   "toc_window_display": false
  }
 },
 "nbformat": 4,
 "nbformat_minor": 2
}
