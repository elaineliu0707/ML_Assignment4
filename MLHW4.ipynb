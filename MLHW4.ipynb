{
 "cells": [
  {
   "cell_type": "markdown",
   "metadata": {},
   "source": [
    "# 1 Read data & basic text prerpocessing"
   ]
  },
  {
   "cell_type": "code",
   "execution_count": 1,
   "metadata": {
    "collapsed": true
   },
   "outputs": [],
   "source": [
    "import re\n",
    "import sys\n",
    "import shutil as sh\n",
    "import os"
   ]
  },
  {
   "cell_type": "code",
   "execution_count": 2,
   "metadata": {
    "collapsed": true
   },
   "outputs": [],
   "source": [
    "#path = \"/home/yingjie/Desktop/Machine_Learning/Assignment4/data/\"\n",
    "#path2 = \"/home/yingjie/Desktop/Machine_Learning/Assignment4/data_clean/\"\n",
    "path = \"/Users/Pan/Google Drive/Data Science/Machine Learning/ML_Assignment4/data/\"\n",
    "path2 = \"/Users/Pan/Google Drive/Data Science/Machine Learning/ML_Assignment4/data_clean/\""
   ]
  },
  {
   "cell_type": "code",
   "execution_count": 3,
   "metadata": {
    "collapsed": true
   },
   "outputs": [],
   "source": [
    "def data_preprocess(path,thefile):\n",
    "    # Replace all numbers with \"NUM\" special character\n",
    "    num_dec = re.compile(\"[\\d]+\\.[\\d]+\")\n",
    "    num_comma = re.compile(\"[\\d]+,[\\d]+\")\n",
    "    num_reg = re.compile(\"[\\d]+\")\n",
    "\n",
    "    # Detect non-English characters\n",
    "    non_eng = re.compile(\"[^a-zA-Z\\n ]\")\n",
    "    \n",
    "    #open file\n",
    "    file=open(os.path.join(path,thefile), \"r\", encoding=\"iso-8859-15\")\n",
    "    text = file.read().lower()\n",
    "    file.close()\n",
    "    \n",
    "    # Replace various forms of numbers with NUM character\n",
    "    text = num_dec.sub(\"NUM\", text)\n",
    "    text = num_comma.sub(\"NUM\", text)\n",
    "    text = num_reg.sub(\"NUM\", text)\n",
    "\n",
    "    # Replace all non-English characters with a space\n",
    "    text = non_eng.sub(\" \", text)\n",
    "\n",
    "    # Replace double spaces with a single space\n",
    "    text = text.replace(\"  \", \" \")\n",
    "    \n",
    "    # Split the file into reviews based on \\n\n",
    "    text = text.split(\"\\n\")\n",
    "    \n",
    "    num_of_reviews=2\n",
    "    small_train=''\n",
    "    for i in range(num_of_reviews):\n",
    "        small_train+=text[i]+\" END \"\n",
    "    small_train=[small_train]\n",
    "        \n",
    "    return(small_train)"
   ]
  },
  {
   "cell_type": "code",
   "execution_count": 4,
   "metadata": {
    "collapsed": true,
    "scrolled": false
   },
   "outputs": [],
   "source": [
    "train=data_preprocess(path,\"down_sampled_reviews/train_tiny.txt\")\n",
    "valid=data_preprocess(path,\"down_sampled_reviews/valid_tiny.txt\")"
   ]
  },
  {
   "cell_type": "markdown",
   "metadata": {},
   "source": [
    "## DONT RUN THIS SESSION ##\n",
    "# 2 Create vocabulary - demonstration only\n",
    "\n",
    "\n",
    "reference source:https://stackoverflow.com/questions/40661684/tensorflow-vocabularyprocessor"
   ]
  },
  {
   "cell_type": "code",
   "execution_count": 5,
   "metadata": {
    "scrolled": true
   },
   "outputs": [
    {
     "name": "stderr",
     "output_type": "stream",
     "text": [
      "/Users/Pan/anaconda/lib/python3.6/site-packages/h5py/__init__.py:34: FutureWarning: Conversion of the second argument of issubdtype from `float` to `np.floating` is deprecated. In future, it will be treated as `np.float64 == np.dtype(float).type`.\n",
      "  from ._conv import register_converters as _register_converters\n"
     ]
    }
   ],
   "source": [
    "import numpy as np\n",
    "from tensorflow.contrib import learn"
   ]
  },
  {
   "cell_type": "code",
   "execution_count": 6,
   "metadata": {},
   "outputs": [
    {
     "data": {
      "text/plain": [
       "['i don t know why but flexaril just isn t doing the trick for me anymore i m shocked by how well this product works for muscle spasms i suppose the valerian and passiflora which are also mental relaxants along with the magnesium for the cramping help give you that over all feeling of ahhh  i know not everything works for everyone and it s a relatively expensive purchase if it doesn t if you re need of one of their other vitamins order those and they ll send along a free trial of the valerin and you can find out for yourself that s how i got to experience it i ordered their cinnamon for blood sugar support and got the sample i also take the valerin at night with schiff melatonin plus total relaxation comes swiftly and long vivid dreams follow  a side effect of melatonin i really enjoy i like this product so much i ve been passing it out like a pusher telling people try this it s awesome  END not the most innovative concept in marketing but galdwell did a very good job in explaining a complex phenomena by giving easy to follow examples i particularly like the boston tea party example  END ']"
      ]
     },
     "execution_count": 6,
     "metadata": {},
     "output_type": "execute_result"
    }
   ],
   "source": [
    "num_of_reviews=2\n",
    "small_train=''\n",
    "for i in range(num_of_reviews):\n",
    "    small_train+=train[i]+\" END \"\n",
    "small_train=[small_train]\n",
    "small_train"
   ]
  },
  {
   "cell_type": "code",
   "execution_count": 7,
   "metadata": {},
   "outputs": [
    {
     "data": {
      "text/plain": [
       "213"
      ]
     },
     "execution_count": 7,
     "metadata": {},
     "output_type": "execute_result"
    }
   ],
   "source": [
    "max_document_length=len(small_train[0].split(\" \"))\n",
    "max_document_length"
   ]
  },
  {
   "cell_type": "code",
   "execution_count": null,
   "metadata": {
    "collapsed": true
   },
   "outputs": [],
   "source": [
    "## Create the vocabularyprocessor object, setting the max lengh of the documents.\n",
    "vocab_processor = learn.preprocessing.VocabularyProcessor(max_document_length)"
   ]
  },
  {
   "cell_type": "code",
   "execution_count": null,
   "metadata": {},
   "outputs": [],
   "source": [
    "## Transform the documents using the vocabulary.\n",
    "train_transformed = np.array(list(vocab_processor.fit_transform(small_train)))\n",
    "train_transformed"
   ]
  },
  {
   "cell_type": "code",
   "execution_count": null,
   "metadata": {},
   "outputs": [],
   "source": [
    "train_transformed=[np.trim_zeros(train_transformed[0], 'b')]\n",
    "train_transformed"
   ]
  },
  {
   "cell_type": "code",
   "execution_count": null,
   "metadata": {},
   "outputs": [],
   "source": [
    "## Extract word:id mapping from the object.\n",
    "vocab_dict = vocab_processor.vocabulary_._mapping\n",
    "vocab_dict['END'] = -1\n",
    "vocab_dict.items()"
   ]
  },
  {
   "cell_type": "code",
   "execution_count": null,
   "metadata": {},
   "outputs": [],
   "source": [
    "len(vocab_dict)"
   ]
  },
  {
   "cell_type": "code",
   "execution_count": null,
   "metadata": {},
   "outputs": [],
   "source": [
    "# -1 is in \n",
    "train_transformed2=np.array(list(vocab_processor.fit_transform(small_train)))\n",
    "train_transformed2=[np.trim_zeros(train_transformed2[0], 'b')]\n",
    "train_transformed2"
   ]
  },
  {
   "cell_type": "code",
   "execution_count": null,
   "metadata": {},
   "outputs": [],
   "source": [
    "## Sort the vocabulary dictionary on the basis of values(id).\n",
    "## Both statements perform same task.\n",
    "#sorted_vocab = sorted(vocab_dict.items(), key=operator.itemgetter(1))\n",
    "sorted_vocab = sorted(vocab_dict.items(), key = lambda x : x[1])\n",
    "## Treat the id's as index into list and create a list of words in the ascending order of id's\n",
    "## word with id i goes at index i of the list.\n",
    "vocabulary = list(list(zip(*sorted_vocab))[1])\n",
    "print(vocabulary)"
   ]
  },
  {
   "cell_type": "code",
   "execution_count": null,
   "metadata": {},
   "outputs": [],
   "source": [
    "seq_size = 2\n",
    "trainX, trainY = [], []\n",
    "max_document_length=len(train_transformed2[0])\n",
    "for i in range(max_document_length): \n",
    "    #[0,1,2,3,4,5,-1,1,2,3,4,5]\n",
    "    if -1 not in train_transformed2[0][i:i+seq_size+1]:\n",
    "        trainX.append(np.expand_dims(train_transformed2[0][i:i+seq_size], axis=1).tolist())\n",
    "        trainY.append(train_transformed2[0][i+1:i+seq_size+1])\n",
    "\n",
    "# Inspect trainX and trainY\n",
    "print(\"X:\\n\",'\\n'.join([str(item) for item in trainX[0:5]]))\n",
    "print(\"Y:\\n\",'\\n'.join([str(item) for item in trainY[0:5]]))"
   ]
  },
  {
   "cell_type": "code",
   "execution_count": null,
   "metadata": {
    "collapsed": true
   },
   "outputs": [],
   "source": [
    "size_vocab = len(vocabulary)"
   ]
  },
  {
   "cell_type": "code",
   "execution_count": null,
   "metadata": {},
   "outputs": [],
   "source": [
    "valid_vocab_processor=learn.preprocessing.VocabularyProcessor(max_document_length,vocab_dict)"
   ]
  },
  {
   "cell_type": "code",
   "execution_count": null,
   "metadata": {},
   "outputs": [],
   "source": [
    "small_train=''\n",
    "for i in range(1):\n",
    "    small_train+=valid[i]+\" END \"\n",
    "small_train=[small_train]\n",
    "np.array(list(vocab_processor.fit_transform(small_train)))"
   ]
  },
  {
   "cell_type": "code",
   "execution_count": null,
   "metadata": {},
   "outputs": [],
   "source": [
    "small_train"
   ]
  },
  {
   "cell_type": "markdown",
   "metadata": {},
   "source": [
    "# 2b Create vocabulary through a function"
   ]
  },
  {
   "cell_type": "code",
   "execution_count": 8,
   "metadata": {},
   "outputs": [],
   "source": [
    "import numpy as np\n",
    "from tensorflow.contrib import learn"
   ]
  },
  {
   "cell_type": "code",
   "execution_count": 9,
   "metadata": {
    "collapsed": true
   },
   "outputs": [],
   "source": [
    "def train_textlst_2_vocab(textlst,num_of_reviews=None,seq_size = 2,vocabulary=None):\n",
    "    if num_of_reviews is None:\n",
    "        num_of_reviews=len(textlst)\n",
    "        \n",
    "    small_train=''\n",
    "    for i in range(num_of_reviews):\n",
    "        small_train+=textlst[i]+\" END \"\n",
    "    small_train=[small_train]\n",
    "    \n",
    "    max_document_length=len(small_train[0].split(\" \"))\n",
    "    \n",
    "    ## Create the vocabularyprocessor object, setting the max lengh of the documents.\n",
    "    #if vocabulary is None: #for train \n",
    "    vocab_processor = learn.preprocessing.VocabularyProcessor(max_document_length)\n",
    "        \n",
    "    #else: #for valid\n",
    "        #vocab_processor = learn.preprocessing.VocabularyProcessor(max_document_length,vocabulary=vocabulary)\n",
    "    \n",
    "    ## Transform the documents using the vocabulary.\n",
    "    train_transformed = np.array(list(vocab_processor.fit_transform(small_train)))\n",
    "    \n",
    "    vocab_dict = vocab_processor.vocabulary_._mapping\n",
    "    vocab_dict['END'] = -1\n",
    "\n",
    "    ## Extract word:id mapping from the object.\n",
    "    vocab_dict = vocab_processor.vocabulary_\n",
    "    #vocab_dict = vocab_processor.vocabulary_._mapping\n",
    "\n",
    "    train_transformed=np.array(list(vocab_processor.fit_transform(small_train)))\n",
    "    train_transformed=[np.trim_zeros(train_transformed[0], 'b')] #trim zero at the end\n",
    "    \n",
    "    trainX, trainY = [], []\n",
    "    max_document_length=len(train_transformed[0])\n",
    "    for i in range(max_document_length): \n",
    "        #[0,1,2,3,4,5,-1,1,2,3,4,5]\n",
    "        if -1 not in train_transformed[0][i:i+seq_size+1]:\n",
    "            trainX.append(np.expand_dims(train_transformed[0][i:i+seq_size], axis=1).tolist())\n",
    "            trainY.append(train_transformed[0][i+1:i+seq_size+1])\n",
    "    \n",
    "    size_vocab = len(vocab_dict)\n",
    "    \n",
    "    return trainX,trainY,size_vocab,vocab_dict"
   ]
  },
  {
   "cell_type": "code",
   "execution_count": 29,
   "metadata": {},
   "outputs": [
    {
     "name": "stdout",
     "output_type": "stream",
     "text": [
      "5709\n",
      "X:\n",
      " [[1], [2]]\n",
      "[[2], [3]]\n",
      "[[3], [4]]\n",
      "[[4], [5]]\n",
      "[[5], [6]]\n",
      "Y:\n",
      " [2 3]\n",
      "[3 4]\n",
      "[4 5]\n",
      "[5 6]\n",
      "[6 7]\n"
     ]
    }
   ],
   "source": [
    "num_of_reviews=None\n",
    "seq_size=2\n",
    "trainX,trainY,size_vocab,train_vocab=train_textlst_2_vocab(train[0:200],num_of_reviews=num_of_reviews,seq_size = seq_size)\n",
    "print(size_vocab)\n",
    "print(\"X:\\n\",'\\n'.join([str(item) for item in trainX[0:5]]))\n",
    "print(\"Y:\\n\",'\\n'.join([str(item) for item in trainY[0:5]]))"
   ]
  },
  {
   "cell_type": "markdown",
   "metadata": {},
   "source": [
    "Use train vacabulary to convert valid dataset"
   ]
  },
  {
   "cell_type": "code",
   "execution_count": 30,
   "metadata": {},
   "outputs": [],
   "source": [
    "textlst=valid[0:5]\n",
    "num_of_reviews=len(textlst)\n",
    "\n",
    "small_train=''\n",
    "for i in range(num_of_reviews):\n",
    "    small_train+=textlst[i]+\" END \"\n",
    "small_train=[small_train]\n",
    "\n",
    "max_document_length=len(small_train[0].split(\" \"))\n",
    "\n",
    "vocab_processor = learn.preprocessing.VocabularyProcessor(max_document_length,vocabulary=train_vocab)\n",
    "\n",
    "## Transform the documents using the vocabulary.\n",
    "train_transformed =np.array(list(vocab_processor.fit_transform(small_train)))\n",
    "train_transformed=[np.trim_zeros(train_transformed[0], 'b')] #trim zero at the end\n",
    "\n",
    "## Extract word:id mapping from the object.\n",
    "vocab_dict = vocab_processor.vocabulary_._mapping\n",
    "\n",
    "validX, validY = [], []\n",
    "max_document_length=len(train_transformed[0])\n",
    "for i in range(max_document_length): \n",
    "    #[0,1,2,3,4,5,-1,1,2,3,4,5]\n",
    "    if -1 not in train_transformed[0][i:i+seq_size+1]:\n",
    "        validX.append(np.expand_dims(train_transformed[0][i:i+seq_size], axis=1).tolist())\n",
    "        validY.append(train_transformed[0][i+1:i+seq_size+1])"
   ]
  },
  {
   "cell_type": "code",
   "execution_count": 31,
   "metadata": {},
   "outputs": [
    {
     "name": "stdout",
     "output_type": "stream",
     "text": [
      "5709\n",
      "X:\n",
      " [[1], [74]]\n",
      "[[74], [11]]\n",
      "[[11], [0]]\n",
      "[[0], [51]]\n",
      "[[51], [828]]\n",
      "Y:\n",
      " [74 11]\n",
      "[11  0]\n",
      "[ 0 51]\n",
      "[ 51 828]\n",
      "[828 174]\n"
     ]
    }
   ],
   "source": [
    "size_vocab = len(vocab_dict) #match then good\n",
    "print(size_vocab)\n",
    "print(\"X:\\n\",'\\n'.join([str(item) for item in validX[0:5]]))\n",
    "print(\"Y:\\n\",'\\n'.join([str(item) for item in validY[0:5]]))"
   ]
  },
  {
   "cell_type": "code",
   "execution_count": 32,
   "metadata": {},
   "outputs": [
    {
     "data": {
      "text/plain": [
       "True"
      ]
     },
     "execution_count": 32,
     "metadata": {},
     "output_type": "execute_result"
    }
   ],
   "source": [
    "vocab_dict.items()==train_vocab._mapping.items()"
   ]
  },
  {
   "cell_type": "markdown",
   "metadata": {},
   "source": [
    "# TF setup\n",
    "\n",
    "    # output dense layer:\n",
    "    # convert W from [# hidden, 1] to [# training examples, # hidden, 1]\n",
    "    # step 1: add a new dimension at index 0 using tf.expand_dims\n",
    "    #w_exp= tf.expand_dims(W_out,0)\n",
    "    # step 2: duplicate W for 'num_examples' times using tf.tile\n",
    "    #W_repeated = tf.tile(w_exp,[num_examples,1,1])\n",
    "    \n",
    "    # Dense Layer calculation: \n",
    "    # [# training examples, sequence length, # hidden] *\n",
    "    # [# training examples, # hidden, 1] = [# training examples, sequence length]\n",
    "    \n",
    "    # Actually, y_pred: [# training examples, sequence length, 1]\n",
    "    # Remove last dimension using tf.squeeze\n",
    "    #y_pred = tf.add(tf.matmul(logit, W_repeated),b_out)\n",
    "    #y_pred = tf.squeeze(y_pred)    # [# training examples, sequence length]\n",
    "    #y_pred = tf.reshape(y_pred)\n",
    "    \n",
    "    #num_examples= tf.cast(num_examples, tf.float32)"
   ]
  },
  {
   "cell_type": "code",
   "execution_count": 33,
   "metadata": {
    "collapsed": true
   },
   "outputs": [],
   "source": [
    "%matplotlib inline\n",
    "\n",
    "import pandas as pd\n",
    "import numpy as np\n",
    "import matplotlib.pyplot as plt\n",
    "import tensorflow as tf\n",
    "from tensorflow.contrib import rnn\n",
    "from sklearn.preprocessing import MinMaxScaler\n",
    "import timeit"
   ]
  },
  {
   "cell_type": "code",
   "execution_count": 34,
   "metadata": {},
   "outputs": [
    {
     "name": "stdout",
     "output_type": "stream",
     "text": [
      "input shape: (?, 2, 1)\n",
      "ground truth shape: (?, 2)\n",
      "output from tf,nn.dynamic_rnn shape (?, 2, 100)\n",
      "reshaped output from RNN shape: (?, 2, 100)\n",
      "weights shape: (100, 5709)\n",
      "bias shape (5709,)\n",
      "fully connected and reshaped outputs: Tensor(\"Reshape:0\", shape=(?, 100), dtype=float32)\n",
      "final logits shape: (?, 2, 5709)\n"
     ]
    }
   ],
   "source": [
    "# Build computational graph\n",
    "#input_dim=1 # dim > 1 for multivariate time series\n",
    "hidden_dim=100 # number of hiddent units h\n",
    "graph = tf.Graph()\n",
    "\n",
    "with graph.as_default():\n",
    "    # input place holders\n",
    "    # input Shape: [# training examples, sequence length, # features]\n",
    "    x = tf.placeholder(tf.float32,[None,seq_size,1])\n",
    "    print(\"input shape:\", x.shape)\n",
    "    \n",
    "    # label Shape: [# training examples, sequence length]\n",
    "    y = tf.placeholder(tf.int32,[None,seq_size])\n",
    "    print(\"ground truth shape:\", y.shape)\n",
    "    \n",
    "    num_examples = tf.shape(x)[0]\n",
    "    \n",
    "    # RNN Network\n",
    "    cell = rnn.BasicRNNCell(hidden_dim)\n",
    "    \n",
    "    # RNN output Shape: [# training examples, sequence length, # hidden] \n",
    "    outputs, _ = tf.nn.dynamic_rnn(cell,x,dtype=tf.float32)\n",
    "    print(\"output from tf,nn.dynamic_rnn shape\", outputs.shape)\n",
    "    \n",
    "    #outputs = tf.reshape(outputs, [num_examples*seq_size, hidden_dim])\n",
    "    print(\"reshaped output from RNN shape:\", outputs.shape)\n",
    "    \n",
    "    # weights for output dense layer (i.e., after RNN)\n",
    "    # W shape: [# hidden, 1]\n",
    "    W_out = tf.Variable(tf.random_normal([hidden_dim,size_vocab]),name=\"w_out\")\n",
    "    print(\"weights shape:\", W_out.shape)\n",
    "    # b shape: [1]\n",
    "    b_out = tf.Variable(tf.random_normal([size_vocab]),name=\"b_out\")\n",
    "    print(\"bias shape\",b_out.shape)\n",
    "    \n",
    "    # logit shape [# training examples, vocab_size] \n",
    "    outputs_reshaped = tf.reshape(outputs, [num_examples*seq_size, hidden_dim])\n",
    "    print(\"fully connected and reshaped outputs:\", outputs_reshaped) \n",
    "    \n",
    "    network_output = ((tf.matmul(outputs_reshaped,W_out) + b_out))\n",
    "    #print(network_output)\n",
    "          \n",
    "    y_pred = tf.reshape(network_output,[num_examples, seq_size, size_vocab])\n",
    "    print(\"final logits shape:\", y_pred.shape)\n",
    "    \n",
    "    # Cost & Training Step\n",
    "    #cost = -tf.reduce_sum(y*tf.log(y_pred)) #cross_entropy\n",
    "    weights = tf.ones([num_examples,seq_size])\n",
    "    loss = tf.contrib.seq2seq.sequence_loss(y_pred,y,weights) \n",
    "    #cost = tf.reduce_sum(loss)/num_examples\n",
    "    train_op = tf.train.AdamOptimizer(learning_rate=0.01).minimize(loss)\n"
   ]
  },
  {
   "cell_type": "code",
   "execution_count": 37,
   "metadata": {},
   "outputs": [
    {
     "name": "stdout",
     "output_type": "stream",
     "text": [
      "batch_num: 636\n"
     ]
    }
   ],
   "source": [
    "max_itr=10\n",
    "batch_size=50\n",
    "batch_num=len(trainX)//batch_size\n",
    "print(\"batch_num: \" +str(batch_num))"
   ]
  },
  {
   "cell_type": "code",
   "execution_count": 39,
   "metadata": {
    "scrolled": true
   },
   "outputs": [
    {
     "name": "stdout",
     "output_type": "stream",
     "text": [
      "Training...\n",
      "start time: 230054.44841\n",
      "iter   0\n",
      "max batch num: 636\n",
      "  ##batch NUM    100 :\n",
      "    step, train err=      1: 13.84433\n",
      "  ##batch NUM    200 :\n",
      "    step, train err=      1:  9.31387\n",
      "  ##batch NUM    300 :\n",
      "    step, train err=      1:  9.22261\n",
      "  ##batch NUM    400 :\n",
      "    step, train err=      1:  8.27625\n",
      "  ##batch NUM    500 :\n",
      "    step, train err=      1: 13.11502\n",
      "  ##batch NUM    600 :\n",
      "    step, train err=      1: 13.19555\n",
      "iter   1\n",
      "max batch num: 636\n",
      "  ##batch NUM    100 :\n",
      "    step, train err=      2:  8.32924\n",
      "  ##batch NUM    200 :\n",
      "    step, train err=      2:  7.72326\n",
      "  ##batch NUM    300 :\n",
      "    step, train err=      2:  8.12698\n",
      "  ##batch NUM    400 :\n",
      "    step, train err=      2:  6.95408\n",
      "  ##batch NUM    500 :\n",
      "    step, train err=      2:  9.55249\n",
      "  ##batch NUM    600 :\n",
      "    step, train err=      2:  9.68853\n",
      "iter   2\n",
      "max batch num: 636\n",
      "  ##batch NUM    100 :\n",
      "    step, train err=      3:  8.95055\n",
      "  ##batch NUM    200 :\n",
      "    step, train err=      3:  7.70007\n",
      "  ##batch NUM    300 :\n",
      "    step, train err=      3:  8.31160\n",
      "  ##batch NUM    400 :\n",
      "    step, train err=      3:  7.30013\n",
      "  ##batch NUM    500 :\n",
      "    step, train err=      3:  9.78463\n",
      "  ##batch NUM    600 :\n",
      "    step, train err=      3:  9.39517\n",
      "iter   3\n",
      "max batch num: 636\n",
      "  ##batch NUM    100 :\n",
      "    step, train err=      4:  8.81933\n",
      "  ##batch NUM    200 :\n",
      "    step, train err=      4:  7.74399\n",
      "  ##batch NUM    300 :\n",
      "    step, train err=      4:  8.22202\n",
      "  ##batch NUM    400 :\n",
      "    step, train err=      4:  7.16903\n",
      "  ##batch NUM    500 :\n",
      "    step, train err=      4:  9.78158\n",
      "  ##batch NUM    600 :\n",
      "    step, train err=      4:  9.69545\n",
      "iter   4\n",
      "max batch num: 636\n",
      "  ##batch NUM    100 :\n",
      "    step, train err=      5:  8.86065\n",
      "  ##batch NUM    200 :\n",
      "    step, train err=      5:  7.72788\n",
      "  ##batch NUM    300 :\n",
      "    step, train err=      5:  8.35196\n",
      "  ##batch NUM    400 :\n",
      "    step, train err=      5:  7.23702\n",
      "  ##batch NUM    500 :\n",
      "    step, train err=      5:  9.77622\n",
      "  ##batch NUM    600 :\n",
      "    step, train err=      5:  9.44019\n",
      "iter   5\n",
      "max batch num: 636\n",
      "  ##batch NUM    100 :\n",
      "    step, train err=      6:  8.88787\n",
      "  ##batch NUM    200 :\n",
      "    step, train err=      6:  7.71378\n",
      "  ##batch NUM    300 :\n",
      "    step, train err=      6:  8.29491\n",
      "  ##batch NUM    400 :\n",
      "    step, train err=      6:  7.16565\n",
      "  ##batch NUM    500 :\n",
      "    step, train err=      6:  9.74002\n",
      "  ##batch NUM    600 :\n",
      "    step, train err=      6:  9.57118\n",
      "iter   6\n",
      "max batch num: 636\n",
      "  ##batch NUM    100 :\n",
      "    step, train err=      7:  8.86282\n",
      "  ##batch NUM    200 :\n",
      "    step, train err=      7:  7.75837\n",
      "  ##batch NUM    300 :\n",
      "    step, train err=      7:  8.44716\n",
      "  ##batch NUM    400 :\n",
      "    step, train err=      7:  7.19739\n",
      "  ##batch NUM    500 :\n",
      "    step, train err=      7:  9.77663\n",
      "  ##batch NUM    600 :\n",
      "    step, train err=      7:  9.51373\n",
      "iter   7\n",
      "max batch num: 636\n",
      "  ##batch NUM    100 :\n",
      "    step, train err=      8:  8.82164\n",
      "  ##batch NUM    200 :\n",
      "    step, train err=      8:  7.71225\n",
      "  ##batch NUM    300 :\n",
      "    step, train err=      8:  8.32160\n",
      "  ##batch NUM    400 :\n",
      "    step, train err=      8:  7.16168\n",
      "  ##batch NUM    500 :\n",
      "    step, train err=      8:  9.76324\n",
      "  ##batch NUM    600 :\n",
      "    step, train err=      8:  9.48819\n",
      "iter   8\n",
      "max batch num: 636\n",
      "  ##batch NUM    100 :\n",
      "    step, train err=      9:  8.91676\n",
      "  ##batch NUM    200 :\n",
      "    step, train err=      9:  7.72759\n",
      "  ##batch NUM    300 :\n",
      "    step, train err=      9:  8.40687\n",
      "  ##batch NUM    400 :\n",
      "    step, train err=      9:  7.21550\n",
      "  ##batch NUM    500 :\n",
      "    step, train err=      9:  9.71295\n",
      "  ##batch NUM    600 :\n",
      "    step, train err=      9:  9.57326\n",
      "iter   9\n",
      "max batch num: 636\n",
      "  ##batch NUM    100 :\n",
      "    step, train err=     10:  8.80636\n",
      "  ##batch NUM    200 :\n",
      "    step, train err=     10:  7.70959\n",
      "  ##batch NUM    300 :\n",
      "    step, train err=     10:  8.32754\n",
      "  ##batch NUM    400 :\n",
      "    step, train err=     10:  7.15659\n",
      "  ##batch NUM    500 :\n",
      "    step, train err=     10:  9.73202\n",
      "  ##batch NUM    600 :\n",
      "    step, train err=     10:  9.41271\n",
      "  ##batch NUM    635 :\n",
      "    step, train err=     10:  9.43316\n",
      "my training accuracy =  0.05335\n",
      "Training time :  239.26494\n",
      "---------------------------------\n"
     ]
    },
    {
     "ename": "TypeError",
     "evalue": "'numpy.float32' object is not iterable",
     "output_type": "error",
     "traceback": [
      "\u001b[0;31m---------------------------------------------------------------------------\u001b[0m",
      "\u001b[0;31mTypeError\u001b[0m                                 Traceback (most recent call last)",
      "\u001b[0;32m<ipython-input-39-4fd274b1d40a>\u001b[0m in \u001b[0;36m<module>\u001b[0;34m()\u001b[0m\n\u001b[1;32m     41\u001b[0m     \u001b[0;31m####### Test trained model on testing data\u001b[0m\u001b[0;34m\u001b[0m\u001b[0;34m\u001b[0m\u001b[0m\n\u001b[1;32m     42\u001b[0m     \u001b[0mprint\u001b[0m\u001b[0;34m(\u001b[0m\u001b[0;34m'---------------------------------'\u001b[0m\u001b[0;34m)\u001b[0m\u001b[0;34m\u001b[0m\u001b[0m\n\u001b[0;32m---> 43\u001b[0;31m     \u001b[0m_\u001b[0m\u001b[0;34m,\u001b[0m\u001b[0mtest_err\u001b[0m \u001b[0;34m=\u001b[0m \u001b[0msess\u001b[0m\u001b[0;34m.\u001b[0m\u001b[0mrun\u001b[0m\u001b[0;34m(\u001b[0m\u001b[0mloss\u001b[0m\u001b[0;34m,\u001b[0m\u001b[0mfeed_dict\u001b[0m\u001b[0;34m=\u001b[0m\u001b[0;34m{\u001b[0m\u001b[0mx\u001b[0m\u001b[0;34m:\u001b[0m\u001b[0mvalidX\u001b[0m\u001b[0;34m,\u001b[0m\u001b[0my\u001b[0m\u001b[0;34m:\u001b[0m\u001b[0mvalidY\u001b[0m\u001b[0;34m}\u001b[0m\u001b[0;34m)\u001b[0m\u001b[0;34m\u001b[0m\u001b[0m\n\u001b[0m\u001b[1;32m     44\u001b[0m     \u001b[0mprint\u001b[0m\u001b[0;34m(\u001b[0m\u001b[0;34m'test err=  %8.5f'\u001b[0m \u001b[0;34m%\u001b[0m \u001b[0;34m(\u001b[0m\u001b[0mtest_err\u001b[0m\u001b[0;34m)\u001b[0m\u001b[0;34m)\u001b[0m\u001b[0;34m\u001b[0m\u001b[0m\n\u001b[1;32m     45\u001b[0m \u001b[0;34m\u001b[0m\u001b[0m\n",
      "\u001b[0;31mTypeError\u001b[0m: 'numpy.float32' object is not iterable"
     ]
    }
   ],
   "source": [
    "# Run Session\n",
    "\n",
    "with tf.Session(graph=graph) as sess:\n",
    "    # initialize variables\n",
    "    sess.run(tf.global_variables_initializer())\n",
    "    # Run for 1000 iterations (1000 is arbitrary, need a validation set to tune!)\n",
    "    print('Training...')\n",
    "    start=timeit.default_timer()\n",
    "    print(\"start time: %10.5f\"%(start))\n",
    "\n",
    "    for i in range(max_itr): \n",
    "        print(\"iter %3d\" %(i))  \n",
    "        print (\"max batch num: \"+str(batch_num))\n",
    "        for NUM in range(1,batch_num):\n",
    "            batch_trainX=trainX[(NUM-1)*batch_size:NUM*batch_size]\n",
    "            batch_trainY=trainY[(NUM-1)*batch_size:NUM*batch_size]\n",
    "            \n",
    "            _, train_err = sess.run([train_op,loss],feed_dict={x:batch_trainX,y:batch_trainY})\n",
    "\n",
    "            if  NUM % 100 == 0: \n",
    "                print(\"  ##batch NUM %6d :\" %(NUM))\n",
    "                print('    step, train err= %6d: %8.5f' % (i+1,train_err))\n",
    "            \n",
    "            #print('  step, test err= %6d: %8.5f' % (i+1,test_err))\n",
    "            \n",
    "    print(\"  ##batch NUM %6d :\" %(NUM))\n",
    "    print('    step, train err= %6d: %8.5f' % (i+1,train_err))\n",
    "    \n",
    "    ##### Test trained model on training data\n",
    "    predicted_vals_all= sess.run(y_pred,feed_dict={x:trainX})\n",
    "    \n",
    "    # Get predicted value in each predicted sequence:\n",
    "    predicted_vals = np.argmax(predicted_vals_all,2) \n",
    "\n",
    "    #print(\"Dimension check for train:\"+str(np.size(predicted_vals_all,0)==len(trainX)))\n",
    "    myaccuracy=sum([el[1] for el in predicted_vals==trainY])/np.size(predicted_vals_all,0)\n",
    "    print('my training accuracy = %8.5f' % myaccuracy)\n",
    "    \n",
    "    end=timeit.default_timer()\n",
    "    print(\"Training time : %10.5f\"%(end-start))\n",
    "    ####### Test trained model on testing data\n",
    "    print('---------------------------------')\n",
    "    _,test_err = sess.run(loss,feed_dict={x:validX,y:validY})\n",
    "    print('test err=  %8.5f' % (test_err))\n",
    "    \n",
    "    # testing error:\n",
    "    predicted_vals_all_test= sess.run(y_pred,feed_dict={x:validX})\n",
    "    \n",
    "    # Get predicted value in each predicted sequence:\n",
    "    predicted_vals_test = np.argmax(predicted_vals_all_test,2) \n",
    "    \n",
    "    # testing accuracy:\n",
    "    myaccuracy_test=sum([el[1] for el in predicted_vals_test==validY])/np.size(predicted_vals_all_test,0)\n",
    "    print('my testing accuracy = %8.5f' % myaccuracy_test)\n",
    "    print('---------------------------------')\n",
    "    "
   ]
  },
  {
   "cell_type": "markdown",
   "metadata": {},
   "source": [
    "## Compare performance of RNNs, LSTMs, GRUs"
   ]
  },
  {
   "cell_type": "code",
   "execution_count": null,
   "metadata": {
    "collapsed": true
   },
   "outputs": [],
   "source": [
    "import timeit\n",
    "# Encapsulate the entire prediction problem as a function\n",
    "def build_and_predict(trainX,trainY,testX,cell,cellType,input_dim=1,hidden_dim=100,seq_size = 12,max_itr=200):\n",
    "\n",
    "    graph = tf.Graph()\n",
    "    with graph.as_default():\n",
    "        # input place holders\n",
    "        # input Shape: [# training examples, sequence length, # features]\n",
    "        x = tf.placeholder(tf.float32,[None,seq_size,input_dim])\n",
    "        # label Shape: [# training examples, sequence length]\n",
    "        y = tf.placeholder(tf.float32,[None,seq_size])\n",
    "        \n",
    "        \n",
    "        \n",
    "        # RNN output Shape: [# training examples, sequence length, # hidden] \n",
    "        outputs, _ = tf.nn.dynamic_rnn(cell,x,dtype=tf.float32)\n",
    "        \n",
    "        \n",
    "        # weights for output dense layer (i.e., after RNN)\n",
    "        # W shape: [# hidden, 1]\n",
    "        W_out = tf.Variable(tf.random_normal([hidden_dim,1]),name=\"w_out\") \n",
    "        # b shape: [1]\n",
    "        b_out = tf.Variable(tf.random_normal([1]),name=\"b_out\")\n",
    "    \n",
    "        # output dense layer:\n",
    "        num_examples = tf.shape(x)[0] \n",
    "        # convert W from [# hidden, 1] to [# training examples, # hidden, 1]\n",
    "        # step 1: add a new dimension at index 0 using tf.expand_dims\n",
    "        w_exp= tf.expand_dims(W_out,0)\n",
    "        # step 2: duplicate W for 'num_examples' times using tf.tile\n",
    "        W_repeated = tf.tile(w_exp,[num_examples,1,1])\n",
    "        \n",
    "        # Dense Layer calculation: \n",
    "        # [# training examples, sequence length, # hidden] *\n",
    "        # [# training examples, # hidden, 1] = [# training examples, sequence length]\n",
    "        \n",
    "        y_pred = tf.matmul(outputs,W_repeated)+b_out\n",
    "        # Actually, y_pred: [# training examples, sequence length, 1]\n",
    "        # Remove last dimension using tf.squeeze\n",
    "        y_pred = tf.squeeze(y_pred)\n",
    "        \n",
    "        # Cost & Training Step\n",
    "        cost = tf.reduce_mean(tf.square(y_pred-y))\n",
    "        train_op = tf.train.AdamOptimizer(learning_rate=0.01).minimize(cost)\n",
    "        \n",
    "        # Run Session\n",
    "    with tf.Session(graph=graph) as sess:\n",
    "        # initialize variables\n",
    "        sess.run(tf.global_variables_initializer())\n",
    "        # Run for 1000 iterations (1000 is arbitrary, need a validation set to tune!)\n",
    "        start=timeit.default_timer()\n",
    "        print('Training %s ...'%cellType)\n",
    "        for i in range(max_itr): # If we train more, would we overfit? Try 10000\n",
    "            _, train_err = sess.run([train_op,cost],feed_dict={x:trainX,y:trainY})\n",
    "            if i==0:\n",
    "                print('  step, train err= %6d: %8.5f' % (0,train_err)) \n",
    "            elif  (i+1) % 100 == 0: \n",
    "                print('  step, train err= %6d: %8.5f' % (i+1,train_err)) \n",
    "        end=timeit.default_timer()        \n",
    "        print(\"Training time : %10.5f\"%(end-start))\n",
    "         # Test trained model on training data\n",
    "        predicted_vals_all= sess.run(y_pred,feed_dict={x:testX}) \n",
    "        # Get last item in each predicted sequence:\n",
    "        predicted_vals = predicted_vals_all[:,seq_size-1]\n",
    "      \n",
    "    \n",
    "    return predicted_vals"
   ]
  }
 ],
 "metadata": {
  "kernelspec": {
   "display_name": "Python 3",
   "language": "python",
   "name": "python3"
  },
  "language_info": {
   "codemirror_mode": {
    "name": "ipython",
    "version": 3
   },
   "file_extension": ".py",
   "mimetype": "text/x-python",
   "name": "python",
   "nbconvert_exporter": "python",
   "pygments_lexer": "ipython3",
   "version": "3.6.5"
  },
  "toc": {
   "nav_menu": {},
   "number_sections": true,
   "sideBar": true,
   "skip_h1_title": false,
   "title_cell": "Table of Contents",
   "title_sidebar": "Contents",
   "toc_cell": false,
   "toc_position": {},
   "toc_section_display": true,
   "toc_window_display": false
  }
 },
 "nbformat": 4,
 "nbformat_minor": 2
}
