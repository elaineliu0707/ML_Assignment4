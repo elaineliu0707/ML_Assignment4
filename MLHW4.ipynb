{
 "cells": [
  {
   "cell_type": "markdown",
   "metadata": {},
   "source": [
    "# 1 Read data & basic text prerpocessing"
   ]
  },
  {
   "cell_type": "code",
   "execution_count": 1,
   "metadata": {
    "collapsed": true
   },
   "outputs": [],
   "source": [
    "import re\n",
    "import sys\n",
    "import shutil as sh\n",
    "import os"
   ]
  },
  {
   "cell_type": "code",
   "execution_count": 2,
   "metadata": {
    "collapsed": true
   },
   "outputs": [],
   "source": [
    "#path = \"/home/yingjie/Desktop/Machine_Learning/Assignment4/data/\"\n",
    "#path2 = \"/home/yingjie/Desktop/Machine_Learning/Assignment4/data_clean/\"\n",
    "path = \"/Users/Pan/Google Drive/Data Science/Machine Learning/ML_Assignment4/data/\"\n",
    "path2 = \"/Users/Pan/Google Drive/Data Science/Machine Learning/ML_Assignment4/data_clean/\""
   ]
  },
  {
   "cell_type": "code",
   "execution_count": 23,
   "metadata": {
    "collapsed": true
   },
   "outputs": [],
   "source": [
    "def data_preprocess(path,thefile,num_of_reviews=None):    \n",
    "    # Replace all numbers with \"NUM\" special character\n",
    "    num_dec = re.compile(\"[\\d]+\\.[\\d]+\")\n",
    "    num_comma = re.compile(\"[\\d]+,[\\d]+\")\n",
    "    num_reg = re.compile(\"[\\d]+\")\n",
    "\n",
    "    # Detect non-English characters\n",
    "    non_eng = re.compile(\"[^a-zA-Z\\n ]\")\n",
    "    \n",
    "    #open file\n",
    "    file=open(os.path.join(path,thefile), \"r\", encoding=\"iso-8859-15\")\n",
    "    text = file.read().lower()\n",
    "    file.close()\n",
    "    \n",
    "    # Replace various forms of numbers with NUM character\n",
    "    text = num_dec.sub(\"NUM\", text)\n",
    "    text = num_comma.sub(\"NUM\", text)\n",
    "    text = num_reg.sub(\"NUM\", text)\n",
    "\n",
    "    # Replace all non-English characters with a space\n",
    "    text = non_eng.sub(\" \", text)\n",
    "\n",
    "    # Replace double spaces with a single space\n",
    "    text = text.replace(\"  \", \" \")\n",
    "    \n",
    "    # Split the file into reviews based on \\n\n",
    "    text = text.split(\"\\n\")\n",
    "    \n",
    "    if num_of_reviews is None:\n",
    "        num_of_reviews=len(text)\n",
    "        \n",
    "    small_train=''\n",
    "    for i in range(num_of_reviews):\n",
    "        small_train+=text[i]+\" END \"\n",
    "    small_train=[small_train]\n",
    "    \n",
    "    return(small_train)"
   ]
  },
  {
   "cell_type": "code",
   "execution_count": 49,
   "metadata": {
    "collapsed": true,
    "scrolled": false
   },
   "outputs": [],
   "source": [
    "#partial\n",
    "train=data_preprocess(path,\"down_sampled_reviews/train_tiny.txt\",num_of_reviews=1000)\n",
    "valid=data_preprocess(path,\"down_sampled_reviews/valid_tiny.txt\",num_of_reviews=10)"
   ]
  },
  {
   "cell_type": "markdown",
   "metadata": {},
   "source": [
    "## DONT RUN THIS SESSION ##\n",
    "# 2 Create vocabulary - demonstration only\n",
    "\n",
    "\n",
    "reference source:https://stackoverflow.com/questions/40661684/tensorflow-vocabularyprocessor"
   ]
  },
  {
   "cell_type": "code",
   "execution_count": null,
   "metadata": {
    "scrolled": true
   },
   "outputs": [],
   "source": [
    "import numpy as np\n",
    "from tensorflow.contrib import learn"
   ]
  },
  {
   "cell_type": "code",
   "execution_count": null,
   "metadata": {},
   "outputs": [],
   "source": [
    "num_of_reviews=2\n",
    "small_train=''\n",
    "for i in range(num_of_reviews):\n",
    "    small_train+=train[i]+\" END \"\n",
    "small_train=[small_train]\n",
    "small_train"
   ]
  },
  {
   "cell_type": "code",
   "execution_count": null,
   "metadata": {},
   "outputs": [],
   "source": [
    "max_document_length=len(small_train[0].split(\" \"))\n",
    "max_document_length"
   ]
  },
  {
   "cell_type": "code",
   "execution_count": null,
   "metadata": {
    "collapsed": true
   },
   "outputs": [],
   "source": [
    "## Create the vocabularyprocessor object, setting the max lengh of the documents.\n",
    "vocab_processor = learn.preprocessing.VocabularyProcessor(max_document_length)"
   ]
  },
  {
   "cell_type": "code",
   "execution_count": null,
   "metadata": {},
   "outputs": [],
   "source": [
    "## Transform the documents using the vocabulary.\n",
    "train_transformed = np.array(list(vocab_processor.fit_transform(small_train)))\n",
    "train_transformed"
   ]
  },
  {
   "cell_type": "code",
   "execution_count": null,
   "metadata": {},
   "outputs": [],
   "source": [
    "train_transformed=[np.trim_zeros(train_transformed[0], 'b')]\n",
    "train_transformed"
   ]
  },
  {
   "cell_type": "code",
   "execution_count": null,
   "metadata": {},
   "outputs": [],
   "source": [
    "## Extract word:id mapping from the object.\n",
    "vocab_dict = vocab_processor.vocabulary_._mapping\n",
    "vocab_dict['END'] = -1\n",
    "vocab_dict.items()"
   ]
  },
  {
   "cell_type": "code",
   "execution_count": null,
   "metadata": {},
   "outputs": [],
   "source": [
    "len(vocab_dict)"
   ]
  },
  {
   "cell_type": "code",
   "execution_count": null,
   "metadata": {},
   "outputs": [],
   "source": [
    "# -1 is in \n",
    "train_transformed2=np.array(list(vocab_processor.fit_transform(small_train)))\n",
    "train_transformed2=[np.trim_zeros(train_transformed2[0], 'b')]\n",
    "train_transformed2"
   ]
  },
  {
   "cell_type": "code",
   "execution_count": null,
   "metadata": {},
   "outputs": [],
   "source": [
    "## Sort the vocabulary dictionary on the basis of values(id).\n",
    "## Both statements perform same task.\n",
    "#sorted_vocab = sorted(vocab_dict.items(), key=operator.itemgetter(1))\n",
    "sorted_vocab = sorted(vocab_dict.items(), key = lambda x : x[1])\n",
    "## Treat the id's as index into list and create a list of words in the ascending order of id's\n",
    "## word with id i goes at index i of the list.\n",
    "vocabulary = list(list(zip(*sorted_vocab))[1])\n",
    "print(vocabulary)"
   ]
  },
  {
   "cell_type": "code",
   "execution_count": null,
   "metadata": {},
   "outputs": [],
   "source": [
    "seq_size = 2\n",
    "trainX, trainY = [], []\n",
    "max_document_length=len(train_transformed2[0])\n",
    "for i in range(max_document_length): \n",
    "    #[0,1,2,3,4,5,-1,1,2,3,4,5]\n",
    "    if -1 not in train_transformed2[0][i:i+seq_size+1]:\n",
    "        trainX.append(np.expand_dims(train_transformed2[0][i:i+seq_size], axis=1).tolist())\n",
    "        trainY.append(train_transformed2[0][i+1:i+seq_size+1])\n",
    "\n",
    "# Inspect trainX and trainY\n",
    "print(\"X:\\n\",'\\n'.join([str(item) for item in trainX[0:5]]))\n",
    "print(\"Y:\\n\",'\\n'.join([str(item) for item in trainY[0:5]]))"
   ]
  },
  {
   "cell_type": "code",
   "execution_count": null,
   "metadata": {
    "collapsed": true
   },
   "outputs": [],
   "source": [
    "size_vocab = len(vocabulary)"
   ]
  },
  {
   "cell_type": "code",
   "execution_count": null,
   "metadata": {},
   "outputs": [],
   "source": [
    "valid_vocab_processor=learn.preprocessing.VocabularyProcessor(max_document_length,vocab_dict)"
   ]
  },
  {
   "cell_type": "code",
   "execution_count": null,
   "metadata": {},
   "outputs": [],
   "source": [
    "small_train=''\n",
    "for i in range(1):\n",
    "    small_train+=valid[i]+\" END \"\n",
    "small_train=[small_train]\n",
    "np.array(list(vocab_processor.fit_transform(small_train)))"
   ]
  },
  {
   "cell_type": "code",
   "execution_count": null,
   "metadata": {},
   "outputs": [],
   "source": [
    "small_train"
   ]
  },
  {
   "cell_type": "markdown",
   "metadata": {},
   "source": [
    "# 2b Create vocabulary through a function"
   ]
  },
  {
   "cell_type": "code",
   "execution_count": 5,
   "metadata": {},
   "outputs": [
    {
     "name": "stderr",
     "output_type": "stream",
     "text": [
      "/Users/Pan/anaconda/lib/python3.6/site-packages/h5py/__init__.py:34: FutureWarning: Conversion of the second argument of issubdtype from `float` to `np.floating` is deprecated. In future, it will be treated as `np.float64 == np.dtype(float).type`.\n",
      "  from ._conv import register_converters as _register_converters\n"
     ]
    }
   ],
   "source": [
    "import numpy as np\n",
    "from tensorflow.contrib import learn"
   ]
  },
  {
   "cell_type": "code",
   "execution_count": 50,
   "metadata": {
    "collapsed": true
   },
   "outputs": [],
   "source": [
    "def train_textlst_2_vocab(text,seq_size = 2):   \n",
    "    max_document_length=len(text[0].split(\" \"))\n",
    "    \n",
    "    ## Create the vocabularyprocessor object, setting the max lengh of the documents.\n",
    "    vocab_processor = learn.preprocessing.VocabularyProcessor(max_document_length)\n",
    "        \n",
    "\n",
    "    ## Transform the documents using the vocabulary.\n",
    "    train_transformed = np.array(list(vocab_processor.fit_transform(text)))\n",
    "    \n",
    "    vocab_dict = vocab_processor.vocabulary_._mapping\n",
    "    vocab_dict['END'] = -1\n",
    "\n",
    "    ## Extract word:id mapping from the object.\n",
    "    vocab_dict = vocab_processor.vocabulary_\n",
    "\n",
    "    train_transformed=np.array(list(vocab_processor.fit_transform(text)))\n",
    "    train_transformed=[np.trim_zeros(train_transformed[0], 'b')] #trim zero at the end\n",
    "    \n",
    "    trainX, trainY = [], []\n",
    "    max_document_length=len(train_transformed[0])\n",
    "    for i in range(max_document_length): \n",
    "        #[0,1,2,3,4,5,-1,1,2,3,4,5]\n",
    "        if -1 not in train_transformed[0][i:i+seq_size+1]:\n",
    "            trainX.append(np.expand_dims(train_transformed[0][i:i+seq_size], axis=1).tolist())\n",
    "            trainY.append(train_transformed[0][i+1:i+seq_size+1])\n",
    "    \n",
    "    size_vocab = len(vocab_dict)\n",
    "    \n",
    "    return trainX,trainY,size_vocab,vocab_dict,max_document_length"
   ]
  },
  {
   "cell_type": "code",
   "execution_count": 51,
   "metadata": {},
   "outputs": [
    {
     "name": "stdout",
     "output_type": "stream",
     "text": [
      "16044\n",
      "X:\n",
      " [[1], [2]]\n",
      "[[2], [3]]\n",
      "[[3], [4]]\n",
      "[[4], [5]]\n",
      "[[5], [6]]\n",
      "Y:\n",
      " [2 3]\n",
      "[3 4]\n",
      "[4 5]\n",
      "[5 6]\n",
      "[6 7]\n"
     ]
    }
   ],
   "source": [
    "seq_size=2\n",
    "trainX,trainY,size_vocab,train_vocab,max_document_length=train_textlst_2_vocab(train,seq_size = seq_size)\n",
    "print(size_vocab)\n",
    "print(\"X:\\n\",'\\n'.join([str(item) for item in trainX[0:5]]))\n",
    "print(\"Y:\\n\",'\\n'.join([str(item) for item in trainY[0:5]]))"
   ]
  },
  {
   "cell_type": "markdown",
   "metadata": {},
   "source": [
    "Use train vacabulary to convert valid dataset"
   ]
  },
  {
   "cell_type": "code",
   "execution_count": 52,
   "metadata": {},
   "outputs": [],
   "source": [
    "vocab_processor = learn.preprocessing.VocabularyProcessor(max_document_length,vocabulary=train_vocab)\n",
    "\n",
    "## Transform the documents using the vocabulary.\n",
    "train_transformed =np.array(list(vocab_processor.fit_transform(valid)))\n",
    "train_transformed =[np.trim_zeros(train_transformed[0], 'b')] #trim zero at the end\n",
    "\n",
    "## Extract word:id mapping from the object.\n",
    "train_vocab = vocab_processor.vocabulary_._mapping\n",
    "\n",
    "validX, validY = [], []\n",
    "max_document_length=len(train_transformed[0])\n",
    "for i in range(max_document_length): \n",
    "    #[0,1,2,3,4,5,-1,1,2,3,4,5]\n",
    "    if -1 not in train_transformed[0][i:i+seq_size+1]:\n",
    "        validX.append(np.expand_dims(train_transformed[0][i:i+seq_size], axis=1).tolist())\n",
    "        validY.append(train_transformed[0][i+1:i+seq_size+1])"
   ]
  },
  {
   "cell_type": "code",
   "execution_count": 53,
   "metadata": {},
   "outputs": [
    {
     "name": "stdout",
     "output_type": "stream",
     "text": [
      "True\n",
      "16044\n",
      "[[[1], [74]], [[74], [11]], [[11], [0]], [[0], [51]], [[51], [828]]]\n",
      "[array([74, 11]), array([11,  0]), array([ 0, 51]), array([ 51, 828]), array([828, 174])]\n"
     ]
    }
   ],
   "source": [
    "print(train_vocab.items()==train_vocab.items() )#match then good\n",
    "print(size_vocab)\n",
    "print(validX[0:5])\n",
    "print(validY[0:5])"
   ]
  },
  {
   "cell_type": "markdown",
   "metadata": {},
   "source": [
    "# TF setup\n",
    "\n",
    "    # output dense layer:\n",
    "    # convert W from [# hidden, 1] to [# training examples, # hidden, 1]\n",
    "    # step 1: add a new dimension at index 0 using tf.expand_dims\n",
    "    #w_exp= tf.expand_dims(W_out,0)\n",
    "    # step 2: duplicate W for 'num_examples' times using tf.tile\n",
    "    #W_repeated = tf.tile(w_exp,[num_examples,1,1])\n",
    "    \n",
    "    # Dense Layer calculation: \n",
    "    # [# training examples, sequence length, # hidden] *\n",
    "    # [# training examples, # hidden, 1] = [# training examples, sequence length]\n",
    "    \n",
    "    # Actually, y_pred: [# training examples, sequence length, 1]\n",
    "    # Remove last dimension using tf.squeeze\n",
    "    #y_pred = tf.add(tf.matmul(logit, W_repeated),b_out)\n",
    "    #y_pred = tf.squeeze(y_pred)    # [# training examples, sequence length]\n",
    "    #y_pred = tf.reshape(y_pred)\n",
    "    \n",
    "    #num_examples= tf.cast(num_examples, tf.float32)"
   ]
  },
  {
   "cell_type": "code",
   "execution_count": 37,
   "metadata": {
    "collapsed": true
   },
   "outputs": [],
   "source": [
    "%matplotlib inline\n",
    "\n",
    "import pandas as pd\n",
    "import numpy as np\n",
    "import matplotlib.pyplot as plt\n",
    "import tensorflow as tf\n",
    "from tensorflow.contrib import rnn\n",
    "from sklearn.preprocessing import MinMaxScaler\n",
    "import timeit"
   ]
  },
  {
   "cell_type": "code",
   "execution_count": 54,
   "metadata": {},
   "outputs": [
    {
     "name": "stdout",
     "output_type": "stream",
     "text": [
      "input shape: (?, 2, 1)\n",
      "ground truth shape: (?, 2)\n",
      "output from tf,nn.dynamic_rnn shape (?, 2, 100)\n",
      "reshaped output from RNN shape: (?, 2, 100)\n",
      "weights shape: (100, 16044)\n",
      "bias shape (16044,)\n",
      "fully connected and reshaped outputs: Tensor(\"Reshape:0\", shape=(?, 100), dtype=float32)\n",
      "final logits shape: (?, 2, 16044)\n"
     ]
    }
   ],
   "source": [
    "# Build computational graph\n",
    "#input_dim=1 # dim > 1 for multivariate time series\n",
    "hidden_dim=100 # number of hiddent units h\n",
    "graph = tf.Graph()\n",
    "\n",
    "with graph.as_default():\n",
    "    # input place holders\n",
    "    # input Shape: [# training examples, sequence length, # features]\n",
    "    x = tf.placeholder(tf.float32,[None,seq_size,1])\n",
    "    print(\"input shape:\", x.shape)\n",
    "    \n",
    "    # label Shape: [# training examples, sequence length]\n",
    "    y = tf.placeholder(tf.int32,[None,seq_size])\n",
    "    print(\"ground truth shape:\", y.shape)\n",
    "    \n",
    "    num_examples = tf.shape(x)[0]\n",
    "    \n",
    "    # RNN Network\n",
    "    cell = rnn.BasicRNNCell(hidden_dim)\n",
    "    \n",
    "    # RNN output Shape: [# training examples, sequence length, # hidden] \n",
    "    outputs, _ = tf.nn.dynamic_rnn(cell,x,dtype=tf.float32)\n",
    "    print(\"output from tf,nn.dynamic_rnn shape\", outputs.shape)\n",
    "    \n",
    "    #outputs = tf.reshape(outputs, [num_examples*seq_size, hidden_dim])\n",
    "    print(\"reshaped output from RNN shape:\", outputs.shape)\n",
    "    \n",
    "    # weights for output dense layer (i.e., after RNN)\n",
    "    # W shape: [# hidden, 1]\n",
    "    W_out = tf.Variable(tf.random_normal([hidden_dim,size_vocab]),name=\"w_out\")\n",
    "    print(\"weights shape:\", W_out.shape)\n",
    "    # b shape: [1]\n",
    "    b_out = tf.Variable(tf.random_normal([size_vocab]),name=\"b_out\")\n",
    "    print(\"bias shape\",b_out.shape)\n",
    "    \n",
    "    # logit shape [# training examples, vocab_size] \n",
    "    outputs_reshaped = tf.reshape(outputs, [num_examples*seq_size, hidden_dim])\n",
    "    print(\"fully connected and reshaped outputs:\", outputs_reshaped) \n",
    "    \n",
    "    network_output = ((tf.matmul(outputs_reshaped,W_out) + b_out))\n",
    "    #print(network_output)\n",
    "          \n",
    "    y_pred = tf.reshape(network_output,[num_examples, seq_size, size_vocab])\n",
    "    print(\"final logits shape:\", y_pred.shape)\n",
    "    \n",
    "    # Cost & Training Step\n",
    "    #cost = -tf.reduce_sum(y*tf.log(y_pred)) #cross_entropy\n",
    "    weights = tf.ones([num_examples,seq_size])\n",
    "    loss = tf.contrib.seq2seq.sequence_loss(y_pred,y,weights) \n",
    "    cost = tf.reduce_mean(loss)\n",
    "    train_op = tf.train.AdamOptimizer(learning_rate=0.01).minimize(cost)\n"
   ]
  },
  {
   "cell_type": "code",
   "execution_count": 55,
   "metadata": {},
   "outputs": [
    {
     "name": "stdout",
     "output_type": "stream",
     "text": [
      "batch_num: 3383\n"
     ]
    }
   ],
   "source": [
    "max_itr=2\n",
    "batch_size=50\n",
    "batch_num=len(trainX)//batch_size\n",
    "print(\"batch_num: \" +str(batch_num))"
   ]
  },
  {
   "cell_type": "code",
   "execution_count": null,
   "metadata": {
    "scrolled": true
   },
   "outputs": [
    {
     "name": "stdout",
     "output_type": "stream",
     "text": [
      "Training...\n",
      "iter   0\n",
      "max batch num: 3383\n",
      "    batch NUM      1 :     train err= 30.37840\n",
      "    batch NUM    300 :     train err=  9.90251\n",
      "    batch NUM    600 :     train err= 12.39724\n",
      "    batch NUM    900 :     train err=  9.54453\n",
      "    batch NUM   1000 :     **test err**= 10.83766\n",
      "    batch NUM   1200 :     train err= 10.10866\n",
      "    batch NUM   1500 :     train err= 12.13361\n",
      "    batch NUM   1800 :     train err= 11.44240\n",
      "    batch NUM   2000 :     **test err**= 10.34839\n",
      "    batch NUM   2100 :     train err=  9.10464\n",
      "    batch NUM   2400 :     train err=  9.60772\n",
      "    batch NUM   2700 :     train err=  8.74512\n",
      "    batch NUM   3000 :     train err=  7.25684\n",
      "    batch NUM   3000 :     **test err**= 10.33231\n",
      "    batch NUM   3300 :     train err= 10.30565\n",
      "    batch NUM   3382 :     train err=  7.51345\n",
      "test err=  10.31375\n",
      "---------------------------------\n",
      "iter   1\n",
      "max batch num: 3383\n",
      "    batch NUM      1 :     train err=  8.91340\n",
      "    batch NUM    300 :     train err=  9.06131\n"
     ]
    }
   ],
   "source": [
    "# Run Session\n",
    "\n",
    "with tf.Session(graph=graph) as sess:\n",
    "    # initialize variables\n",
    "    sess.run(tf.global_variables_initializer())\n",
    "    # Run for 1000 iterations (1000 is arbitrary, need a validation set to tune!)\n",
    "    print('Training...')\n",
    "    start=timeit.default_timer()\n",
    "\n",
    "    for i in range(max_itr): \n",
    "        print(\"iter %3d\" %(i))  \n",
    "        print (\"max batch num: \"+str(batch_num))\n",
    "        for NUM in range(1,batch_num):\n",
    "            batch_trainX=trainX[(NUM-1)*batch_size:NUM*batch_size]\n",
    "            batch_trainY=trainY[(NUM-1)*batch_size:NUM*batch_size]\n",
    "            \n",
    "            _, train_err = sess.run([train_op,cost],feed_dict={x:batch_trainX,y:batch_trainY})\n",
    "            if NUM ==1:\n",
    "                print(\"    batch NUM %6d :     train err= %8.5f\" %(NUM,train_err))\n",
    "            elif  NUM % 300 == 0: \n",
    "                print(\"    batch NUM %6d :     train err= %8.5f\" %(NUM,train_err))\n",
    "            elif NUM==batch_num-1:\n",
    "                print(\"    batch NUM %6d :     train err= %8.5f\" %(NUM,train_err))\n",
    "                \n",
    "            if  NUM % 1000 == 0:  #for large batch num, check test_error.\n",
    "                test_err = sess.run(cost,feed_dict={x:validX,y:validY})\n",
    "                print(\"    batch NUM %6d :     **test err**= %8.5f\" %(NUM,test_err))\n",
    "                \n",
    "        test_err = sess.run(cost,feed_dict={x:validX,y:validY})\n",
    "        print('test err=  %8.5f' % (test_err))\n",
    "        print('---------------------------------')\n",
    "        \n",
    "    end=timeit.default_timer()\n",
    "    print(\"Training time : %10.5f\"%(end-start))\n",
    "    \n",
    "    \n",
    "    ##### Test trained model on training data ######\n",
    "    predicted_vals_all= sess.run(y_pred,feed_dict={x:trainX})\n",
    "    \n",
    "    # Get predicted value in each predicted sequence:\n",
    "    predicted_vals = np.argmax(predicted_vals_all,2) \n",
    "\n",
    "    #print(\"Dimension check for train:\"+str(np.size(predicted_vals_all,0)==len(trainX)))\n",
    "    myaccuracy=sum([el[1] for el in predicted_vals==trainY])/np.size(predicted_vals_all,0)\n",
    "    print('my training accuracy = %8.5f' % myaccuracy)\n",
    "    \n",
    "    \n",
    "    ####### Test trained model on testing data #######\n",
    "    predicted_vals_all_test= sess.run(y_pred,feed_dict={x:validX})\n",
    "    \n",
    "    # Get predicted value in each predicted sequence:\n",
    "    predicted_vals_test = np.argmax(predicted_vals_all_test,2) \n",
    "    \n",
    "    # testing accuracy:\n",
    "    myaccuracy_test=sum([el[1] for el in predicted_vals_test==validY])/np.size(predicted_vals_all_test,0)\n",
    "    print('my testing accuracy = %8.5f' % myaccuracy_test)\n",
    "\n",
    "    "
   ]
  },
  {
   "cell_type": "code",
   "execution_count": null,
   "metadata": {},
   "outputs": [],
   "source": []
  },
  {
   "cell_type": "markdown",
   "metadata": {},
   "source": [
    "## Compare performance of RNNs, LSTMs, GRUs"
   ]
  },
  {
   "cell_type": "code",
   "execution_count": null,
   "metadata": {
    "collapsed": true
   },
   "outputs": [],
   "source": [
    "import timeit\n",
    "# Encapsulate the entire prediction problem as a function\n",
    "def build_and_predict(trainX,trainY,testX,cell,cellType,input_dim=1,hidden_dim=100,seq_size = 12,max_itr=200):\n",
    "\n",
    "    graph = tf.Graph()\n",
    "    with graph.as_default():\n",
    "        # input place holders\n",
    "        # input Shape: [# training examples, sequence length, # features]\n",
    "        x = tf.placeholder(tf.float32,[None,seq_size,input_dim])\n",
    "        # label Shape: [# training examples, sequence length]\n",
    "        y = tf.placeholder(tf.float32,[None,seq_size])\n",
    "        \n",
    "        \n",
    "        \n",
    "        # RNN output Shape: [# training examples, sequence length, # hidden] \n",
    "        outputs, _ = tf.nn.dynamic_rnn(cell,x,dtype=tf.float32)\n",
    "        \n",
    "        \n",
    "        # weights for output dense layer (i.e., after RNN)\n",
    "        # W shape: [# hidden, 1]\n",
    "        W_out = tf.Variable(tf.random_normal([hidden_dim,1]),name=\"w_out\") \n",
    "        # b shape: [1]\n",
    "        b_out = tf.Variable(tf.random_normal([1]),name=\"b_out\")\n",
    "    \n",
    "        # output dense layer:\n",
    "        num_examples = tf.shape(x)[0] \n",
    "        # convert W from [# hidden, 1] to [# training examples, # hidden, 1]\n",
    "        # step 1: add a new dimension at index 0 using tf.expand_dims\n",
    "        w_exp= tf.expand_dims(W_out,0)\n",
    "        # step 2: duplicate W for 'num_examples' times using tf.tile\n",
    "        W_repeated = tf.tile(w_exp,[num_examples,1,1])\n",
    "        \n",
    "        # Dense Layer calculation: \n",
    "        # [# training examples, sequence length, # hidden] *\n",
    "        # [# training examples, # hidden, 1] = [# training examples, sequence length]\n",
    "        \n",
    "        y_pred = tf.matmul(outputs,W_repeated)+b_out\n",
    "        # Actually, y_pred: [# training examples, sequence length, 1]\n",
    "        # Remove last dimension using tf.squeeze\n",
    "        y_pred = tf.squeeze(y_pred)\n",
    "        \n",
    "        # Cost & Training Step\n",
    "        cost = tf.reduce_mean(tf.square(y_pred-y))\n",
    "        train_op = tf.train.AdamOptimizer(learning_rate=0.01).minimize(cost)\n",
    "        \n",
    "        # Run Session\n",
    "    with tf.Session(graph=graph) as sess:\n",
    "        # initialize variables\n",
    "        sess.run(tf.global_variables_initializer())\n",
    "        # Run for 1000 iterations (1000 is arbitrary, need a validation set to tune!)\n",
    "        start=timeit.default_timer()\n",
    "        print('Training %s ...'%cellType)\n",
    "        for i in range(max_itr): # If we train more, would we overfit? Try 10000\n",
    "            _, train_err = sess.run([train_op,cost],feed_dict={x:trainX,y:trainY})\n",
    "            if i==0:\n",
    "                print('  step, train err= %6d: %8.5f' % (0,train_err)) \n",
    "            elif  (i+1) % 100 == 0: \n",
    "                print('  step, train err= %6d: %8.5f' % (i+1,train_err)) \n",
    "        end=timeit.default_timer()        \n",
    "        print(\"Training time : %10.5f\"%(end-start))\n",
    "         # Test trained model on training data\n",
    "        predicted_vals_all= sess.run(y_pred,feed_dict={x:testX}) \n",
    "        # Get last item in each predicted sequence:\n",
    "        predicted_vals = predicted_vals_all[:,seq_size-1]\n",
    "      \n",
    "    \n",
    "    return predicted_vals"
   ]
  }
 ],
 "metadata": {
  "kernelspec": {
   "display_name": "Python 3",
   "language": "python",
   "name": "python3"
  },
  "language_info": {
   "codemirror_mode": {
    "name": "ipython",
    "version": 3
   },
   "file_extension": ".py",
   "mimetype": "text/x-python",
   "name": "python",
   "nbconvert_exporter": "python",
   "pygments_lexer": "ipython3",
   "version": "3.6.5"
  },
  "toc": {
   "nav_menu": {},
   "number_sections": true,
   "sideBar": true,
   "skip_h1_title": false,
   "title_cell": "Table of Contents",
   "title_sidebar": "Contents",
   "toc_cell": false,
   "toc_position": {},
   "toc_section_display": true,
   "toc_window_display": false
  }
 },
 "nbformat": 4,
 "nbformat_minor": 2
}
