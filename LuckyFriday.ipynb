{
 "cells": [
  {
   "cell_type": "code",
   "execution_count": 2,
   "metadata": {
    "collapsed": true
   },
   "outputs": [],
   "source": [
    "import re\n",
    "import sys\n",
    "import shutil as sh\n",
    "import os"
   ]
  },
  {
   "cell_type": "code",
   "execution_count": 3,
   "metadata": {
    "collapsed": true
   },
   "outputs": [],
   "source": [
    "path = \"/home/yingjie/Desktop/Machine_Learning/Assignment4/data/\"\n",
    "path2 = \"/home/yingjie/Desktop/Machine_Learning/Assignment4/data_clean/\"\n",
    "#path = \"/Users/Pan/Google Drive/Data Science/Machine Learning/ML_Assignment4/data/\"\n",
    "#path2 = \"/Users/Pan/Google Drive/Data Science/Machine Learning/ML_Assignment4/data_clean/\""
   ]
  },
  {
   "cell_type": "code",
   "execution_count": 4,
   "metadata": {
    "collapsed": true
   },
   "outputs": [],
   "source": [
    "def data_preprocess(path,thefile,num_of_reviews=None):    \n",
    "    # Replace all numbers with \"NUM\" special character\n",
    "    num_dec = re.compile(\"[\\d]+\\.[\\d]+\")\n",
    "    num_comma = re.compile(\"[\\d]+,[\\d]+\")\n",
    "    num_reg = re.compile(\"[\\d]+\")\n",
    "\n",
    "    # Detect non-English characters\n",
    "    non_eng = re.compile(\"[^a-zA-Z\\n ]\")\n",
    "    \n",
    "    #open file\n",
    "    file=open(os.path.join(path,thefile), \"r\", encoding=\"iso-8859-15\")\n",
    "    text = file.read().lower()\n",
    "    file.close()\n",
    "    \n",
    "    # Replace various forms of numbers with NUM character\n",
    "    text = num_dec.sub(\"NUM\", text)\n",
    "    text = num_comma.sub(\"NUM\", text)\n",
    "    text = num_reg.sub(\"NUM\", text)\n",
    "\n",
    "    # Replace all non-English characters with a space\n",
    "    text = non_eng.sub(\" \", text)\n",
    "\n",
    "    # Replace double spaces with a single space\n",
    "    text = text.replace(\"  \", \" \")\n",
    "    \n",
    "    # Split the file into reviews based on \\n\n",
    "    text = text.split(\"\\n\")\n",
    "    \n",
    "    if num_of_reviews is None:\n",
    "        num_of_reviews=len(text)\n",
    "        \n",
    "    small_train=''\n",
    "    for i in range(num_of_reviews):\n",
    "        small_train+=text[i]+\" END \"\n",
    "    small_train=[small_train]\n",
    "    \n",
    "    return(small_train)"
   ]
  },
  {
   "cell_type": "code",
   "execution_count": 5,
   "metadata": {
    "collapsed": true
   },
   "outputs": [],
   "source": [
    "#full\n",
    "train=data_preprocess(path,\"down_sampled_reviews/train_tiny.txt\")\n",
    "valid=data_preprocess(path,\"down_sampled_reviews/valid_tiny.txt\")"
   ]
  },
  {
   "cell_type": "code",
   "execution_count": 6,
   "metadata": {
    "collapsed": true
   },
   "outputs": [],
   "source": [
    "#partial\n",
    "train=data_preprocess(path,\"down_sampled_reviews/train_tiny.txt\",num_of_reviews=50)\n",
    "valid=data_preprocess(path,\"down_sampled_reviews/valid_tiny.txt\",num_of_reviews=10)"
   ]
  },
  {
   "cell_type": "markdown",
   "metadata": {},
   "source": [
    "## Convert Train to IDs"
   ]
  },
  {
   "cell_type": "code",
   "execution_count": 7,
   "metadata": {},
   "outputs": [
    {
     "name": "stderr",
     "output_type": "stream",
     "text": [
      "/home/yingjie/anaconda3/lib/python3.6/site-packages/h5py/__init__.py:36: FutureWarning: Conversion of the second argument of issubdtype from `float` to `np.floating` is deprecated. In future, it will be treated as `np.float64 == np.dtype(float).type`.\n",
      "  from ._conv import register_converters as _register_converters\n"
     ]
    }
   ],
   "source": [
    "import numpy as np\n",
    "from tensorflow.contrib import learn"
   ]
  },
  {
   "cell_type": "code",
   "execution_count": 8,
   "metadata": {
    "collapsed": true
   },
   "outputs": [],
   "source": [
    "def train_textlst_2_vocab(text,seq_size = 2):   \n",
    "    max_document_length=len(text[0].split(\" \"))\n",
    "    \n",
    "    ## Create the vocabularyprocessor object, setting the max lengh of the documents.\n",
    "    vocab_processor = learn.preprocessing.VocabularyProcessor(max_document_length)   \n",
    "\n",
    "    ## Transform the documents using the vocabulary.\n",
    "    train_transformed = np.array(list(vocab_processor.fit_transform(text)))\n",
    "    \n",
    "    vocab_dict = vocab_processor.vocabulary_._mapping\n",
    "    vocab_dict['END'] = -1\n",
    "\n",
    "    ## Extract word:id mapping from the object.\n",
    "    vocab_dict = vocab_processor.vocabulary_\n",
    "\n",
    "    train_transformed=np.array(list(vocab_processor.fit_transform(text)))\n",
    "    train_transformed=[np.trim_zeros(train_transformed[0], 'b')] #trim zero at the end\n",
    "    \n",
    "    trainX, trainY = [], []\n",
    "    max_document_length=len(train_transformed[0])\n",
    "    for i in range(max_document_length): \n",
    "        #[0,1,2,3,4,5,-1,1,2,3,4,5]\n",
    "        if -1 not in train_transformed[0][i:i+seq_size+1]:\n",
    "            trainX.append(np.expand_dims(train_transformed[0][i:i+seq_size], axis=1).tolist())\n",
    "            trainY.append(train_transformed[0][i+1:i+seq_size+1])\n",
    "    \n",
    "    size_vocab = len(vocab_dict)\n",
    "    \n",
    "    return trainX,trainY,size_vocab,vocab_dict"
   ]
  },
  {
   "cell_type": "code",
   "execution_count": 9,
   "metadata": {},
   "outputs": [
    {
     "name": "stdout",
     "output_type": "stream",
     "text": [
      "2283\n",
      "X:\n",
      " [[1], [2]]\n",
      "[[2], [3]]\n",
      "[[3], [4]]\n",
      "[[4], [5]]\n",
      "[[5], [6]]\n",
      "Y:\n",
      " [2 3]\n",
      "[3 4]\n",
      "[4 5]\n",
      "[5 6]\n",
      "[6 7]\n"
     ]
    }
   ],
   "source": [
    "seq_size=2\n",
    "trainX,trainY,size_vocab,train_vocab=train_textlst_2_vocab(train,seq_size = seq_size)\n",
    "print(size_vocab)\n",
    "print(\"X:\\n\",'\\n'.join([str(item) for item in trainX[0:5]]))\n",
    "print(\"Y:\\n\",'\\n'.join([str(item) for item in trainY[0:5]]))"
   ]
  },
  {
   "cell_type": "markdown",
   "metadata": {},
   "source": [
    "## Convert Valid to IDs"
   ]
  },
  {
   "cell_type": "code",
   "execution_count": 10,
   "metadata": {
    "collapsed": true
   },
   "outputs": [],
   "source": [
    "max_document_length=len(train[0].split(\" \"))"
   ]
  },
  {
   "cell_type": "code",
   "execution_count": 11,
   "metadata": {
    "collapsed": true
   },
   "outputs": [],
   "source": [
    "vocab_processor = learn.preprocessing.VocabularyProcessor(max_document_length,vocabulary=train_vocab)\n",
    "\n",
    "## Transform the documents using the vocabulary.\n",
    "train_transformed =np.array(list(vocab_processor.fit_transform(valid)))\n",
    "train_transformed=[np.trim_zeros(train_transformed[0], 'b')] #trim zero at the end\n",
    "\n",
    "## Extract word:id mapping from the object.\n",
    "valid_vocab = vocab_processor.vocabulary_\n",
    "\n",
    "validX, validY = [], []\n",
    "\n",
    "for i in range(max_document_length): \n",
    "    #[0,1,2,3,4,5,-1,1,2,3,4,5]\n",
    "    if -1 not in train_transformed[0][i:i+seq_size+1]:\n",
    "        validX.append(np.expand_dims(train_transformed[0][i:i+seq_size], axis=1).tolist())\n",
    "        validY.append(train_transformed[0][i+1:i+seq_size+1])"
   ]
  },
  {
   "cell_type": "code",
   "execution_count": 12,
   "metadata": {},
   "outputs": [
    {
     "name": "stdout",
     "output_type": "stream",
     "text": [
      "dict_items([('<UNK>', 0), ('i', 1), ('don', 2), ('t', 3), ('know', 4), ('why', 5), ('but', 6), ('flexaril', 7), ('just', 8), ('isn', 9), ('doing', 10), ('the', 11), ('trick', 12), ('for', 13), ('me', 14), ('anymore', 15), ('m', 16), ('shocked', 17), ('by', 18), ('how', 19), ('well', 20), ('this', 21), ('product', 22), ('works', 23), ('muscle', 24), ('spasms', 25), ('suppose', 26), ('valerian', 27), ('and', 28), ('passiflora', 29), ('which', 30), ('are', 31), ('also', 32), ('mental', 33), ('relaxants', 34), ('along', 35), ('with', 36), ('magnesium', 37), ('cramping', 38), ('help', 39), ('give', 40), ('you', 41), ('that', 42), ('over', 43), ('all', 44), ('feeling', 45), ('of', 46), ('ahhh', 47), ('not', 48), ('everything', 49), ('everyone', 50), ('it', 51), ('s', 52), ('a', 53), ('relatively', 54), ('expensive', 55), ('purchase', 56), ('if', 57), ('doesn', 58), ('re', 59), ('need', 60), ('one', 61), ('their', 62), ('other', 63), ('vitamins', 64), ('order', 65), ('those', 66), ('they', 67), ('ll', 68), ('send', 69), ('free', 70), ('trial', 71), ('valerin', 72), ('can', 73), ('find', 74), ('out', 75), ('yourself', 76), ('got', 77), ('to', 78), ('experience', 79), ('ordered', 80), ('cinnamon', 81), ('blood', 82), ('sugar', 83), ('support', 84), ('sample', 85), ('take', 86), ('at', 87), ('night', 88), ('schiff', 89), ('melatonin', 90), ('plus', 91), ('total', 92), ('relaxation', 93), ('comes', 94), ('swiftly', 95), ('long', 96), ('vivid', 97), ('dreams', 98), ('follow', 99), ('side', 100), ('effect', 101), ('really', 102), ('enjoy', 103), ('like', 104), ('so', 105), ('much', 106), ('ve', 107), ('been', 108), ('passing', 109), ('pusher', 110), ('telling', 111), ('people', 112), ('try', 113), ('awesome', 114), ('END', -1), ('most', 116), ('innovative', 117), ('concept', 118), ('in', 119), ('marketing', 120), ('galdwell', 121), ('did', 122), ('very', 123), ('good', 124), ('job', 125), ('explaining', 126), ('complex', 127), ('phenomena', 128), ('giving', 129), ('easy', 130), ('examples', 131), ('particularly', 132), ('boston', 133), ('tea', 134), ('party', 135), ('example', 136), ('these', 137), ('being', 138), ('used', 139), ('feel', 140), ('replace', 141), ('battery', 142), ('handsets', 143), ('as', 144), ('reception', 145), ('short', 146), ('life', 147), ('was', 148), ('bargain', 149), ('my', 150), ('previous', 151), ('phone', 152), ('had', 153), ('kicked', 154), ('off', 155), ('no', 156), ('chance', 157), ('return', 158), ('up', 159), ('front', 160), ('spend', 161), ('little', 162), ('more', 163), ('get', 164), ('lint', 165), ('lizard', 166), ('thing', 167), ('is', 168), ('cheap', 169), ('knock', 170), ('starters', 171), ('wouldn', 172), ('fit', 173), ('on', 174), ('standard', 175), ('household', 176), ('vacuum', 177), ('cleaner', 178), ('make', 179), ('slit', 180), ('spot', 181), ('attachment', 182), ('after', 183), ('struggling', 184), ('finally', 185), ('hooked', 186), ('shop', 187), ('vac', 188), ('perfectly', 189), ('general', 190), ('idea', 191), ('disappointing', 192), ('needed', 193), ('clean', 194), ('dryer', 195), ('has', 196), ('service', 197), ('several', 198), ('days', 199), ('due', 200), ('build', 201), ('living', 202), ('gravel', 203), ('road', 204), ('country', 205), ('things', 206), ('dustier', 207), ('than', 208), ('normal', 209), ('meaning', 210), ('regular', 211), ('cleaning', 212), ('once', 213), ('fired', 214), ('attempted', 215), ('vent', 216), ('going', 217), ('straight', 218), ('does', 219), ('pretty', 220), ('start', 221), ('bending', 222), ('hose', 223), ('catch', 224), ('nooks', 225), ('crannies', 226), ('kinks', 227), ('loses', 228), ('suction', 229), ('helpful', 230), ('managed', 231), ('do', 232), ('what', 233), ('fussing', 234), ('fuming', 235), ('meantime', 236), ('stupid', 237), ('stuck', 238), ('down', 239), ('cut', 240), ('hand', 241), ('pieces', 242), ('trying', 243), ('dig', 244), ('greatest', 245), ('since', 246), ('sliced', 247), ('bread', 248), ('sure', 249), ('beats', 250), ('ditty', 251), ('high', 252), ('end', 253), ('knives', 254), ('layers', 255), ('paint', 256), ('or', 257), ('varnish', 258), ('price', 259), ('reflects', 260), ('where', 261), ('else', 262), ('four', 263), ('riveted', 264), ('wooden', 265), ('handled', 266), ('spreading', 267), ('came', 268), ('individually', 269), ('wrapped', 270), ('plastic', 271), ('serrations', 272), ('aggressive', 273), ('wash', 274), ('them', 275), ('carefully', 276), ('because', 277), ('afraid', 278), ('might', 279), ('chunk', 280), ('flesh', 281), ('usually', 282), ('using', 283), ('smooth', 284), ('non', 285), ('serrated', 286), ('blade', 287), ('wood', 288), ('bit', 289), ('thin', 290), ('oiled', 291), ('handles', 292), ('mineral', 293), ('oil', 294), ('holding', 295), ('great', 296), ('your', 297), ('arrive', 298), ('stickers', 299), ('some', 300), ('reviewers', 301), ('mentioned', 302), ('mine', 303), ('then', 304), ('use', 305), ('goo', 306), ('gone', 307), ('remove', 308), ('instead', 309), ('soaking', 310), ('water', 311), ('never', 312), ('soak', 313), ('ware', 314), ('utensils', 315), ('properly', 316), ('care', 317), ('will', 318), ('last', 319), ('lifetime', 320), ('rinse', 321), ('dry', 322), ('immediately', 323), ('rub', 324), ('month', 325), ('thank', 326), ('gigi', 327), ('keep', 328), ('italian', 329), ('romantic', 330), ('style', 331), ('alive', 332), ('cd', 333), ('song', 334), ('selection', 335), ('listen', 336), ('car', 337), ('while', 338), ('jogging', 339), ('having', 340), ('evening', 341), ('mate', 342), ('son', 343), ('loves', 344), ('book', 345), ('perhaps', 346), ('goes', 347), ('through', 348), ('an', 349), ('entire', 350), ('day', 351), ('toddlers', 352), ('he', 353), ('sees', 354), ('many', 355), ('familiar', 356), ('him', 357), ('kids', 358), ('eat', 359), ('breakfast', 360), ('dressed', 361), ('play', 362), ('naps', 363), ('have', 364), ('baths', 365), ('stories', 366), ('read', 367), ('bedtime', 368), ('following', 369), ('children', 370), ('we', 371), ('every', 372), ('only', 373), ('disc', 374), ('reasonable', 375), ('would', 376), ('be', 377), ('worth', 378), ('retail', 379), ('twenty', 380), ('classic', 381), ('oldies', 382), ('from', 383), ('sixties', 384), ('sounding', 385), ('better', 386), ('ever', 387), ('before', 388), ('imagine', 389), ('deal', 390), ('contains', 391), ('hard', 392), ('hits', 393), ('quot', 394), ('boy', 395), ('lollipop', 396), ('millie', 397), ('small', 398), ('laurie', 399), ('dickie', 400), ('lee', 401), ('rumors', 402), ('johnny', 403), ('crawford', 404), ('addition', 405), ('first', 406), ('time', 407), ('releases', 408), ('witchi', 409), ('tai', 410), ('stereo', 411), ('single', 412), ('versions', 413), ('sailor', 414), ('lolita', 415), ('jo', 416), ('ann', 417), ('campbell', 418), ('kookie', 419), ('paradise', 420), ('romeo', 421), ('juliet', 422), ('reflections', 423), ('miriam', 424), ('makeba', 425), ('pata', 426), ('mono', 427), ('version', 428), ('master', 429), ('jack', 430), ('jacks', 431), ('jill', 432), ('flawless', 433), ('must', 434), ('anyone', 435), ('who', 436), ('elevator', 437), ('home', 438), ('work', 439), ('tell', 440), ('thought', 441), ('about', 442), ('something', 443), ('always', 444), ('mind', 445), ('everytime', 446), ('step', 447), ('into', 448), ('chances', 449), ('least', 450), ('scary', 451), ('even', 452), ('though', 453), ('logically', 454), ('won', 455), ('quite', 456), ('compare', 457), ('ride', 458), ('flying', 459), ('taking', 460), ('subway', 461), ('form', 462), ('transportation', 463), ('control', 464), ('until', 465), ('big', 466), ('box', 467), ('encapsulates', 468), ('decides', 469), ('open', 470), ('luckily', 471), ('NUM', 472), ('basically', 473), ('skyscraper', 474), ('office', 475), ('building', 476), ('three', 477), ('men', 478), ('two', 479), ('women', 480), ('randomly', 481), ('board', 482), ('ill', 483), ('fated', 484), ('NU', 485), ('Mth', 486), ('floor', 487), ('realize', 488), ('jolts', 489), ('ceases', 490), ('move', 491), ('security', 492), ('monitors', 493), ('elevators', 494), ('aware', 495), ('puts', 496), ('man', 497), ('getting', 498), ('unstuck', 499), ('should', 500), ('procedure', 501), ('becomes', 502), ('challange', 503), ('attempts', 504), ('rescue', 505), ('thrwarted', 506), ('seemingly', 507), ('mishaps', 508), ('problem', 509), ('see', 510), ('speak', 511), ('trapped', 512), ('passengers', 513), ('cannot', 514), ('heard', 515), ('detective', 516), ('couple', 517), ('months', 518), ('sober', 519), ('happens', 520), ('vicinity', 521), ('investigating', 522), ('suicide', 523), ('jumper', 524), ('brought', 525), ('lights', 526), ('flicker', 527), ('five', 528), ('dead', 529), ('quickly', 530), ('become', 531), ('suspicious', 532), ('each', 533), ('there', 534), ('character', 535), ('development', 536), ('okay', 537), ('storyline', 538), ('devil', 539), ('supposed', 540), ('could', 541), ('any', 542), ('almost', 543), ('incidental', 544), ('apparent', 545), ('way', 546), ('movie', 547), ('strangely', 548), ('satisfying', 549), ('enjoyed', 550), ('when', 551), ('go', 552), ('back', 553), ('tomorrow', 554), ('stairs', 555), ('case', 556), ('told', 557), ('yet', 558), ('brazil', 559), ('film', 560), ('think', 561), ('vividly', 562), ('years', 563), ('viewing', 564), ('right', 565), ('despite', 566), ('fact', 567), ('consider', 568), ('films', 569), ('seen', 570), ('plans', 571), ('again', 572), ('visuals', 573), ('rich', 574), ('bizarrely', 575), ('orwellian', 576), ('settings', 577), ('performances', 578), ('were', 579), ('brilliant', 580), ('writing', 581), ('superb', 582), ('myself', 583), ('manages', 584), ('both', 585), ('deeply', 586), ('depressing', 587), ('funny', 588), ('same', 589), ('story', 590), ('centers', 591), ('administrative', 592), ('position', 593), ('bureau', 594), ('information', 595), ('retrieval', 596), ('enormous', 597), ('agency', 598), ('whose', 599), ('spy', 600), ('invading', 601), ('lives', 602), ('torturing', 603), ('effort', 604), ('stop', 605), ('terrorism', 606), ('adding', 607), ('insult', 608), ('injury', 609), ('bills', 610), ('its', 611), ('torture', 612), ('victims', 613), ('costs', 614), ('incurred', 615), ('conducting', 616), ('investigations', 617), ('painfully', 618), ('clear', 619), ('course', 620), ('putative', 621), ('efforts', 622), ('meaningless', 623), ('terrorists', 624), ('place', 625), ('nothing', 626), ('excuse', 627), ('oppression', 628), ('government', 629), ('strange', 630), ('responding', 631), ('instantly', 632), ('terrorist', 633), ('act', 634), ('knew', 635), ('happen', 636), ('beforehand', 637), ('grim', 638), ('setting', 639), ('grimmer', 640), ('events', 641), ('transpire', 642), ('nonetheless', 643), ('remains', 644), ('entertaining', 645), ('absurdly', 646), ('occasionally', 647), ('brief', 648), ('periods', 649), ('anyway', 650), ('uplifting', 651), ('gain', 652), ('watching', 653), ('may', 654), ('enough', 655), ('ago', 656), ('replaced', 657), ('voip', 658), ('now', 659), ('looks', 660), ('replacing', 661), ('too', 662), ('nokia', 663), ('nNUM', 664), ('everywhere', 665), ('anywhere', 666), ('world', 667), ('wifi', 668), ('connection', 669), ('numbers', 670), ('active', 671), ('incoming', 672), ('outgoing', 673), ('calls', 674), ('say', 675), ('multiple', 676), ('international', 677), ('ring', 678), ('e', 679), ('miami', 680), ('number', 681), ('london', 682), ('uk', 683), ('caribbean', 684), ('provider', 685), ('offers', 686), ('account', 687), ('called', 688), ('throw', 689), ('phones', 690), ('away', 691), ('seriously', 692), ('weeks', 693), ('acquainted', 694), ('different', 695), ('handling', 696), ('blackberry', 697), ('physically', 698), ('operationally', 699), ('took', 700), ('week', 701), ('walk', 702), ('outside', 703), ('house', 704), ('few', 705), ('ounces', 706), ('weight', 707), ('feels', 708), ('delicate', 709), ('break', 710), ('drop', 711), ('bulkier', 712), ('heavier', 713), ('guys', 714), ('bear', 715), ('install', 716), ('sim', 717), ('chip', 718), ('working', 719), ('without', 720), ('line', 721), ('mode', 722), ('impossible', 723), ('anything', 724), ('installed', 725), ('features', 726), ('gps', 727), ('camera', 728), ('etc', 729), ('steep', 730), ('learning', 731), ('curve', 732), ('definitely', 733), ('worthwhile', 734), ('fall', 735), ('love', 736), ('highly', 737), ('recommended', 738), ('state', 739), ('imho', 740), ('fluid', 741), ('however', 742), ('informative', 743), ('containing', 744), ('natural', 745), ('habits', 746), ('ecology', 747), ('varanid', 748), ('lizards', 749), ('main', 750), ('complaint', 751), ('seems', 752), ('v', 753), ('rosenbergi', 754), ('archetypal', 755), ('sub', 756), ('genera', 757), ('dozen', 758), ('species', 759), ('wish', 760), ('attention', 761), ('payed', 762), ('varanids', 763), ('still', 764), ('monitor', 765), ('books', 766), ('actually', 767), ('print', 768), ('weather', 769), ('academic', 770), ('herpetologist', 771), ('keeper', 772), ('matter', 773), ('thinking', 774), ('keeping', 775), ('provides', 776), ('insights', 777), ('sorely', 778), ('lacking', 779), ('espically', 780), ('regards', 781), ('thermal', 782), ('biology', 783), ('useage', 784), ('diet', 785), ('easily', 786), ('discussions', 787), ('taxonomy', 788), ('gene', 789), ('sequencing', 790), ('establish', 791), ('relationships', 792), ('derivations', 793), ('between', 794), ('guy', 795), ('montage', 796), ('fireman', 797), ('houses', 798), ('burning', 799), ('starts', 800), ('fire', 801), ('light', 802), ('becuase', 803), ('considered', 804), ('bad', 805), ('bible', 806), ('porn', 807), ('goverment', 808), ('writings', 809), ('premited', 810), ('controled', 811), ('letting', 812), ('learn', 813), ('meets', 814), ('his', 815), ('new', 816), ('next', 817), ('door', 818), ('neighbor', 819), ('her', 820), ('name', 821), ('clairesse', 822), ('spainish', 823), ('means', 824), ('clarity', 825), ('she', 826), ('live', 827), ('makes', 828), ('asks', 829), ('simple', 830), ('question', 831), ('difficult', 832), ('happy', 833), ('thinks', 834), ('realizes', 835), ('wife', 836), ('trys', 837), ('comit', 838), ('alter', 839), ('reality', 840), ('turns', 841), ('enemy', 842), ('wonder', 843), ('burns', 844), ('stealing', 845), ('gets', 846), ('illegan', 847), ('old', 848), ('professer', 849), ('hatch', 850), ('plan', 851), ('durring', 852), ('face', 853), ('captain', 854), ('beatty', 855), ('knows', 856), ('knowledge', 857), ('unlike', 858), ('glimpses', 859), ('montages', 860), ('clueless', 861), ('yells', 862), ('woman', 863), ('family', 864), ('tv', 865), ('show', 866), ('lets', 867), ('interact', 868), ('characters', 869), ('finds', 870), ('burned', 871), ('match', 872), ('stages', 873), ('born', 874), ('baby', 875), ('grows', 876), ('newborn', 877), ('fifteen', 878), ('year', 879), ('child', 880), ('exploring', 881), ('startign', 882), ('change', 883), ('morrow', 884), ('breakthrough', 885), ('novel', 886), ('grabs', 887), ('let', 888), ('profane', 889), ('profound', 890), ('bravo', 891), ('fan', 892), ('low', 893), ('budget', 894), ('b', 895), ('horror', 896), ('pack', 897), ('super', 898), ('cheesy', 899), ('laughable', 900), ('movies', 901), ('moments', 902), ('overall', 903), ('zombieNUM', 904), ('haven', 905), ('watched', 906), ('turned', 907), ('lot', 908), ('gore', 909), ('surprised', 910), ('prints', 911), ('excellent', 912), ('far', 913), ('above', 914), ('typical', 915), ('value', 916), ('set', 917), ('lots', 918), ('extras', 919), ('including', 920), ('interviews', 921), ('commentary', 922), ('obviously', 923), ('best', 924), ('zombie', 925), ('made', 926), ('worst', 927), ('collection', 928), ('bought', 929), ('prismacolor', 930), ('col', 931), ('erase', 932), ('blue', 933), ('pencils', 934), ('ticonderoga', 935), ('erasable', 936), ('checking', 937), ('write', 938), ('clearly', 939), ('color', 940), ('darker', 941), ('navy', 942), ('lighter', 943), ('sky', 944), ('buy', 945), ('colored', 946), ('dark', 947), ('am', 948), ('glad', 949), ('purchased', 950), ('memories', 951), ('laughing', 952), ('ma', 953), ('pa', 954), ('antics', 955), ('grandparents', 956), ('kid', 957), ('quality', 958), ('picture', 959), ('sound', 960), ('actors', 961), ('blessed', 962), ('enjoying', 963), ('huge', 964), ('brood', 965), ('comparing', 966), ('coming', 967), ('rambunctious', 968), ('ten', 969), ('couldn', 970), ('believe', 971), ('lazy', 972), ('bones', 973), ('refreshing', 974), ('able', 975), ('hours', 976), ('entertainment', 977), ('resorting', 978), ('crassness', 979), ('pervasive', 980), ('our', 981), ('current', 982), ('era', 983), ('wants', 984), ('wonderful', 985), ('trip', 986), ('memory', 987), ('lane', 988), ('marvelous', 989), ('acting', 990), ('recomment', 991), ('volume', 992), ('player', 993), ('resident', 994), ('evil', 995), ('games', 996), ('played', 997), ('damn', 998), ('hyped', 999), ('game', 1000), ('changed', 1001), ('perspective', 1002), ('playing', 1003), ('another', 1004), ('enemies', 1005), ('smart', 1006), ('put', 1007), ('guns', 1008), ('d', 1009), ('ed', 1010), ('die', 1011), ('friggin', 1012), ('fast', 1013), ('fun', 1014), ('aside', 1015), ('reason', 1016), ('someone', 1017), ('kills', 1018), ('chainsaw', 1019), ('flies', 1020), ('slow', 1021), ('motion', 1022), ('plays', 1023), ('sad', 1024), ('music', 1025), ('standing', 1026), ('reloading', 1027), ('shotgun', 1028), ('large', 1029), ('pulled', 1030), ('against', 1031), ('neck', 1032), ('thoughts', 1033), ('greate', 1034), ('graphics', 1035), ('yeah', 1036), ('wrong', 1037), ('hit', 1038), ('ground', 1039), ('head', 1040), ('shoulders', 1041), ('yes', 1042), ('wrote', 1043), ('gameplay', 1044), ('mean', 1045), ('kick', 1046), ('ass', 1047), ('factor', 1048), ('Mwarning', 1049), ('emense', 1050), ('amount', 1051), ('written', 1052), ('extreamely', 1053), ('ideas', 1054), ('come', 1055), ('across', 1056), ('language', 1057), ('author', 1058), ('automatically', 1059), ('assume', 1060), ('reader', 1061), ('attitudes', 1062), ('outlooks', 1063), ('writes', 1064), ('objectively', 1065), ('covers', 1066), ('advertised', 1067), ('title', 1068), ('vocabulary', 1069), ('abbreviations', 1070), ('keeps', 1071), ('interest', 1072), ('pages', 1073), ('bc', 1074), ('greasy', 1075), ('spf', 1076), ('mens', 1077), ('products', 1078), ('loreal', 1079), ('musical', 1080), ('instrument', 1081), ('manipulate', 1082), ('sounds', 1083), ('melodies', 1084), ('listening', 1085), ('album', 1086), ('loving', 1087), ('understand', 1088), ('hell', 1089), ('radio', 1090), ('stations', 1091), ('rubbish', 1092), ('enrique', 1093), ('igelesias', 1094), ('kylie', 1095), ('monique', 1096), ('screwed', 1097), ('anna', 1098), ('kornikova', 1099), ('half', 1100), ('naked', 1101), ('middle', 1102), ('culture', 1103), ('peoeple', 1104), ('miss', 1105), ('beautifully', 1106), ('composed', 1107), ('frou', 1108), ('lady', 1109), ('haunting', 1110), ('lovely', 1111), ('voice', 1112), ('garden', 1113), ('discover', 1114), ('such', 1115), ('rare', 1116), ('pop', 1117), ('synth', 1118), ('talent', 1119), ('mid', 1120), ('Ms', 1121), ('review', 1122), ('listened', 1123), ('rock', 1124), ('beautiful', 1125), ('fairly', 1126), ('john', 1127), ('waynes', 1128), ('pleasure', 1129), ('watch', 1130), ('wayne', 1131), ('loved', 1132), ('ryan', 1133), ('hadn', 1134), ('coarse', 1135), ('nowhere', 1136), ('near', 1137), ('earlier', 1138), ('ones', 1139), ('attest', 1140), ('outset', 1141), ('pen', 1142), ('snob', 1143), ('mechanical', 1144), ('pencil', 1145), ('disappointed', 1146), ('graph', 1147), ('gear', 1148), ('recently', 1149), ('seem', 1150), ('cult', 1151), ('clue', 1152), ('basic', 1153), ('looking', 1154), ('except', 1155), ('grip', 1156), ('tip', 1157), ('metal', 1158), ('here', 1159), ('finely', 1160), ('lath', 1161), ('brushed', 1162), ('nor', 1163), ('polished', 1164), ('pot', 1165), ('knurling', 1166), ('pressed', 1167), ('rather', 1168), ('actual', 1169), ('worse', 1170), ('horribly', 1171), ('unbalanced', 1172), ('compared', 1173), ('ultra', 1174), ('body', 1175), ('awkward', 1176), ('unfinished', 1177), ('lines', 1178), ('striations', 1179), ('sort', 1180), ('surface', 1181), ('sorry', 1182), ('screams', 1183), ('discerning', 1184), ('user', 1185), ('premium', 1186), ('crappy', 1187), ('section', 1188), ('harm', 1189), ('already', 1190), ('handle', 1191), ('plain', 1192), ('money', 1193), ('nicer', 1194), ('less', 1195), ('drafting', 1196), ('coin', 1197), ('stay', 1198), ('either', 1199), ('switch', 1200), ('brands', 1201), ('upgrade', 1202), ('pentel', 1203), ('offerings', 1204), ('bottom', 1205), ('shows', 1206), ('outstanding', 1207), ('photography', 1208), ('personal', 1209), ('approach', 1210), ('describing', 1211), ('village', 1212), ('distraction', 1213), ('although', 1214), ('maps', 1215), ('throughout', 1216), ('photograph', 1217), ('accompanying', 1218), ('map', 1219), ('search', 1220), ('located', 1221), ('gridded', 1222), ('ex', 1223), ('fNUM', 1224), ('artistic', 1225), ('heckuva', 1226), ('easier', 1227), ('softcover', 1228), ('library', 1229), ('binding', 1230), ('apart', 1231), ('copy', 1232), ('probably', 1233), ('stressed', 1234), ('tried', 1235), ('ghost', 1236), ('towns', 1237), ('ruins', 1238), ('sequestered', 1239), ('villages', 1240), ('logged', 1241), ('travel', 1242), ('miles', 1243), ('visit', 1244), ('cobblestone', 1245), ('alley', 1246), ('unfortunately', 1247), ('boring', 1248), ('description', 1249), ('town', 1250), ('beyond', 1251), ('crumbling', 1252), ('rotting', 1253), ('glimpse', 1254), ('hey', 1255), ('sense', 1256), ('loss', 1257), ('drawn', 1258), ('dull', 1259), ('deathbed', 1260), ('moan', 1261), ('groan', 1262), ('mercy', 1263), ('atmosphere', 1264), ('nostalgia', 1265), ('said', 1266), ('genuine', 1267), ('top', 1268), ('full', 1269), ('dumb', 1270), ('cliches', 1271), ('dumber', 1272), ('others', 1273), ('staring', 1274), ('death', 1275), ('wondered', 1276), ('hint', 1277), ('humor', 1278), ('attached', 1279), ('type', 1280), ('forlorn', 1281), ('places', 1282), ('history', 1283), ('art', 1284), ('kindle', 1285), ('kindles', 1286), ('hatred', 1287), ('heart', 1288), ('want', 1289), ('kindling', 1290), ('reading', 1291), ('device', 1292), ('bound', 1293), ('obsolete', 1294), ('forgotten', 1295), ('within', 1296), ('laptop', 1297), ('dont', 1298), ('lug', 1299), ('around', 1300), ('paperback', 1301), ('saved', 1302), ('dozens', 1303), ('display', 1304), ('illustrations', 1305), ('graphs', 1306), ('footnotes', 1307), ('useless', 1308), ('tech', 1309), ('gadget', 1310), ('guest', 1311), ('gathering', 1312), ('dust', 1313), ('closet', 1314), ('segway', 1315), ('hd', 1316), ('dvd', 1317), ('sooner', 1318), ('coriolis', 1319), ('exam', 1320), ('cram', 1321), ('discovered', 1322), ('questions', 1323), ('server', 1324), ('particular', 1325), ('completely', 1326), ('pass', 1327), ('numerous', 1328), ('typos', 1329), ('gb', 1330), ('mb', 1331), ('inconsistencies', 1332), ('errors', 1333), ('content', 1334), ('barely', 1335), ('relevant', 1336), ('onslaught', 1337), ('based', 1338), ('troubleshooting', 1339), ('gave', 1340), ('stars', 1341), ('recall', 1342), ('eighty', 1343), ('studying', 1344), ('hate', 1345), ('rating', 1346), ('seeing', 1347), ('released', 1348), ('past', 1349), ('terrible', 1350), ('comparison', 1351), ('amazon', 1352), ('reviews', 1353), ('own', 1354), ('guess', 1355), ('bag', 1356), ('grain', 1357), ('mix', 1358), ('sand', 1359), ('crunchy', 1360), ('rice', 1361), ('save', 1362), ('bucks', 1363), ('closest', 1364), ('farmers', 1365), ('market', 1366), ('area', 1367), ('desiccated', 1368), ('fill', 1369), ('pillow', 1370), ('crunching', 1371), ('noise', 1372), ('respect', 1373), ('suffer', 1374), ('hearing', 1375), ('generates', 1376), ('minutes', 1377), ('lastly', 1378), ('pray', 1379), ('breaks', 1380), ('bean', 1381), ('chairs', 1382), ('nightmare', 1383), ('broke', 1384), ('standards', 1385), ('aggravation', 1386), ('true', 1387), ('confession', 1388), ('becky', 1389), ('bloomwood', 1390), ('raging', 1391), ('shopaholic', 1392), ('credit', 1393), ('card', 1394), ('freshman', 1395), ('college', 1396), ('sometimes', 1397), ('range', 1398), ('stuffed', 1399), ('statements', 1400), ('trashcan', 1401), ('creative', 1402), ('letters', 1403), ('creditors', 1404), ('romp', 1405), ('closets', 1406), ('onto', 1407), ('londoner', 1408), ('publishing', 1409), ('officially', 1410), ('magazine', 1411), ('sucessful', 1412), ('saving', 1413), ('management', 1414), ('truly', 1415), ('spends', 1416), ('shops', 1417), ('press', 1418), ('functions', 1419), ('image', 1420), ('warehouse', 1421), ('buddy', 1422), ('selecting', 1423), ('magazines', 1424), ('issues', 1425), ('function', 1426), ('waylaid', 1427), ('sale', 1428), ('sign', 1429), ('favorite', 1430), ('exclusive', 1431), ('accessories', 1432), ('store', 1433), ('wiles', 1434), ('wild', 1435), ('tale', 1436), ('hunky', 1437), ('luke', 1438), ('brandon', 1439), ('scarf', 1440), ('moment', 1441), ('perfect', 1442), ('balance', 1443), ('bank', 1444), ('manager', 1445), ('meet', 1446), ('overdraft', 1447), ('howling', 1448), ('terrific', 1449), ('flatmate', 1450), ('bring', 1451), ('herself', 1452), ('advantage', 1453), ('situation', 1454), ('disasterous', 1455), ('results', 1456), ('pull', 1457), ('debt', 1458), ('maybe', 1459), ('boyfriend', 1460), ('manage', 1461), ('marian', 1462), ('keyes', 1463), ('wendy', 1464), ('holden', 1465), ('sophie', 1466), ('kinsella', 1467), ('gripping', 1468), ('edge', 1469), ('seat', 1470), ('guessed', 1471), ('ending', 1472), ('fantastic', 1473), ('trail', 1474), ('political', 1475), ('bantering', 1476), ('incessant', 1477), ('self', 1478), ('victimization', 1479), ('lead', 1480), ('paid', 1481), ('powerful', 1482), ('jewish', 1483), ('lobby', 1484), ('endorse', 1485), ('proven', 1486), ('complete', 1487), ('fabrication', 1488), ('extremists', 1489), ('credibility', 1490), ('look', 1491), ('facts', 1492), ('laugh', 1493), ('rediculous', 1494), ('claims', 1495), ('older', 1496), ('whom', 1497), ('jerry', 1498), ('springer', 1499), ('today', 1500), ('faced', 1501), ('issue', 1502), ('informed', 1503), ('advance', 1504), ('smarter', 1505), ('fooled', 1506), ('heck', 1507), ('elie', 1508), ('weasel', 1509), ('times', 1510), ('crap', 1511), ('mglad', 1512), ('relatives', 1513), ('sides', 1514), ('wwNUM', 1515), ('camp', 1516), ('munitions', 1517), ('auditor', 1518), ('fitness', 1519), ('activity', 1520), ('trainer', 1521), ('sergeant', 1522), ('denied', 1523), ('citizenship', 1524), ('us', 1525), ('later', 1526), ('canada', 1527), ('luftwaffe', 1528), ('infantryman', 1529), ('stayed', 1530), ('conc', 1531), ('camps', 1532), ('himself', 1533), ('taken', 1534), ('pow', 1535), ('wounded', 1536), ('belgium', 1537), ('luft', 1538), ('inf', 1539), ('exist', 1540), ('emailing', 1541), ('liberator', 1542), ('buchenwald', 1543), ('doesnt', 1544), ('whining', 1545), ('crybaby', 1546), ('jews', 1547), ('exiled', 1548), ('war', 1549), ('millions', 1550), ('survivors', 1551), ('rubber', 1552), ('stamping', 1553), ('eachothers', 1554), ('human', 1555), ('soap', 1556), ('lampshades', 1557), ('false', 1558), ('mainstream', 1559), ('science', 1560), ('machina', 1561), ('star', 1562), ('trek', 1563), ('christopher', 1564), ('l', 1565), ('bennett', 1566), ('sets', 1567), ('frame', 1568), ('untouched', 1569), ('wrath', 1570), ('kahn', 1571), ('finding', 1572), ('happened', 1573), ('ger', 1574), ('willard', 1575), ('decker', 1576), ('ilia', 1577), ('mr', 1578), ('became', 1579), ('fabrini', 1580), ('race', 1581), ('original', 1582), ('series', 1583), ('episode', 1584), ('hollow', 1585), ('touched', 1586), ('obscure', 1587), ('alien', 1588), ('megarites', 1589), ('betelguesians', 1590), ('zaranites', 1591), ('rhaandarites', 1592), ('rigellians', 1593), ('saurians', 1594), ('sizeable', 1595), ('important', 1596), ('roles', 1597), ('aliens', 1598), ('blink', 1599), ('st', 1600), ('tmp', 1601), ('voyage', 1602), ('brush', 1603), ('tos', 1604), ('episodic', 1605), ('mentions', 1606), ('featured', 1607), ('episodes', 1608), ('consult', 1609), ('lost', 1610), ('especially', 1611), ('flag', 1612), ('authors', 1613), ('latest', 1614), ('incarnation', 1615), ('expanding', 1616), ('universe', 1617), ('enterprise', 1618), ('franchise', 1619), ('heights', 1620), ('haggard', 1621), ('adventure', 1622), ('fantasy', 1623), ('writer', 1624), ('arguably', 1625), ('prolific', 1626), ('summer', 1627), ('school', 1628), ('glue', 1629), ('together', 1630), ('elmer', 1631), ('finished', 1632), ('dated', 1633), ('dialogue', 1634), ('adjusts', 1635), ('material', 1636), ('alan', 1637), ('quartermain', 1638), ('cleopatra', 1639), ('king', 1640), ('solomon', 1641), ('mines', 1642), ('styles', 1643), ('amazed', 1644), ('draw', 1645), ('detail', 1646), ('amazing', 1647), ('tedious', 1648), ('begin', 1649), ('personally', 1650), ('quatermain', 1651), ('safari', 1652), ('dies', 1653), ('avid', 1654), ('categories', 1655), ('quantum', 1656), ('physics', 1657), ('poetry', 1658), ('fiction', 1659), ('biographies', 1660), ('class', 1661), ('enjoys', 1662), ('wishes', 1663), ('rewards', 1664), ('says', 1665), ('round', 1666), ('expect', 1667), ('diameter', 1668), ('size', 1669), ('thumb', 1670), ('cute', 1671), ('refused', 1672), ('theatrical', 1673), ('release', 1674), ('creepy', 1675), ('carol', 1676), ('kane', 1677), ('origninal', 1678), ('masterpiece', 1679), ('calling', 1680), ('victim', 1681), ('cell', 1682), ('caller', 1683), ('id', 1684), ('simply', 1685), ('cant', 1686), ('suggestion', 1687), ('rent', 1688), ('waste', 1689), ('owning', 1690), ('silly', 1691), ('often', 1692), ('cat', 1693), ('paying', 1694), ('words', 1695), ('fleeing', 1696), ('eyes', 1697), ('michel', 1698), ('faber', 1699), ('focus', 1700), ('word', 1701), ('significant', 1702), ('felt', 1703), ('obliged', 1704), ('aloud', 1705), ('share', 1706), ('beauty', 1707), ('deftly', 1708), ('involved', 1709), ('cared', 1710), ('friend', 1711), ('occured', 1712), ('indignation', 1713), ('injustices', 1714), ('real', 1715), ('plot', 1716), ('tired', 1717), ('mup', 1718), ('fans', 1719), ('dragging', 1720), ('mud', 1721), ('oh', 1722), ('slickly', 1723), ('produced', 1724), ('surprise', 1725), ('curt', 1726), ('kirkwood', 1727), ('changes', 1728), ('directions', 1729), ('pete', 1730), ('townshend', 1731), ('fails', 1732), ('record', 1733), ('whatever', 1734), ('vision', 1735), ('golden', 1736), ('lies', 1737), ('exception', 1738), ('nail', 1739), ('directly', 1740), ('concerning', 1741), ('individual', 1742), ('tracks', 1743), ('shant', 1744), ('dwell', 1745), ('acquired', 1746), ('taste', 1747), ('jump', 1748), ('indolent', 1749), ('forgive', 1750), ('band', 1751), ('tour', 1752), ('followed', 1753), ('blech', 1754), ('pieced', 1755), ('purchasing', 1756), ('copies', 1757), ('spent', 1758), ('keith', 1759), ('lockhart', 1760), ('continued', 1761), ('behind', 1762), ('heels', 1763), ('williams', 1764), ('helm', 1765), ('pops', 1766), ('symphony', 1767), ('extraordinary', 1768), ('fashion', 1769), ('privileged', 1770), ('conduct', 1771), ('orchestra', 1772), ('enthusiasm', 1773), ('orchestras', 1774), ('traditions', 1775), ('legacy', 1776), ('classical', 1777), ('theme', 1778), ('certainly', 1779), ('holds', 1780), ('wanted', 1781), ('songs', 1782), ('july', 1783), ('outdoor', 1784), ('parties', 1785), ('mood', 1786), ('delivers', 1787), ('grand', 1788), ('classics', 1789), ('hear', 1790), ('patriotic', 1791), ('holiday', 1792), ('spangled', 1793), ('banner', 1794), ('america', 1795), ('tanglewood', 1796), ('festival', 1797), ('chorus', 1798), ('singing', 1799), ('chills', 1800), ('overture', 1801), ('fireworks', 1802), ('bpo', 1803), ('finale', 1804), ('stripes', 1805), ('forever', 1806), ('phillip', 1807), ('sousa', 1808), ('rest', 1809), ('equally', 1810), ('goodies', 1811), ('boogie', 1812), ('woggie', 1813), ('bugle', 1814), ('rouse', 1815), ('fevor', 1816), ('doodletown', 1817), ('fifers', 1818), ('fifes', 1819), ('paul', 1820), ('simon', 1821), ('favorites', 1822), ('voices', 1823), ('raised', 1824), ('background', 1825), ('choir', 1826), ('gay', 1827), ('sing', 1828), ('eloquent', 1829), ('quotes', 1830), ('famous', 1831), ('americans', 1832), ('abigal', 1833), ('adams', 1834), ('martin', 1835), ('luther', 1836), ('walt', 1837), ('whitman', 1838), ('president', 1839), ('f', 1840), ('kennedy', 1841), ('fredrick', 1842), ('douglas', 1843), ('shirley', 1844), ('chisholm', 1845), ('collected', 1846), ('playtime', 1847), ('independence', 1848), ('splash', 1849), ('airing', 1850), ('dazzled', 1851), ('proud', 1852), ('import', 1853), ('playlist', 1854), ('identical', 1855), ('ol', 1856), ('american', 1857), ('rca', 1858), ('victor', 1859), ('available', 1860), ('substantially', 1861), ('lower', 1862), ('bands', 1863), ('young', 1864), ('pony', 1865), ('club', 1866), ('ice', 1867), ('cream', 1868), ('included', 1869), ('eclectic', 1870), ('bunch', 1871), ('funky', 1872), ('post', 1873), ('wave', 1874), ('vein', 1875), ('franz', 1876), ('ferdinand', 1877), ('dancy', 1878), ('extremely', 1879), ('electronic', 1880), ('similar', 1881), ('blondie', 1882), ('funkier', 1883), ('berlin', 1884), ('popular', 1885), ('depeche', 1886), ('erasure', 1887), ('inxs', 1888), ('soft', 1889), ('flock', 1890), ('seagulls', 1891), ('omd', 1892), ('yaz', 1893), ('sparks', 1894), ('scritti', 1895), ('pollitti', 1896), ('squeeze', 1897), ('thompson', 1898), ('twins', 1899), ('wham', 1900), ('nitzer', 1901), ('ebb', 1902), ('killers', 1903), ('beborn', 1904), ('beton', 1905), ('bravery', 1906), ('allofmpNUM', 1907), ('dot', 1908), ('com', 1909), ('lv', 1910), ('hrub', 1911), ('ain', 1912), ('brightest', 1913), ('tells', 1914), ('bush', 1915), ('firmly', 1916), ('backs', 1917), ('opens', 1918), ('mouth', 1919), ('whoever', 1920), ('runs', 1921), ('script', 1922), ('mudslinging', 1923), ('ads', 1924), ('substance', 1925), ('elections', 1926), ('favors', 1927), ('pollute', 1928), ('bashing', 1929), ('bill', 1930), ('televised', 1931), ('debates', 1932), ('news', 1933), ('media', 1934), ('fodder', 1935), ('intelligence', 1936), ('irrelevant', 1937), ('lack', 1938), ('term', 1939), ('strength', 1940), ('prosperity', 1941), ('united', 1942), ('states', 1943), ('candidates', 1944), ('intellectually', 1945), ('superior', 1946), ('owned', 1947), ('companies', 1948), ('seeking', 1949), ('tax', 1950), ('licenses', 1951), ('run', 1952), ('sweat', 1953), ('regulation', 1954), ('freedom', 1955), ('dump', 1956), ('pollutants', 1957), ('somebody', 1958), ('backyard', 1959), ('interested', 1960), ('politics', 1961), ('exclusively', 1962), ('airs', 1963), ('dirty', 1964), ('laundry', 1965), ('presents', 1966), ('part', 1967), ('pick', 1968), ('gods', 1969), ('meant', 1970), ('vote', 1971), ('given', 1972), ('jim', 1973), ('hightower', 1974), ('multi', 1975), ('arrangement', 1976), ('falling', 1977), ('precise', 1978), ('paced', 1979), ('age', 1980), ('impression', 1981), ('buoyed', 1982), ('degree', 1983), ('unusual', 1984), ('politicians', 1985), ('obama', 1986), ('policies', 1987), ('presidential', 1988), ('candidate', 1989), ('elsewhere', 1990), ('unusually', 1991), ('forthright', 1992), ('beliefs', 1993), ('evolve', 1994), ('key', 1995), ('points', 1996), ('reflective', 1997), ('critical', 1998), ('somewhat', 1999), ('running', 2000), ('briefly', 2001), ('infamous', 2002), ('flirtation', 2003), ('cocaine', 2004), ('portrait', 2005), ('platform', 2006), ('struggles', 2007), ('growing', 2008), ('cultures', 2009), ('gripe', 2010), ('entry', 2011), ('unless', 2012), ('dc', 2013), ('reprints', 2014), ('guide', 2015), ('represent', 2016), ('entries', 2017), ('lesser', 2018), ('known', 2019), ('updates', 2020), ('heros', 2021), ('villians', 2022), ('touch', 2023), ('comics', 2024), ('encylopedia', 2025), ('nice', 2026), ('gift', 2027), ('chuck', 2028), ('austen', 2029), ('arc', 2030), ('claiming', 2031), ('roots', 2032), ('wisecracking', 2033), ('violent', 2034), ('superman', 2035), ('dominated', 2036), ('admirable', 2037), ('turn', 2038), ('sixty', 2039), ('ridiculous', 2040), ('bold', 2041), ('started', 2042), ('gig', 2043), ('introduced', 2044), ('bonds', 2045), ('causing', 2046), ('brooding', 2047), ('questioning', 2048), ('role', 2049), ('criminals', 2050), ('fistful', 2051), ('wisecracks', 2052), ('blatant', 2053), ('disregard', 2054), ('tossing', 2055), ('inhabited', 2056), ('cars', 2057), ('buildings', 2058), ('whatnot', 2059), ('folks', 2060), ('steel', 2061), ('reads', 2062), ('spider', 2063), ('cape', 2064), ('jokes', 2065), ('curses', 2066), ('constantly', 2067), ('doubts', 2068), ('abilities', 2069), ('acts', 2070), ('wholly', 2071), ('uncharacteristic', 2072), ('ways', 2073), ('besides', 2074), ('plagued', 2075), ('cool', 2076), ('gog', 2077), ('doomsday', 2078), ('attack', 2079), ('begins', 2080), ('tpb', 2081), ('repeatedly', 2082), ('beaten', 2083), ('third', 2084), ('string', 2085), ('villains', 2086), ('weapons', 2087), ('inexplicable', 2088), ('repo', 2089), ('convoluted', 2090), ('whatsoever', 2091), ('logical', 2092), ('flow', 2093), ('fight', 2094), ('scenes', 2095), ('cohesion', 2096), ('continuity', 2097), ('shake', 2098), ('clark', 2099), ('lois', 2100), ('marriage', 2101), ('divorcing', 2102), ('lana', 2103), ('lang', 2104), ('husband', 2105), ('portraying', 2106), ('desperate', 2107), ('girl', 2108), ('crush', 2109), ('simultaneously', 2110), ('turning', 2111), ('cold', 2112), ('jealous', 2113), ('tch', 2114), ('biggest', 2115), ('shame', 2116), ('ivan', 2117), ('reis', 2118), ('wasted', 2119), ('proved', 2120), ('maxi', 2121), ('metropolis', 2122), ('action', 2123), ('lacked', 2124), ('check', 2125), ('local', 2126), ('comic', 2127), ('avoid', 2128), ('kryptonite', 2129), ('overly', 2130), ('mixing', 2131), ('sampling', 2132), ('winner', 2133), ('recommend', 2134), ('tcl', 2135), ('website', 2136), ('sells', 2137), ('shipping', 2138), ('charges', 2139), ('cheaper', 2140), ('joke', 2141), ('teller', 2142), ('timing', 2143), ('delivery', 2144), ('offended', 2145), ('r', 2146), ('rated', 2147), ('digestible', 2148), ('found', 2149), ('loud', 2150), ('stuff', 2151), ('retold', 2152), ('friends', 2153), ('entertainers', 2154), ('antedotes', 2155), ('enjoyable', 2156), ('incomplete', 2157), ('married', 2158), ('trouble', 2159), ('wedding', 2160), ('rarely', 2161), ('prove', 2162), ('wrestle', 2163), ('grade', 2164), ('principal', 2165), ('dropped', 2166), ('Mrd', 2167), ('teacher', 2168), ('room', 2169), ('adjusting', 2170), ('Mst', 2171), ('row', 2172), ('belongs', 2173), ('Mnd', 2174), ('insists', 2175), ('remaining', 2176), ('ask', 2177), ('forward', 2178), ('inquired', 2179), ('dog', 2180), ('legs', 2181), ('sitting', 2182), ('shakes', 2183), ('hands', 2184), ('cow', 2185), ('went', 2186), ('replied', 2187), ('letter', 2188), ('intercourse', 2189), ('talk', 2190), ('answered', 2191), ('drew', 2192), ('whispered', 2193), ('promote', 2194), ('missed', 2195), ('diamon', 2196), ('deb', 2197), ('files', 2198), ('usa', 2199), ('farseer', 2200), ('trilogy', 2201), ('decided', 2202), ('weigh', 2203), ('pure', 2204), ('genius', 2205), ('pains', 2206), ('describe', 2207), ('shifting', 2208), ('viewpoints', 2209), ('person', 2210), ('dragged', 2211), ('seemed', 2212), ('excessive', 2213), ('pictures', 2214), ('painted', 2215), ('fitzchivalry', 2216), ('hoping', 2217), ('eventually', 2218), ('succeed', 2219), ('hero', 2220), ('fitz', 2221), ('strong', 2222), ('ability', 2223), ('shoot', 2224), ('fireballs', 2225), ('foretell', 2226), ('future', 2227), ('unique', 2228), ('special', 2229), ('relationship', 2230), ('wolf', 2231), ('wit', 2232), ('skill', 2233), ('potential', 2234), ('capability', 2235), ('mystery', 2236), ('seldom', 2237), ('direct', 2238), ('defense', 2239), ('fully', 2240), ('mastered', 2241), ('definetly', 2242), ('protagonist', 2243), ('epic', 2244), ('ranks', 2245), ('hobb', 2246), ('strengths', 2247), ('lie', 2248), ('empathize', 2249), ('grew', 2250), ('longing', 2251), ('sat', 2252), ('fortunately', 2253), ('tawney', 2254), ('filling', 2255), ('void', 2256), ('involving', 2257), ('warn', 2258), ('consume', 2259), ('leave', 2260), ('yearning', 2261), ('disappoint', 2262), ('smacks', 2263), ('early', 2264), ('george', 2265), ('senseless', 2266), ('destruction', 2267), ('robert', 2268), ('jordan', 2269), ('tepid', 2270), ('cover', 2271), ('poorly', 2272), ('nearly', 2273), ('bend', 2274), ('fold', 2275), ('centered', 2276), ('page', 2277), ('left', 2278), ('justified', 2279), ('pressure', 2280), ('spine', 2281), ('sentence', 2282)])\n",
      "True\n",
      "2283\n",
      "X:\n",
      " [[1], [74]]\n",
      "[[74], [11]]\n",
      "[[11], [0]]\n",
      "[[0], [51]]\n",
      "[[51], [828]]\n",
      "Y:\n",
      " [74 11]\n",
      "[11  0]\n",
      "[ 0 51]\n",
      "[ 51 828]\n",
      "[828 174]\n"
     ]
    }
   ],
   "source": [
    "print(valid_vocab._mapping.items())\n",
    "print(valid_vocab._mapping.items()==train_vocab._mapping.items()) #if match then good\n",
    "print(size_vocab)\n",
    "print(\"X:\\n\",'\\n'.join([str(item) for item in validX[0:5]]))\n",
    "print(\"Y:\\n\",'\\n'.join([str(item) for item in validY[0:5]]))"
   ]
  },
  {
   "cell_type": "markdown",
   "metadata": {},
   "source": [
    "## TF SETUP"
   ]
  },
  {
   "cell_type": "code",
   "execution_count": 13,
   "metadata": {
    "collapsed": true
   },
   "outputs": [],
   "source": [
    "%matplotlib inline\n",
    "\n",
    "import pandas as pd\n",
    "import numpy as np\n",
    "import matplotlib.pyplot as plt\n",
    "import tensorflow as tf\n",
    "from tensorflow.contrib import rnn\n",
    "from sklearn.preprocessing import MinMaxScaler\n",
    "import timeit"
   ]
  },
  {
   "cell_type": "code",
   "execution_count": 14,
   "metadata": {
    "collapsed": true
   },
   "outputs": [],
   "source": [
    "hidden_dim=100\n",
    "max_iter=10\n",
    "cellType='rnn'"
   ]
  },
  {
   "cell_type": "code",
   "execution_count": 15,
   "metadata": {
    "scrolled": true
   },
   "outputs": [
    {
     "name": "stdout",
     "output_type": "stream",
     "text": [
      "input shape:[# training examples, sequence length, # features] (?, 2, 1)\n",
      "ground truth shape:[# training examples, sequence length] (?, 2)\n",
      "output shape: [# training examples, sequence length, # hidden]  (?, 100)\n",
      "weights shape: [# hidden, 1] (100, 2283)\n",
      "bias shape [1] (2283,)\n",
      "final logits shape:[# training examples, vocab_size]  (?, 2, 2283)\n"
     ]
    }
   ],
   "source": [
    "graph = tf.Graph()\n",
    "with graph.as_default():\n",
    "    # input place holders\n",
    "    # input Shape: [# training examples, sequence length, # features]\n",
    "    x = tf.placeholder(tf.float32,[None,seq_size,1])\n",
    "    print(\"input shape:[# training examples, sequence length, # features]\", x.shape)\n",
    "\n",
    "    # label Shape: [# training examples, sequence length]\n",
    "    y = tf.placeholder(tf.int32,[None,seq_size])\n",
    "    print(\"ground truth shape:[# training examples, sequence length]\", y.shape)\n",
    "\n",
    "    # RNN Network\n",
    "    cell = rnn.BasicRNNCell(hidden_dim)\n",
    "\n",
    "    # RNN output Shape: [# training examples * sequence length, # hidden] \n",
    "    outputs, _ = tf.nn.dynamic_rnn(cell,x,dtype=tf.float32)\n",
    "    num_examples = tf.shape(x)[0] \n",
    "\n",
    "    outputs=tf.reshape(outputs,[num_examples*seq_size, hidden_dim])\n",
    "    print(\"output shape: [# training examples, sequence length, # hidden] \", outputs.shape)\n",
    "    \n",
    "    # weights for output dense layer (i.e., after RNN)\n",
    "    # W shape: [# hidden, 1]\n",
    "    W_out = tf.Variable(tf.random_normal([hidden_dim, size_vocab]),name=\"w_out\") \n",
    "    print(\"weights shape: [# hidden, 1]\", W_out.shape)\n",
    "    \n",
    "    # b shape: [1]\n",
    "    b_out = tf.Variable(tf.random_normal([size_vocab]),name=\"b_out\")\n",
    "    print(\"bias shape [1]\",b_out.shape)\n",
    "    \n",
    "    y_pred = tf.matmul(outputs,W_out)+b_out\n",
    "    y_pred=tf.reshape(y_pred,[num_examples, seq_size, size_vocab])\n",
    "    print(\"final logits shape:[# training examples, vocab_size] \", y_pred.shape)\n",
    "\n",
    "    # Cost & Training Step\n",
    "    cost = tf.contrib.seq2seq.sequence_loss(y_pred,\n",
    "                                            y,\n",
    "                                            tf.ones([num_examples,seq_size],tf.float32),\n",
    "                                            average_across_timesteps=False,\n",
    "                                            average_across_batch=False)\n",
    "    cost = tf.reduce_mean(cost) \n",
    "    train_op = tf.train.AdamOptimizer().minimize(cost)\n",
    "    saver=tf.train.Saver()\n"
   ]
  },
  {
   "cell_type": "code",
   "execution_count": 17,
   "metadata": {},
   "outputs": [
    {
     "name": "stdout",
     "output_type": "stream",
     "text": [
      "Training rnn ...\n",
      "  step, train err=      0: 36.05583\n",
      "  step, train err=      2: 35.51660\n",
      "  step, train err=      4: 34.60969\n",
      "  step, train err=      6: 33.40064\n",
      "  step, train err=      8: 32.26937\n",
      "  step, train err=     10: 31.20195\n",
      "Testing Accuracy: 27.695852\n",
      "Training time :   14.57631\n"
     ]
    }
   ],
   "source": [
    "# Run Session\n",
    "with tf.Session(graph=graph) as sess:\n",
    "    # initialize variables\n",
    "    sess.run(tf.global_variables_initializer())\n",
    "    # Run for 1000 iterations (1000 is arbitrary, need a validation set to tune!)\n",
    "    start=timeit.default_timer()\n",
    "    print('Training %s ...'%cellType)\n",
    "    train_c = 0\n",
    "    for i in range(max_iter): # If we train more, would we overfit? Try 10000\n",
    "        #\n",
    "        print(\"iter %3d\" %(i)) \n",
    "        \n",
    "        saver_train_error = 0\n",
    "        for NUM in range(1,batch_num):\n",
    "            batch_trainX=trainX[(NUM-1)*batch_size:NUM*batch_size]\n",
    "            batch_trainY=trainY[(NUM-1)*batch_size:NUM*batch_size]\n",
    "        \n",
    "            _,train_err= sess.run([train_op,cost],feed_dict={x:trainX,y:trainY})\n",
    "            train_c += train_err\n",
    "            mean_train_error = train_c/NUM\n",
    "            \n",
    "            if  NUM % 100 == 0: \n",
    "                print(\"  ##batch NUM %6d :\" %(NUM))\n",
    "                print('    step, train err= %6d: %8.5f' % (i+1,train_err))\n",
    "\n",
    "        if i==0:\n",
    "            print('  step, train err= %6d: %8.5f' % (0,mean_train_error)) \n",
    "        elif  (i+1) % 2 == 0: \n",
    "            print('  step, train err= %6d: %8.5f' % (i+1,mean_train_error))\n",
    "            \n",
    "        print('  interation, testing error= %6d: %8.5f, \\\n",
    "        sess.run(cost, feed_dict={x: validX[0:800],\n",
    "                                      y: validY[0:800]}))\n",
    "    end=timeit.default_timer()        \n",
    "    print(\"Training time : %10.5f\"%(end-start))"
   ]
  },
  {
   "cell_type": "code",
   "execution_count": 99,
   "metadata": {},
   "outputs": [
    {
     "data": {
      "text/plain": [
       "8611"
      ]
     },
     "execution_count": 99,
     "metadata": {},
     "output_type": "execute_result"
    }
   ],
   "source": [
    "len(validX)"
   ]
  },
  {
   "cell_type": "code",
   "execution_count": 100,
   "metadata": {},
   "outputs": [
    {
     "data": {
      "text/plain": [
       "8611"
      ]
     },
     "execution_count": 100,
     "metadata": {},
     "output_type": "execute_result"
    }
   ],
   "source": [
    "len(validY)"
   ]
  },
  {
   "cell_type": "code",
   "execution_count": 101,
   "metadata": {},
   "outputs": [
    {
     "data": {
      "text/plain": [
       "8338"
      ]
     },
     "execution_count": 101,
     "metadata": {},
     "output_type": "execute_result"
    }
   ],
   "source": [
    "len(trainX)"
   ]
  },
  {
   "cell_type": "code",
   "execution_count": 102,
   "metadata": {},
   "outputs": [
    {
     "data": {
      "text/plain": [
       "8338"
      ]
     },
     "execution_count": 102,
     "metadata": {},
     "output_type": "execute_result"
    }
   ],
   "source": [
    "len(trainY)"
   ]
  }
 ],
 "metadata": {
  "kernelspec": {
   "display_name": "Python 3",
   "language": "python",
   "name": "python3"
  },
  "language_info": {
   "codemirror_mode": {
    "name": "ipython",
    "version": 3
   },
   "file_extension": ".py",
   "mimetype": "text/x-python",
   "name": "python",
   "nbconvert_exporter": "python",
   "pygments_lexer": "ipython3",
   "version": "3.6.5"
  },
  "toc": {
   "nav_menu": {},
   "number_sections": true,
   "sideBar": true,
   "skip_h1_title": false,
   "title_cell": "Table of Contents",
   "title_sidebar": "Contents",
   "toc_cell": false,
   "toc_position": {},
   "toc_section_display": true,
   "toc_window_display": false
  }
 },
 "nbformat": 4,
 "nbformat_minor": 2
}
