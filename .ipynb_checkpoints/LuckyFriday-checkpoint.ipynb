{
 "cells": [
  {
   "cell_type": "code",
   "execution_count": 1,
   "metadata": {},
   "outputs": [],
   "source": [
    "import re\n",
    "import sys\n",
    "import shutil as sh\n",
    "import os"
   ]
  },
  {
   "cell_type": "code",
   "execution_count": 2,
   "metadata": {},
   "outputs": [],
   "source": [
    "#path = \"/home/yingjie/Desktop/Machine_Learning/Assignment4/data/\"\n",
    "#path2 = \"/home/yingjie/Desktop/Machine_Learning/Assignment4/data_clean/\"\n",
    "path = \"/Users/Pan/Google Drive/Data Science/Machine Learning/ML_Assignment4/data/\"\n",
    "path2 = \"/Users/Pan/Google Drive/Data Science/Machine Learning/ML_Assignment4/data_clean/\""
   ]
  },
  {
   "cell_type": "code",
   "execution_count": 15,
   "metadata": {},
   "outputs": [],
   "source": [
    "def data_preprocess(path,thefile,num_of_reviews=None):    \n",
    "    # Replace all numbers with \"NUM\" special character\n",
    "    num_dec = re.compile(\"[\\d]+\\.[\\d]+\")\n",
    "    num_comma = re.compile(\"[\\d]+,[\\d]+\")\n",
    "    num_reg = re.compile(\"[\\d]+\")\n",
    "\n",
    "    # Detect non-English characters\n",
    "    non_eng = re.compile(\"[^a-zA-Z\\n ]\")\n",
    "    \n",
    "    #open file\n",
    "    file=open(os.path.join(path,thefile), \"r\", encoding=\"iso-8859-15\")\n",
    "    text = file.read().lower()\n",
    "    file.close()\n",
    "    \n",
    "    # Replace various forms of numbers with NUM character\n",
    "    text = num_dec.sub(\"NUM\", text)\n",
    "    text = num_comma.sub(\"NUM\", text)\n",
    "    text = num_reg.sub(\"NUM\", text)\n",
    "\n",
    "    # Replace all non-English characters with a space\n",
    "    text = non_eng.sub(\" \", text)\n",
    "\n",
    "    # Replace double spaces with a single space\n",
    "    text = text.replace(\"  \", \" \")\n",
    "    \n",
    "    # Split the file into reviews based on \\n\n",
    "    text = text.split(\"\\n\")\n",
    "    \n",
    "    if num_of_reviews is None:\n",
    "        num_of_reviews=len(text)\n",
    "        \n",
    "    small_train=''\n",
    "    for i in range(num_of_reviews):\n",
    "        small_train+=text[i]+\" END \"\n",
    "    small_train=[small_train]\n",
    "    \n",
    "    return(small_train)"
   ]
  },
  {
   "cell_type": "code",
   "execution_count": 16,
   "metadata": {},
   "outputs": [],
   "source": [
    "#full\n",
    "train=data_preprocess(path,\"down_sampled_reviews/train_tiny.txt\")\n",
    "valid=data_preprocess(path,\"down_sampled_reviews/valid_tiny.txt\")"
   ]
  },
  {
   "cell_type": "code",
   "execution_count": 23,
   "metadata": {},
   "outputs": [],
   "source": [
    "#partial\n",
    "train=data_preprocess(path,\"down_sampled_reviews/train_tiny.txt\",num_of_reviews=50)\n",
    "valid=data_preprocess(path,\"down_sampled_reviews/valid_tiny.txt\",num_of_reviews=10)"
   ]
  },
  {
   "cell_type": "markdown",
   "metadata": {},
   "source": [
    "## Convert Train to IDs"
   ]
  },
  {
   "cell_type": "code",
   "execution_count": 21,
   "metadata": {},
   "outputs": [
    {
     "name": "stderr",
     "output_type": "stream",
     "text": [
      "/Users/Pan/anaconda/lib/python3.6/site-packages/h5py/__init__.py:34: FutureWarning: Conversion of the second argument of issubdtype from `float` to `np.floating` is deprecated. In future, it will be treated as `np.float64 == np.dtype(float).type`.\n",
      "  from ._conv import register_converters as _register_converters\n"
     ]
    }
   ],
   "source": [
    "import numpy as np\n",
    "from tensorflow.contrib import learn"
   ]
  },
  {
   "cell_type": "code",
   "execution_count": 18,
   "metadata": {},
   "outputs": [],
   "source": [
    "def train_textlst_2_vocab(text,seq_size = 2):   \n",
    "    max_document_length=len(text[0].split(\" \"))\n",
    "    \n",
    "    ## Create the vocabularyprocessor object, setting the max lengh of the documents.\n",
    "    vocab_processor = learn.preprocessing.VocabularyProcessor(max_document_length)\n",
    "        \n",
    "\n",
    "    ## Transform the documents using the vocabulary.\n",
    "    train_transformed = np.array(list(vocab_processor.fit_transform(text)))\n",
    "    \n",
    "    vocab_dict = vocab_processor.vocabulary_._mapping\n",
    "    vocab_dict['END'] = -1\n",
    "\n",
    "    ## Extract word:id mapping from the object.\n",
    "    vocab_dict = vocab_processor.vocabulary_\n",
    "\n",
    "    train_transformed=np.array(list(vocab_processor.fit_transform(text)))\n",
    "    train_transformed=[np.trim_zeros(train_transformed[0], 'b')] #trim zero at the end\n",
    "    \n",
    "    trainX, trainY = [], []\n",
    "    max_document_length=len(train_transformed[0])\n",
    "    for i in range(max_document_length): \n",
    "        #[0,1,2,3,4,5,-1,1,2,3,4,5]\n",
    "        if -1 not in train_transformed[0][i:i+seq_size+1]:\n",
    "            trainX.append(np.expand_dims(train_transformed[0][i:i+seq_size], axis=1).tolist())\n",
    "            trainY.append(train_transformed[0][i+1:i+seq_size+1])\n",
    "    \n",
    "    size_vocab = len(vocab_dict)\n",
    "    \n",
    "    return trainX,trainY,size_vocab,vocab_dict"
   ]
  },
  {
   "cell_type": "code",
   "execution_count": 24,
   "metadata": {},
   "outputs": [
    {
     "name": "stdout",
     "output_type": "stream",
     "text": [
      "2283\n",
      "X:\n",
      " [[1], [2]]\n",
      "[[2], [3]]\n",
      "[[3], [4]]\n",
      "[[4], [5]]\n",
      "[[5], [6]]\n",
      "Y:\n",
      " [2 3]\n",
      "[3 4]\n",
      "[4 5]\n",
      "[5 6]\n",
      "[6 7]\n"
     ]
    }
   ],
   "source": [
    "seq_size=2\n",
    "trainX,trainY,size_vocab,train_vocab=train_textlst_2_vocab(train,seq_size = seq_size)\n",
    "print(size_vocab)\n",
    "print(\"X:\\n\",'\\n'.join([str(item) for item in trainX[0:5]]))\n",
    "print(\"Y:\\n\",'\\n'.join([str(item) for item in trainY[0:5]]))"
   ]
  },
  {
   "cell_type": "markdown",
   "metadata": {},
   "source": [
    "## Convert Valid to IDs"
   ]
  },
  {
   "cell_type": "code",
   "execution_count": 27,
   "metadata": {},
   "outputs": [],
   "source": [
    "max_document_length=len(train[0].split(\" \"))"
   ]
  },
  {
   "cell_type": "code",
   "execution_count": 29,
   "metadata": {},
   "outputs": [],
   "source": [
    "vocab_processor = learn.preprocessing.VocabularyProcessor(max_document_length,vocabulary=train_vocab)\n",
    "\n",
    "## Transform the documents using the vocabulary.\n",
    "train_transformed =np.array(list(vocab_processor.fit_transform(valid)))\n",
    "train_transformed=[np.trim_zeros(train_transformed[0], 'b')] #trim zero at the end\n",
    "\n",
    "## Extract word:id mapping from the object.\n",
    "valid_vocab = vocab_processor.vocabulary_\n",
    "\n",
    "validX, validY = [], []\n",
    "\n",
    "for i in range(max_document_length): \n",
    "    #[0,1,2,3,4,5,-1,1,2,3,4,5]\n",
    "    if -1 not in train_transformed[0][i:i+seq_size+1]:\n",
    "        validX.append(np.expand_dims(train_transformed[0][i:i+seq_size], axis=1).tolist())\n",
    "        validY.append(train_transformed[0][i+1:i+seq_size+1])"
   ]
  },
  {
   "cell_type": "code",
   "execution_count": 31,
   "metadata": {},
   "outputs": [
    {
     "name": "stdout",
     "output_type": "stream",
     "text": [
      "True\n",
      "2283\n",
      "X:\n",
      " [[1], [74]]\n",
      "[[74], [11]]\n",
      "[[11], [0]]\n",
      "[[0], [51]]\n",
      "[[51], [828]]\n",
      "Y:\n",
      " [74 11]\n",
      "[11  0]\n",
      "[ 0 51]\n",
      "[ 51 828]\n",
      "[828 174]\n"
     ]
    }
   ],
   "source": [
    "print(valid_vocab._mapping.items()==train_vocab._mapping.items()) #if match then good\n",
    "print(size_vocab)\n",
    "print(\"X:\\n\",'\\n'.join([str(item) for item in validX[0:5]]))\n",
    "print(\"Y:\\n\",'\\n'.join([str(item) for item in validY[0:5]]))"
   ]
  },
  {
   "cell_type": "markdown",
   "metadata": {},
   "source": [
    "## TF SETUP"
   ]
  },
  {
   "cell_type": "code",
   "execution_count": 32,
   "metadata": {},
   "outputs": [],
   "source": [
    "%matplotlib inline\n",
    "\n",
    "import pandas as pd\n",
    "import numpy as np\n",
    "import matplotlib.pyplot as plt\n",
    "import tensorflow as tf\n",
    "from tensorflow.contrib import rnn\n",
    "from sklearn.preprocessing import MinMaxScaler\n",
    "import timeit"
   ]
  },
  {
   "cell_type": "code",
   "execution_count": null,
   "metadata": {},
   "outputs": [],
   "source": [
    "graph = tf.Graph()\n",
    "with graph.as_default():\n",
    "    # input place holders\n",
    "    # input Shape: [# training examples, sequence length, # features]\n",
    "    x = tf.placeholder(tf.float32,[None,seq_size,1])\n",
    "    print(\"input shape:\", x.shape)\n",
    "\n",
    "    # label Shape: [# training examples, sequence length]\n",
    "    y = tf.placeholder(tf.int32,[None,seq_size])\n",
    "    print(\"ground truth shape:\", y.shape)\n",
    "\n",
    "    # RNN Network\n",
    "    cell = rnn.BasicRNNCell(hidden_dim)\n",
    "\n",
    "    # RNN output Shape: [# training examples, sequence length, # hidden] \n",
    "    outputs, _ = tf.nn.dynamic_rnn(cell,x,dtype=tf.float32)\n",
    "    num_examples = tf.shape(x)[0] \n",
    "\n",
    "    outputs=tf.reshape(outputs,[num_examples*seq_size, hidden_dim])\n",
    "    # weights for output dense layer (i.e., after RNN)\n",
    "    # W shape: [# hidden, 1]\n",
    "    W_out = tf.Variable(tf.random_normal([hidden_dim, size_vocab]),name=\"w_out\") \n",
    "    print(\"weights shape:\", W_out.shape)\n",
    "    \n",
    "    # b shape: [1]\n",
    "    b_out = tf.Variable(tf.random_normal([size_vocab]),name=\"b_out\")\n",
    "    print(\"bias shape\",b_out.shape)\n",
    "    \n",
    "    y_pred = tf.matmul(outputs,W_out)+b_out\n",
    "\n",
    "    y_pred=tf.reshape(y_pred,[num_examples, seq_size, size_vocab])\n",
    "    # Actually, y_pred: [# training examples, sequence length, 1]\n",
    "    # Remove last dimension using tf.squeeze\n",
    "    #y_pred = tf.squeeze(y_pred)\n",
    "\n",
    "    # Cost & Training Step\n",
    "    cost = tf.contrib.seq2seq.sequence_loss(y_pred,\n",
    "                                            y,\n",
    "                                            tf.ones([num_examples,seq_size],tf.float32),\n",
    "                                            average_across_timesteps=False,\n",
    "                                            average_across_batch=False)\n",
    "    cost = tf.reduce_mean(cost) \n",
    "    train_op = tf.train.AdamOptimizer().minimize(cost)\n",
    "    saver=tf.train.Saver()\n"
   ]
  },
  {
   "cell_type": "code",
   "execution_count": null,
   "metadata": {},
   "outputs": [],
   "source": [
    "\n",
    "    # Run Session\n",
    "with tf.Session(graph=graph) as sess:\n",
    "    # initialize variables\n",
    "    sess.run(tf.global_variables_initializer())\n",
    "    # Run for 1000 iterations (1000 is arbitrary, need a validation set to tune!)\n",
    "    start=timeit.default_timer()\n",
    "    print('Training %s ...'%cellType)\n",
    "    train_c = 0\n",
    "    for i in range(max_itr): # If we train more, would we overfit? Try 10000\n",
    "        #\n",
    "        _,train_err= sess.run([train_op,cost],feed_dict={x:trainX,y:trainY})\n",
    "        train_c += train_err\n",
    "\n",
    "        if i==0:\n",
    "            print('  step, train err= %6d: %8.5f' % (0,train_err)) \n",
    "        elif  (i+1) % 100 == 0: \n",
    "            print('  step, train err= %6d: %8.5f' % (i+1,train_err)) \n",
    "        if i>0 and (i+1) % 100 == 0:    \n",
    "            modelPath = saver.save(sess,\"%s/model_%s\"%(modelDir,cellType),global_step=i+1)\n",
    "            print(\"model saved:%s\"%modelPath)\n",
    "    end=timeit.default_timer()        \n",
    "    print(\"Training time : %10.5f\"%(end-start))\n",
    "     # Test trained model on training data\n",
    "    predicted_vals_all= sess.run(y_pred,feed_dict={x:trainX})\n",
    "    # Get last item in each predicted sequence:\n",
    "    predicted_vals = predicted_vals_all[:,-1]\n",
    "    test_c = 0\n",
    "    for i in range(max_itr): # If we train more, would we overfit? Try 10000\n",
    "        #\n",
    "        _,test_err= sess.run([train_op,cost],feed_dict={x:testX,y:testY})\n",
    "        test_c += test_err\n"
   ]
  }
 ],
 "metadata": {
  "kernelspec": {
   "display_name": "Python 3",
   "language": "python",
   "name": "python3"
  },
  "language_info": {
   "codemirror_mode": {
    "name": "ipython",
    "version": 3
   },
   "file_extension": ".py",
   "mimetype": "text/x-python",
   "name": "python",
   "nbconvert_exporter": "python",
   "pygments_lexer": "ipython3",
   "version": "3.6.5"
  }
 },
 "nbformat": 4,
 "nbformat_minor": 2
}
