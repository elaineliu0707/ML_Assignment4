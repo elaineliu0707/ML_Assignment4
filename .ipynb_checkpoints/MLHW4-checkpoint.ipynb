{
 "cells": [
  {
   "cell_type": "markdown",
   "metadata": {},
   "source": [
    "# 1 Read data & basic text prerpocessing"
   ]
  },
  {
   "cell_type": "code",
   "execution_count": 1,
   "metadata": {
    "collapsed": true
   },
   "outputs": [],
   "source": [
    "import re\n",
    "import sys\n",
    "import shutil as sh\n",
    "import os"
   ]
  },
  {
   "cell_type": "code",
   "execution_count": 2,
   "metadata": {
    "collapsed": true
   },
   "outputs": [],
   "source": [
    "path = \"/home/yingjie/Desktop/Machine_Learning/Assignment4/data/\"\n",
    "path2 = \"/home/yingjie/Desktop/Machine_Learning/Assignment4/data_clean/\"\n",
    "\n",
    "#path = \"/Users/Pan/Google Drive/Data Science/Machine Learning/ML_Assignment4/data/\"\n",
    "#path2 = \"/Users/Pan/Google Drive/Data Science/Machine Learning/ML_Assignment4/data_clean/\""
   ]
  },
  {
   "cell_type": "code",
   "execution_count": 3,
   "metadata": {
    "collapsed": true
   },
   "outputs": [],
   "source": [
    "def data_preprocess(path,thefile):\n",
    "    # Replace all numbers with \"NUM\" special character\n",
    "    num_dec = re.compile(\"[\\d]+\\.[\\d]+\")\n",
    "    num_comma = re.compile(\"[\\d]+,[\\d]+\")\n",
    "    num_reg = re.compile(\"[\\d]+\")\n",
    "\n",
    "    # Detect non-English characters\n",
    "    non_eng = re.compile(\"[^a-zA-Z\\n ]\")\n",
    "    \n",
    "    #open file\n",
    "    file=open(os.path.join(path,thefile), \"r\", encoding=\"iso-8859-15\")\n",
    "    text = file.read().lower()\n",
    "    file.close()\n",
    "    \n",
    "    # Replace various forms of numbers with NUM character\n",
    "    text = num_dec.sub(\"NUM\", text)\n",
    "    text = num_comma.sub(\"NUM\", text)\n",
    "    text = num_reg.sub(\"NUM\", text)\n",
    "\n",
    "    # Replace all non-English characters with a space\n",
    "    text = non_eng.sub(\" \", text)\n",
    "\n",
    "    # Replace double spaces with a single space\n",
    "    text = text.replace(\"  \", \" \")\n",
    "    \n",
    "    # Split the file into reviews based on \\n\n",
    "    text = text.split(\"\\n\")\n",
    "        \n",
    "    return(text)"
   ]
  },
  {
   "cell_type": "code",
   "execution_count": 4,
   "metadata": {
    "collapsed": true,
    "scrolled": false
   },
   "outputs": [],
   "source": [
    "train=data_preprocess(path,\"down_sampled_reviews/train_tiny.txt\")\n",
    "valid=data_preprocess(path,\"down_sampled_reviews/valid_tiny.txt\")"
   ]
  },
  {
   "cell_type": "markdown",
   "metadata": {},
   "source": [
    "# 2 Create vocabulary\n",
    "## dont need to run this part\n",
    "\n",
    "reference source:https://stackoverflow.com/questions/40661684/tensorflow-vocabularyprocessor"
   ]
  },
  {
   "cell_type": "code",
   "execution_count": 5,
   "metadata": {
    "scrolled": true
   },
   "outputs": [
    {
     "name": "stderr",
     "output_type": "stream",
     "text": [
      "/home/yingjie/anaconda3/lib/python3.6/site-packages/h5py/__init__.py:36: FutureWarning: Conversion of the second argument of issubdtype from `float` to `np.floating` is deprecated. In future, it will be treated as `np.float64 == np.dtype(float).type`.\n",
      "  from ._conv import register_converters as _register_converters\n"
     ]
    }
   ],
   "source": [
    "import numpy as np\n",
    "from tensorflow.contrib import learn"
   ]
  },
  {
   "cell_type": "code",
   "execution_count": 6,
   "metadata": {},
   "outputs": [
    {
     "data": {
      "text/plain": [
       "['i don t know why but flexaril just isn t doing the trick for me anymore i m shocked by how well this product works for muscle spasms i suppose the valerian and passiflora which are also mental relaxants along with the magnesium for the cramping help give you that over all feeling of ahhh  i know not everything works for everyone and it s a relatively expensive purchase if it doesn t if you re need of one of their other vitamins order those and they ll send along a free trial of the valerin and you can find out for yourself that s how i got to experience it i ordered their cinnamon for blood sugar support and got the sample i also take the valerin at night with schiff melatonin plus total relaxation comes swiftly and long vivid dreams follow  a side effect of melatonin i really enjoy i like this product so much i ve been passing it out like a pusher telling people try this it s awesome  END not the most innovative concept in marketing but galdwell did a very good job in explaining a complex phenomena by giving easy to follow examples i particularly like the boston tea party example  END ']"
      ]
     },
     "execution_count": 6,
     "metadata": {},
     "output_type": "execute_result"
    }
   ],
   "source": [
    "num_of_reviews=2\n",
    "small_train=''\n",
    "for i in range(num_of_reviews):\n",
    "    small_train+=train[i]+\" END \"\n",
    "small_train=[small_train]\n",
    "small_train"
   ]
  },
  {
   "cell_type": "code",
   "execution_count": 7,
   "metadata": {},
   "outputs": [
    {
     "data": {
      "text/plain": [
       "213"
      ]
     },
     "execution_count": 7,
     "metadata": {},
     "output_type": "execute_result"
    }
   ],
   "source": [
    "max_document_length=len(small_train[0].split(\" \"))\n",
    "max_document_length"
   ]
  },
  {
   "cell_type": "code",
   "execution_count": 8,
   "metadata": {
    "collapsed": true
   },
   "outputs": [],
   "source": [
    "## Create the vocabularyprocessor object, setting the max lengh of the documents.\n",
    "vocab_processor = learn.preprocessing.VocabularyProcessor(max_document_length)"
   ]
  },
  {
   "cell_type": "code",
   "execution_count": 9,
   "metadata": {},
   "outputs": [
    {
     "data": {
      "text/plain": [
       "array([[  1,   2,   3,   4,   5,   6,   7,   8,   9,   3,  10,  11,  12,\n",
       "         13,  14,  15,   1,  16,  17,  18,  19,  20,  21,  22,  23,  13,\n",
       "         24,  25,   1,  26,  11,  27,  28,  29,  30,  31,  32,  33,  34,\n",
       "         35,  36,  11,  37,  13,  11,  38,  39,  40,  41,  42,  43,  44,\n",
       "         45,  46,  47,   1,   4,  48,  49,  23,  13,  50,  28,  51,  52,\n",
       "         53,  54,  55,  56,  57,  51,  58,   3,  57,  41,  59,  60,  46,\n",
       "         61,  46,  62,  63,  64,  65,  66,  28,  67,  68,  69,  35,  53,\n",
       "         70,  71,  46,  11,  72,  28,  41,  73,  74,  75,  13,  76,  42,\n",
       "         52,  19,   1,  77,  78,  79,  51,   1,  80,  62,  81,  13,  82,\n",
       "         83,  84,  28,  77,  11,  85,   1,  32,  86,  11,  72,  87,  88,\n",
       "         36,  89,  90,  91,  92,  93,  94,  95,  28,  96,  97,  98,  99,\n",
       "         53, 100, 101,  46,  90,   1, 102, 103,   1, 104,  21,  22, 105,\n",
       "        106,   1, 107, 108, 109,  51,  75, 104,  53, 110, 111, 112, 113,\n",
       "         21,  51,  52, 114, 115,  48,  11, 116, 117, 118, 119, 120,   6,\n",
       "        121, 122,  53, 123, 124, 125, 119, 126,  53, 127, 128,  18, 129,\n",
       "        130,  78,  99, 131,   1, 132, 104,  11, 133, 134, 135, 136, 115,\n",
       "          0,   0,   0,   0,   0]])"
      ]
     },
     "execution_count": 9,
     "metadata": {},
     "output_type": "execute_result"
    }
   ],
   "source": [
    "## Transform the documents using the vocabulary.\n",
    "train_transformed = np.array(list(vocab_processor.fit_transform(small_train)))\n",
    "train_transformed"
   ]
  },
  {
   "cell_type": "code",
   "execution_count": 10,
   "metadata": {},
   "outputs": [
    {
     "data": {
      "text/plain": [
       "[array([  1,   2,   3,   4,   5,   6,   7,   8,   9,   3,  10,  11,  12,\n",
       "         13,  14,  15,   1,  16,  17,  18,  19,  20,  21,  22,  23,  13,\n",
       "         24,  25,   1,  26,  11,  27,  28,  29,  30,  31,  32,  33,  34,\n",
       "         35,  36,  11,  37,  13,  11,  38,  39,  40,  41,  42,  43,  44,\n",
       "         45,  46,  47,   1,   4,  48,  49,  23,  13,  50,  28,  51,  52,\n",
       "         53,  54,  55,  56,  57,  51,  58,   3,  57,  41,  59,  60,  46,\n",
       "         61,  46,  62,  63,  64,  65,  66,  28,  67,  68,  69,  35,  53,\n",
       "         70,  71,  46,  11,  72,  28,  41,  73,  74,  75,  13,  76,  42,\n",
       "         52,  19,   1,  77,  78,  79,  51,   1,  80,  62,  81,  13,  82,\n",
       "         83,  84,  28,  77,  11,  85,   1,  32,  86,  11,  72,  87,  88,\n",
       "         36,  89,  90,  91,  92,  93,  94,  95,  28,  96,  97,  98,  99,\n",
       "         53, 100, 101,  46,  90,   1, 102, 103,   1, 104,  21,  22, 105,\n",
       "        106,   1, 107, 108, 109,  51,  75, 104,  53, 110, 111, 112, 113,\n",
       "         21,  51,  52, 114, 115,  48,  11, 116, 117, 118, 119, 120,   6,\n",
       "        121, 122,  53, 123, 124, 125, 119, 126,  53, 127, 128,  18, 129,\n",
       "        130,  78,  99, 131,   1, 132, 104,  11, 133, 134, 135, 136, 115])]"
      ]
     },
     "execution_count": 10,
     "metadata": {},
     "output_type": "execute_result"
    }
   ],
   "source": [
    "train_transformed=[np.trim_zeros(train_transformed[0], 'b')]\n",
    "train_transformed"
   ]
  },
  {
   "cell_type": "code",
   "execution_count": 11,
   "metadata": {},
   "outputs": [
    {
     "data": {
      "text/plain": [
       "dict_items([('<UNK>', 0), ('i', 1), ('don', 2), ('t', 3), ('know', 4), ('why', 5), ('but', 6), ('flexaril', 7), ('just', 8), ('isn', 9), ('doing', 10), ('the', 11), ('trick', 12), ('for', 13), ('me', 14), ('anymore', 15), ('m', 16), ('shocked', 17), ('by', 18), ('how', 19), ('well', 20), ('this', 21), ('product', 22), ('works', 23), ('muscle', 24), ('spasms', 25), ('suppose', 26), ('valerian', 27), ('and', 28), ('passiflora', 29), ('which', 30), ('are', 31), ('also', 32), ('mental', 33), ('relaxants', 34), ('along', 35), ('with', 36), ('magnesium', 37), ('cramping', 38), ('help', 39), ('give', 40), ('you', 41), ('that', 42), ('over', 43), ('all', 44), ('feeling', 45), ('of', 46), ('ahhh', 47), ('not', 48), ('everything', 49), ('everyone', 50), ('it', 51), ('s', 52), ('a', 53), ('relatively', 54), ('expensive', 55), ('purchase', 56), ('if', 57), ('doesn', 58), ('re', 59), ('need', 60), ('one', 61), ('their', 62), ('other', 63), ('vitamins', 64), ('order', 65), ('those', 66), ('they', 67), ('ll', 68), ('send', 69), ('free', 70), ('trial', 71), ('valerin', 72), ('can', 73), ('find', 74), ('out', 75), ('yourself', 76), ('got', 77), ('to', 78), ('experience', 79), ('ordered', 80), ('cinnamon', 81), ('blood', 82), ('sugar', 83), ('support', 84), ('sample', 85), ('take', 86), ('at', 87), ('night', 88), ('schiff', 89), ('melatonin', 90), ('plus', 91), ('total', 92), ('relaxation', 93), ('comes', 94), ('swiftly', 95), ('long', 96), ('vivid', 97), ('dreams', 98), ('follow', 99), ('side', 100), ('effect', 101), ('really', 102), ('enjoy', 103), ('like', 104), ('so', 105), ('much', 106), ('ve', 107), ('been', 108), ('passing', 109), ('pusher', 110), ('telling', 111), ('people', 112), ('try', 113), ('awesome', 114), ('END', -1), ('most', 116), ('innovative', 117), ('concept', 118), ('in', 119), ('marketing', 120), ('galdwell', 121), ('did', 122), ('very', 123), ('good', 124), ('job', 125), ('explaining', 126), ('complex', 127), ('phenomena', 128), ('giving', 129), ('easy', 130), ('examples', 131), ('particularly', 132), ('boston', 133), ('tea', 134), ('party', 135), ('example', 136)])"
      ]
     },
     "execution_count": 11,
     "metadata": {},
     "output_type": "execute_result"
    }
   ],
   "source": [
    "## Extract word:id mapping from the object.\n",
    "vocab_dict = vocab_processor.vocabulary_._mapping\n",
    "vocab_dict['END'] = -1\n",
    "vocab_dict.items()"
   ]
  },
  {
   "cell_type": "code",
   "execution_count": 12,
   "metadata": {},
   "outputs": [
    {
     "data": {
      "text/plain": [
       "[array([  1,   2,   3,   4,   5,   6,   7,   8,   9,   3,  10,  11,  12,\n",
       "         13,  14,  15,   1,  16,  17,  18,  19,  20,  21,  22,  23,  13,\n",
       "         24,  25,   1,  26,  11,  27,  28,  29,  30,  31,  32,  33,  34,\n",
       "         35,  36,  11,  37,  13,  11,  38,  39,  40,  41,  42,  43,  44,\n",
       "         45,  46,  47,   1,   4,  48,  49,  23,  13,  50,  28,  51,  52,\n",
       "         53,  54,  55,  56,  57,  51,  58,   3,  57,  41,  59,  60,  46,\n",
       "         61,  46,  62,  63,  64,  65,  66,  28,  67,  68,  69,  35,  53,\n",
       "         70,  71,  46,  11,  72,  28,  41,  73,  74,  75,  13,  76,  42,\n",
       "         52,  19,   1,  77,  78,  79,  51,   1,  80,  62,  81,  13,  82,\n",
       "         83,  84,  28,  77,  11,  85,   1,  32,  86,  11,  72,  87,  88,\n",
       "         36,  89,  90,  91,  92,  93,  94,  95,  28,  96,  97,  98,  99,\n",
       "         53, 100, 101,  46,  90,   1, 102, 103,   1, 104,  21,  22, 105,\n",
       "        106,   1, 107, 108, 109,  51,  75, 104,  53, 110, 111, 112, 113,\n",
       "         21,  51,  52, 114,  -1,  48,  11, 116, 117, 118, 119, 120,   6,\n",
       "        121, 122,  53, 123, 124, 125, 119, 126,  53, 127, 128,  18, 129,\n",
       "        130,  78,  99, 131,   1, 132, 104,  11, 133, 134, 135, 136,  -1])]"
      ]
     },
     "execution_count": 12,
     "metadata": {},
     "output_type": "execute_result"
    }
   ],
   "source": [
    "# -1 is in \n",
    "train_transformed2=np.array(list(vocab_processor.fit_transform(small_train)))\n",
    "train_transformed2=[np.trim_zeros(train_transformed2[0], 'b')]\n",
    "train_transformed2"
   ]
  },
  {
   "cell_type": "code",
   "execution_count": 13,
   "metadata": {},
   "outputs": [
    {
     "name": "stdout",
     "output_type": "stream",
     "text": [
      "[-1, 0, 1, 2, 3, 4, 5, 6, 7, 8, 9, 10, 11, 12, 13, 14, 15, 16, 17, 18, 19, 20, 21, 22, 23, 24, 25, 26, 27, 28, 29, 30, 31, 32, 33, 34, 35, 36, 37, 38, 39, 40, 41, 42, 43, 44, 45, 46, 47, 48, 49, 50, 51, 52, 53, 54, 55, 56, 57, 58, 59, 60, 61, 62, 63, 64, 65, 66, 67, 68, 69, 70, 71, 72, 73, 74, 75, 76, 77, 78, 79, 80, 81, 82, 83, 84, 85, 86, 87, 88, 89, 90, 91, 92, 93, 94, 95, 96, 97, 98, 99, 100, 101, 102, 103, 104, 105, 106, 107, 108, 109, 110, 111, 112, 113, 114, 116, 117, 118, 119, 120, 121, 122, 123, 124, 125, 126, 127, 128, 129, 130, 131, 132, 133, 134, 135, 136]\n"
     ]
    }
   ],
   "source": [
    "## Sort the vocabulary dictionary on the basis of values(id).\n",
    "## Both statements perform same task.\n",
    "#sorted_vocab = sorted(vocab_dict.items(), key=operator.itemgetter(1))\n",
    "sorted_vocab = sorted(vocab_dict.items(), key = lambda x : x[1])\n",
    "## Treat the id's as index into list and create a list of words in the ascending order of id's\n",
    "## word with id i goes at index i of the list.\n",
    "vocabulary = list(list(zip(*sorted_vocab))[1])\n",
    "print(vocabulary)"
   ]
  },
  {
   "cell_type": "code",
   "execution_count": 14,
   "metadata": {},
   "outputs": [
    {
     "name": "stdout",
     "output_type": "stream",
     "text": [
      "X:\n",
      " [[1], [2]]\n",
      "[[2], [3]]\n",
      "[[3], [4]]\n",
      "[[4], [5]]\n",
      "[[5], [6]]\n",
      "Y:\n",
      " [2 3]\n",
      "[3 4]\n",
      "[4 5]\n",
      "[5 6]\n",
      "[6 7]\n"
     ]
    }
   ],
   "source": [
    "seq_size = 2\n",
    "trainX, trainY = [], []\n",
    "max_document_length=len(train_transformed2[0])\n",
    "for i in range(max_document_length): \n",
    "    #[0,1,2,3,4,5,-1,1,2,3,4,5]\n",
    "    if -1 not in train_transformed2[0][i:i+seq_size+1]:\n",
    "        trainX.append(np.expand_dims(train_transformed2[0][i:i+seq_size], axis=1).tolist())\n",
    "        trainY.append(train_transformed2[0][i+1:i+seq_size+1])\n",
    "\n",
    "# Inspect trainX and trainY\n",
    "print(\"X:\\n\",'\\n'.join([str(item) for item in trainX[0:5]]))\n",
    "print(\"Y:\\n\",'\\n'.join([str(item) for item in trainY[0:5]]))"
   ]
  },
  {
   "cell_type": "code",
   "execution_count": 15,
   "metadata": {
    "collapsed": true
   },
   "outputs": [],
   "source": [
    "size_vocab = len(vocabulary)"
   ]
  },
  {
   "cell_type": "markdown",
   "metadata": {},
   "source": [
    "# 2b Create vocabulary through a function"
   ]
  },
  {
   "cell_type": "code",
   "execution_count": 16,
   "metadata": {},
   "outputs": [],
   "source": [
    "import numpy as np\n",
    "from tensorflow.contrib import learn"
   ]
  },
  {
   "cell_type": "code",
   "execution_count": 17,
   "metadata": {
    "collapsed": true
   },
   "outputs": [],
   "source": [
    "def textlst_2_vocab(textlst,num_of_reviews=None,seq_size = 2):\n",
    "    if num_of_reviews is None:\n",
    "        num_of_reviews=len(textlst)\n",
    "        \n",
    "    small_train=''\n",
    "    for i in range(num_of_reviews):\n",
    "        small_train+=textlst[i]+\" END \"\n",
    "    small_train=[small_train]\n",
    "    \n",
    "    max_document_length=len(small_train[0].split(\" \"))\n",
    "    \n",
    "    ## Create the vocabularyprocessor object, setting the max lengh of the documents.\n",
    "    vocab_processor = learn.preprocessing.VocabularyProcessor(max_document_length)\n",
    "    \n",
    "    ## Transform the documents using the vocabulary.\n",
    "    train_transformed = np.array(list(vocab_processor.fit_transform(small_train)))\n",
    "    \n",
    "    ## Extract word:id mapping from the object.\n",
    "    vocab_dict = vocab_processor.vocabulary_._mapping\n",
    "    vocab_dict['END'] = -1\n",
    "    \n",
    "    train_transformed2=np.array(list(vocab_processor.fit_transform(small_train)))\n",
    "    train_transformed2=[np.trim_zeros(train_transformed2[0], 'b')]\n",
    "    \n",
    "    #sorted_vocab = sorted(vocab_dict.items(), key=operator.itemgetter(1))\n",
    "    sorted_vocab = sorted(vocab_dict.items(), key = lambda x : x[1])\n",
    "    ## Treat the id's as index into list and create a list of words in the ascending order of id's\n",
    "    ## word with id i goes at index i of the list.\n",
    "    vocabulary = list(list(zip(*sorted_vocab))[1])\n",
    "    \n",
    "    trainX, trainY = [], []\n",
    "    max_document_length=len(train_transformed2[0])\n",
    "    for i in range(max_document_length): \n",
    "        #[0,1,2,3,4,5,-1,1,2,3,4,5]\n",
    "        if -1 not in train_transformed2[0][i:i+seq_size+1]:\n",
    "            trainX.append(np.expand_dims(train_transformed2[0][i:i+seq_size], axis=1).tolist())\n",
    "            trainY.append(train_transformed2[0][i+1:i+seq_size+1])\n",
    "    \n",
    "    size_vocab = len(vocabulary)\n",
    "    \n",
    "    return trainX,trainY,size_vocab"
   ]
  },
  {
   "cell_type": "code",
   "execution_count": 18,
   "metadata": {},
   "outputs": [
    {
     "name": "stdout",
     "output_type": "stream",
     "text": [
      "10763\n",
      "X:\n",
      " [[1], [2]]\n",
      "[[2], [3]]\n",
      "[[3], [4]]\n",
      "[[4], [5]]\n",
      "[[5], [6]]\n",
      "Y:\n",
      " [2 3]\n",
      "[3 4]\n",
      "[4 5]\n",
      "[5 6]\n",
      "[6 7]\n"
     ]
    }
   ],
   "source": [
    "num_of_reviews=500\n",
    "seq_size=2\n",
    "trainX,trainY,size_vocab=textlst_2_vocab(train,num_of_reviews=num_of_reviews,seq_size = seq_size)\n",
    "print(size_vocab)\n",
    "print(\"X:\\n\",'\\n'.join([str(item) for item in trainX[0:5]]))\n",
    "print(\"Y:\\n\",'\\n'.join([str(item) for item in trainY[0:5]]))"
   ]
  },
  {
   "cell_type": "code",
   "execution_count": 19,
   "metadata": {},
   "outputs": [
    {
     "name": "stdout",
     "output_type": "stream",
     "text": [
      "10451\n",
      "X:\n",
      " [[1], [2]]\n",
      "[[2], [3]]\n",
      "[[3], [4]]\n",
      "[[4], [5]]\n",
      "[[5], [6]]\n",
      "Y:\n",
      " [2 3]\n",
      "[3 4]\n",
      "[4 5]\n",
      "[5 6]\n",
      "[6 7]\n"
     ]
    }
   ],
   "source": [
    "num_of_reviews_valid = 500\n",
    "validX,validY,size_vocab_val=textlst_2_vocab(valid,num_of_reviews=num_of_reviews_valid,seq_size = seq_size)\n",
    "print(size_vocab_val)\n",
    "print(\"X:\\n\",'\\n'.join([str(item) for item in validX[0:5]]))\n",
    "print(\"Y:\\n\",'\\n'.join([str(item) for item in validY[0:5]]))"
   ]
  },
  {
   "cell_type": "markdown",
   "metadata": {},
   "source": [
    "# TF setup"
   ]
  },
  {
   "cell_type": "code",
   "execution_count": 20,
   "metadata": {
    "collapsed": true
   },
   "outputs": [],
   "source": [
    "%matplotlib inline\n",
    "\n",
    "import pandas as pd\n",
    "import numpy as np\n",
    "import matplotlib.pyplot as plt\n",
    "import tensorflow as tf\n",
    "from tensorflow.contrib import rnn\n",
    "from sklearn.preprocessing import MinMaxScaler"
   ]
  },
  {
   "cell_type": "code",
   "execution_count": 21,
   "metadata": {},
   "outputs": [
    {
     "name": "stdout",
     "output_type": "stream",
     "text": [
      "input shape: (?, 2, 1)\n",
      "ground truth shape: (?, 2)\n",
      "output from tf,nn.dynamic_rnn shape (?, 2, 100)\n",
      "reshaped output from RNN shape: (?, 2, 100)\n",
      "weights shape: (100, 10763)\n",
      "bias shape (10763,)\n",
      "fully connected and reshaped outputs: Tensor(\"Reshape:0\", shape=(?, 100), dtype=float32)\n",
      "final logits shape: (?, 2, 10763)\n"
     ]
    }
   ],
   "source": [
    "# Build computational graph\n",
    "input_dim=1 # dim > 1 for multivariate time series\n",
    "hidden_dim=100 # number of hiddent units h\n",
    "graph = tf.Graph()\n",
    "\n",
    "with graph.as_default():\n",
    "    # input place holders\n",
    "    # input Shape: [# training examples, sequence length, # features]\n",
    "    x = tf.placeholder(tf.float32,[None,seq_size,input_dim])\n",
    "    print(\"input shape:\", x.shape)\n",
    "    \n",
    "    # label Shape: [# training examples, sequence length]\n",
    "    y = tf.placeholder(tf.int32,[None,seq_size])\n",
    "    print(\"ground truth shape:\", y.shape)\n",
    "    \n",
    "    num_examples = tf.shape(x)[0]\n",
    "    \n",
    "    # RNN Network\n",
    "    cell = rnn.BasicRNNCell(hidden_dim)\n",
    "    \n",
    "    # RNN output Shape: [# training examples, sequence length, # hidden] \n",
    "    outputs, _ = tf.nn.dynamic_rnn(cell,x,dtype=tf.float32)\n",
    "    print(\"output from tf,nn.dynamic_rnn shape\", outputs.shape)\n",
    "    \n",
    "    #outputs = tf.reshape(outputs, [num_examples*seq_size, hidden_dim])\n",
    "    print(\"reshaped output from RNN shape:\", outputs.shape)\n",
    "    \n",
    "    # weights for output dense layer (i.e., after RNN)\n",
    "    # W shape: [# hidden, 1]\n",
    "    W_out = tf.Variable(tf.random_normal([hidden_dim,size_vocab]),name=\"w_out\")\n",
    "    print(\"weights shape:\", W_out.shape)\n",
    "    # b shape: [1]\n",
    "    b_out = tf.Variable(tf.random_normal([size_vocab]),name=\"b_out\")\n",
    "    print(\"bias shape\",b_out.shape)\n",
    "    \n",
    "    # logit shape [# training examples, vocab_size] \n",
    "    outputs_reshaped = tf.reshape(outputs, [num_examples*seq_size, hidden_dim])\n",
    "    print(\"fully connected and reshaped outputs:\", outputs_reshaped) \n",
    "    \n",
    "    network_output = ((tf.matmul(outputs_reshaped,W_out) + b_out))\n",
    "    #print(network_output)\n",
    "          \n",
    "    y_pred = tf.reshape(\n",
    "        network_output,\n",
    "        [num_examples, seq_size, size_vocab])\n",
    "    print(\"final logits shape:\", y_pred.shape)\n",
    "    \n",
    "    # output dense layer:\n",
    "    # convert W from [# hidden, 1] to [# training examples, # hidden, 1]\n",
    "    # step 1: add a new dimension at index 0 using tf.expand_dims\n",
    "    #w_exp= tf.expand_dims(W_out,0)\n",
    "    # step 2: duplicate W for 'num_examples' times using tf.tile\n",
    "    #W_repeated = tf.tile(w_exp,[num_examples,1,1])\n",
    "    \n",
    "    # Dense Layer calculation: \n",
    "    # [# training examples, sequence length, # hidden] *\n",
    "    # [# training examples, # hidden, 1] = [# training examples, sequence length]\n",
    "    \n",
    "    # Actually, y_pred: [# training examples, sequence length, 1]\n",
    "    # Remove last dimension using tf.squeeze\n",
    "    #y_pred = tf.add(tf.matmul(logit, W_repeated),b_out)\n",
    "    #y_pred = tf.squeeze(y_pred)    # [# training examples, sequence length]\n",
    "    #y_pred = tf.reshape(y_pred)\n",
    "    \n",
    "    #num_examples= tf.cast(num_examples, tf.float32)\n",
    "    \n",
    "    # Cost & Training Step\n",
    "    #cost = -tf.reduce_sum(y*tf.log(y_pred)) #cross_entropy\n",
    "    weights = tf.ones([num_examples,seq_size])\n",
    "    loss = tf.contrib.seq2seq.sequence_loss(y_pred,y,weights) \n",
    "    #cost = tf.reduce_sum(loss)/num_examples\n",
    "    train_op = tf.train.AdamOptimizer(learning_rate=0.01).minimize(loss)\n"
   ]
  },
  {
   "cell_type": "code",
   "execution_count": 22,
   "metadata": {
    "scrolled": true
   },
   "outputs": [
    {
     "name": "stdout",
     "output_type": "stream",
     "text": [
      "Training...\n",
      "  step, train err=      0: 36.24044\n",
      "  step, test err=      0: 33.24336\n",
      "  step, train err=    100:  6.82787\n",
      "  step, test err=    100:  8.83469\n",
      "  step, train err=    200:  6.76396\n",
      "  step, test err=    200:  8.89076\n",
      "  step, train err=    300:  6.70896\n",
      "  step, test err=    300:  8.99839\n",
      "  step, train err=    400:  6.66726\n",
      "  step, test err=    400:  9.11312\n",
      "  step, train err=    500:  6.64154\n",
      "  step, test err=    500:  9.19971\n",
      "Dimension check for train:True\n",
      "my training accuracy =  0.05267\n",
      "---------------------------------\n",
      "Dimension check for train:True\n",
      "my testing accuracy =  0.00420\n",
      "---------------------------------\n"
     ]
    }
   ],
   "source": [
    "# Run Session\n",
    "with tf.Session(graph=graph) as sess:\n",
    "    # initialize variables\n",
    "    sess.run(tf.global_variables_initializer())\n",
    "    # Run for 1000 iterations (1000 is arbitrary, need a validation set to tune!)\n",
    "    print('Training...')\n",
    "    for i in range(500): # If we train more, would we overfit? Try 10000\n",
    "        _, train_err = sess.run([train_op,loss],feed_dict={x:trainX,y:trainY})\n",
    "        test_err = sess.run(loss,feed_dict={x:validX,y:validY})\n",
    "        if i==0:\n",
    "            print('  step, train err= %6d: %8.5f' % (0,train_err))\n",
    "            print('  step, test err= %6d: %8.5f' % (0,test_err))\n",
    "        elif  (i+1) % 100 == 0: \n",
    "            print('  step, train err= %6d: %8.5f' % (i+1,train_err))\n",
    "            print('  step, test err= %6d: %8.5f' % (i+1,test_err))\n",
    "            \n",
    "    # Test trained model on training data\n",
    "    predicted_vals_all= sess.run(y_pred,feed_dict={x:trainX})\n",
    "    \n",
    "    # Get predicted value in each predicted sequence:\n",
    "    predicted_vals = np.argmax(predicted_vals_all,2) \n",
    "    \n",
    "    print(\"Dimension check for train:\"+str(np.size(predicted_vals_all,0)==len(trainX)))\n",
    "    \n",
    "    myaccuracy=sum([el[1] for el in predicted_vals==trainY])/np.size(predicted_vals_all,0)\n",
    "    print('my training accuracy = %8.5f' % myaccuracy)\n",
    "    print('---------------------------------')\n",
    "    \n",
    "    # Test trained model on testing data\n",
    "    predicted_vals_all_test= sess.run(y_pred,feed_dict={x:validX})\n",
    "    \n",
    "    # Get predicted value in each predicted sequence:\n",
    "    predicted_vals_test = np.argmax(predicted_vals_all_test,2) \n",
    "    \n",
    "    print(\"Dimension check for train:\"+str(np.size(predicted_vals_all_test,0)==len(validX)))\n",
    "    \n",
    "    myaccuracy_test=sum([el[1] for el in predicted_vals_test==validY])/np.size(predicted_vals_all_test,0)\n",
    "    print('my testing accuracy = %8.5f' % myaccuracy_test)\n",
    "    print('---------------------------------')"
   ]
  },
  {
   "cell_type": "markdown",
   "metadata": {},
   "source": [
    "## Compare performance of RNNs, LSTMs, GRUs"
   ]
  },
  {
   "cell_type": "code",
   "execution_count": null,
   "metadata": {
    "collapsed": true
   },
   "outputs": [],
   "source": [
    "import timeit\n",
    "# Encapsulate the entire prediction problem as a function\n",
    "def build_and_predict(trainX,trainY,testX,cell,cellType,input_dim=1,hidden_dim=100,seq_size = 12,max_itr=200):\n",
    "\n",
    "    graph = tf.Graph()\n",
    "    with graph.as_default():\n",
    "        # input place holders\n",
    "        # input Shape: [# training examples, sequence length, # features]\n",
    "        x = tf.placeholder(tf.float32,[None,seq_size,input_dim])\n",
    "        # label Shape: [# training examples, sequence length]\n",
    "        y = tf.placeholder(tf.float32,[None,seq_size])\n",
    "        \n",
    "        \n",
    "        \n",
    "        # RNN output Shape: [# training examples, sequence length, # hidden] \n",
    "        outputs, _ = tf.nn.dynamic_rnn(cell,x,dtype=tf.float32)\n",
    "        \n",
    "        \n",
    "        # weights for output dense layer (i.e., after RNN)\n",
    "        # W shape: [# hidden, 1]\n",
    "        W_out = tf.Variable(tf.random_normal([hidden_dim,1]),name=\"w_out\") \n",
    "        # b shape: [1]\n",
    "        b_out = tf.Variable(tf.random_normal([1]),name=\"b_out\")\n",
    "    \n",
    "        # output dense layer:\n",
    "        num_examples = tf.shape(x)[0] \n",
    "        # convert W from [# hidden, 1] to [# training examples, # hidden, 1]\n",
    "        # step 1: add a new dimension at index 0 using tf.expand_dims\n",
    "        w_exp= tf.expand_dims(W_out,0)\n",
    "        # step 2: duplicate W for 'num_examples' times using tf.tile\n",
    "        W_repeated = tf.tile(w_exp,[num_examples,1,1])\n",
    "        \n",
    "        # Dense Layer calculation: \n",
    "        # [# training examples, sequence length, # hidden] *\n",
    "        # [# training examples, # hidden, 1] = [# training examples, sequence length]\n",
    "        \n",
    "        y_pred = tf.matmul(outputs,W_repeated)+b_out\n",
    "        # Actually, y_pred: [# training examples, sequence length, 1]\n",
    "        # Remove last dimension using tf.squeeze\n",
    "        y_pred = tf.squeeze(y_pred)\n",
    "        \n",
    "        # Cost & Training Step\n",
    "        cost = tf.reduce_mean(tf.square(y_pred-y))\n",
    "        train_op = tf.train.AdamOptimizer(learning_rate=0.01).minimize(cost)\n",
    "        \n",
    "        # Run Session\n",
    "    with tf.Session(graph=graph) as sess:\n",
    "        # initialize variables\n",
    "        sess.run(tf.global_variables_initializer())\n",
    "        # Run for 1000 iterations (1000 is arbitrary, need a validation set to tune!)\n",
    "        start=timeit.default_timer()\n",
    "        print('Training %s ...'%cellType)\n",
    "        for i in range(max_itr): # If we train more, would we overfit? Try 10000\n",
    "            _, train_err = sess.run([train_op,cost],feed_dict={x:trainX,y:trainY})\n",
    "            if i==0:\n",
    "                print('  step, train err= %6d: %8.5f' % (0,train_err)) \n",
    "            elif  (i+1) % 100 == 0: \n",
    "                print('  step, train err= %6d: %8.5f' % (i+1,train_err)) \n",
    "        end=timeit.default_timer()        \n",
    "        print(\"Training time : %10.5f\"%(end-start))\n",
    "         # Test trained model on training data\n",
    "        predicted_vals_all= sess.run(y_pred,feed_dict={x:testX}) \n",
    "        # Get last item in each predicted sequence:\n",
    "        predicted_vals = predicted_vals_all[:,seq_size-1]\n",
    "      \n",
    "    \n",
    "    return predicted_vals"
   ]
  }
 ],
 "metadata": {
  "kernelspec": {
   "display_name": "Python 3",
   "language": "python",
   "name": "python3"
  },
  "language_info": {
   "codemirror_mode": {
    "name": "ipython",
    "version": 3
   },
   "file_extension": ".py",
   "mimetype": "text/x-python",
   "name": "python",
   "nbconvert_exporter": "python",
   "pygments_lexer": "ipython3",
   "version": "3.6.5"
  },
  "toc": {
   "nav_menu": {},
   "number_sections": true,
   "sideBar": true,
   "skip_h1_title": false,
   "title_cell": "Table of Contents",
   "title_sidebar": "Contents",
   "toc_cell": false,
   "toc_position": {},
   "toc_section_display": true,
   "toc_window_display": false
  }
 },
 "nbformat": 4,
 "nbformat_minor": 2
}
