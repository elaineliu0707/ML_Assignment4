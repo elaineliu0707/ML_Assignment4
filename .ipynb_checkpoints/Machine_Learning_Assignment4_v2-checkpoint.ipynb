{
 "cells": [
  {
   "cell_type": "code",
   "execution_count": 2,
   "metadata": {
    "collapsed": true
   },
   "outputs": [],
   "source": [
    "#Jo's trial\n"
   ]
  },
  {
   "cell_type": "markdown",
   "metadata": {},
   "source": [
    "# 1 Read data & basic text prerpocessing"
   ]
  },
  {
   "cell_type": "code",
   "execution_count": 3,
   "metadata": {
    "collapsed": true
   },
   "outputs": [],
   "source": [
    "import re\n",
    "import sys\n",
    "import shutil as sh\n",
    "import os"
   ]
  },
  {
   "cell_type": "code",
   "execution_count": 4,
   "metadata": {
    "collapsed": true
   },
   "outputs": [],
   "source": [
    "path = \"/home/yingjie/Desktop/Machine_Learning/Assignment4/data/\"\n",
    "path2 = \"/home/yingjie/Desktop/Machine_Learning/Assignment4/data_clean/\"\n",
    "\n",
    "#path = \"/Users/Pan/Google Drive/Data Science/Machine Learning/ML_Assignment4/data/\"\n",
    "#path2 = \"/Users/Pan/Google Drive/Data Science/Machine Learning/ML_Assignment4/data_clean/\""
   ]
  },
  {
   "cell_type": "code",
   "execution_count": 5,
   "metadata": {
    "collapsed": true
   },
   "outputs": [],
   "source": [
    "def data_preprocess(path,thefile):\n",
    "    # Replace all numbers with \"NUM\" special character\n",
    "    num_dec = re.compile(\"[\\d]+\\.[\\d]+\")\n",
    "    num_comma = re.compile(\"[\\d]+,[\\d]+\")\n",
    "    num_reg = re.compile(\"[\\d]+\")\n",
    "\n",
    "    # Detect non-English characters\n",
    "    non_eng = re.compile(\"[^a-zA-Z\\n ]\")\n",
    "    \n",
    "    #open file\n",
    "    file=open(os.path.join(path,thefile), \"r\", encoding=\"iso-8859-15\")\n",
    "    text = file.read().lower()\n",
    "    file.close()\n",
    "    \n",
    "    # Replace various forms of numbers with NUM character\n",
    "    text = num_dec.sub(\"NUM\", text)\n",
    "    text = num_comma.sub(\"NUM\", text)\n",
    "    text = num_reg.sub(\"NUM\", text)\n",
    "\n",
    "    # Replace all non-English characters with a space\n",
    "    text = non_eng.sub(\" \", text)\n",
    "\n",
    "    # Replace double spaces with a single space\n",
    "    text = text.replace(\"  \", \" \")\n",
    "    \n",
    "    # Split the file into reviews based on \\n\n",
    "    text = text.split(\"\\n\")\n",
    "    \n",
    "    return(text)"
   ]
  },
  {
   "cell_type": "code",
   "execution_count": 6,
   "metadata": {
    "collapsed": true
   },
   "outputs": [],
   "source": [
    "train=data_preprocess(path,\"train.txt\")\n",
    "valid=data_preprocess(path,\"valid.txt\")"
   ]
  },
  {
   "cell_type": "code",
   "execution_count": 7,
   "metadata": {},
   "outputs": [
    {
     "data": {
      "text/plain": [
       "['we brought two different brand switches to test this srwNUM from linksys and wsrNUM from netgear netgear switch is over NUM and this one is under NUM both of them are all gigabit ports linksys has NUM gigabit ports and netgear has NUM gigabit ports however this srwNUM has more functions and features than the netgear NUM switches for example this switch supports lags for gang ports together in different lacp groups netgear switch does not this switch allowing setup stp on top the lags netgear does not this switch loaded with current firmware netgear switch comes with a two years old firmware this switch is really good bargain for its functions features and speed it is a shining star comparing to all those overpriced competitors the only problem we have is that this switch generates some kind of apple talk probing when we have switch setup to do stp on top of lags that probing caused problem to our routers and vpn servers so we had to turn the stp off ',\n",
       " 'what needs to be said really that hasn t already been said a million times this is one of the greatest albums of all time  and arguably dylan s best i say it is but everyone has their favorites and with an artist like dylan it s hard to pin down one album as his best either way  if you dont own this you should be ashamed take a hint from jack black in high fidelity  if you dont own it dont let anyone know as for the audiophile discussion that s been popping up  this sacd hybrid sounds spectacular and if you re one of those people that really like good sound it s worth a repurchase even if it is a bit pricey however if you truly want the best sound for this album  go with the NUM gram mono mix reissue from sundazed vinyl on a good turntable nothing digital can hold a candle to it but whatever your poison this is a timeless classic that only gets better every time you hear it six words of advice  buy it buy it buy it ']"
      ]
     },
     "execution_count": 7,
     "metadata": {},
     "output_type": "execute_result"
    }
   ],
   "source": [
    "train[0:2]"
   ]
  },
  {
   "cell_type": "markdown",
   "metadata": {},
   "source": [
    "# 2 Create vocabulary\n",
    "\n",
    "reference source:https://stackoverflow.com/questions/40661684/tensorflow-vocabularyprocessor"
   ]
  },
  {
   "cell_type": "code",
   "execution_count": 8,
   "metadata": {},
   "outputs": [
    {
     "name": "stderr",
     "output_type": "stream",
     "text": [
      "/home/yingjie/anaconda3/lib/python3.6/site-packages/h5py/__init__.py:34: FutureWarning: Conversion of the second argument of issubdtype from `float` to `np.floating` is deprecated. In future, it will be treated as `np.float64 == np.dtype(float).type`.\n",
      "  from ._conv import register_converters as _register_converters\n"
     ]
    }
   ],
   "source": [
    "import numpy as np\n",
    "from tensorflow.contrib import learn"
   ]
  },
  {
   "cell_type": "code",
   "execution_count": 9,
   "metadata": {},
   "outputs": [
    {
     "data": {
      "text/plain": [
       "5430"
      ]
     },
     "execution_count": 9,
     "metadata": {},
     "output_type": "execute_result"
    }
   ],
   "source": [
    "max_document_length = max([len(x.split(\" \")) for x in train])\n",
    "max_document_length"
   ]
  },
  {
   "cell_type": "code",
   "execution_count": 10,
   "metadata": {
    "collapsed": true
   },
   "outputs": [],
   "source": [
    "## Create the vocabularyprocessor object, setting the max lengh of the documents.\n",
    "vocab_processor = learn.preprocessing.VocabularyProcessor(max_document_length)"
   ]
  },
  {
   "cell_type": "code",
   "execution_count": 11,
   "metadata": {
    "collapsed": true
   },
   "outputs": [],
   "source": [
    "small_train=train[0:5]\n",
    "## Transform the documents using the vocabulary.\n",
    "train_transformed = np.array(list(vocab_processor.fit_transform(small_train)))"
   ]
  },
  {
   "cell_type": "code",
   "execution_count": 12,
   "metadata": {},
   "outputs": [
    {
     "name": "stdout",
     "output_type": "stream",
     "text": [
      "[[  1   2   3 ...   0   0   0]\n",
      " [ 93  94   7 ...   0   0   0]\n",
      " [186 187 188 ...   0   0   0]\n",
      " [110 170  98 ...   0   0   0]\n",
      " [110  74 100 ...   0   0   0]]\n"
     ]
    }
   ],
   "source": [
    "print(train_transformed)"
   ]
  },
  {
   "cell_type": "code",
   "execution_count": 13,
   "metadata": {},
   "outputs": [
    {
     "data": {
      "text/plain": [
       "array([1, 2, 3, ..., 0, 0, 0])"
      ]
     },
     "execution_count": 13,
     "metadata": {},
     "output_type": "execute_result"
    }
   ],
   "source": [
    "y=vocab_processor.fit_transform(small_train)\n",
    "#np.set_printoptions(threshold=np.nan)\n",
    "np.set_printoptions(threshold=100)\n",
    "list(y)[0]"
   ]
  },
  {
   "cell_type": "code",
   "execution_count": 14,
   "metadata": {},
   "outputs": [],
   "source": [
    "## Extract word:id mapping from the object.\n",
    "vocab_dict = vocab_processor.vocabulary_._mapping"
   ]
  },
  {
   "cell_type": "code",
   "execution_count": 15,
   "metadata": {
    "collapsed": true
   },
   "outputs": [],
   "source": [
    "## Sort the vocabulary dictionary on the basis of values(id).\n",
    "## Both statements perform same task.\n",
    "#sorted_vocab = sorted(vocab_dict.items(), key=operator.itemgetter(1))\n",
    "sorted_vocab = sorted(vocab_dict.items(), key = lambda x : x[1])"
   ]
  },
  {
   "cell_type": "code",
   "execution_count": 16,
   "metadata": {},
   "outputs": [
    {
     "name": "stdout",
     "output_type": "stream",
     "text": [
      "['<UNK>', 'we', 'brought', 'two', 'different', 'brand', 'switches', 'to', 'test', 'this', 'srwNUM', 'from', 'linksys', 'and', 'wsrNUM', 'netgear', 'switch', 'is', 'over', 'NUM', 'one', 'under', 'both', 'of', 'them', 'are', 'all', 'gigabit', 'ports', 'has', 'however', 'more', 'functions', 'features', 'than', 'the', 'for', 'example', 'supports', 'lags', 'gang', 'together', 'in', 'lacp', 'groups', 'does', 'not', 'allowing', 'setup', 'stp', 'on', 'top', 'loaded', 'with', 'current', 'firmware', 'comes', 'a', 'years', 'old', 'really', 'good', 'bargain', 'its', 'speed', 'it', 'shining', 'star', 'comparing', 'those', 'overpriced', 'competitors', 'only', 'problem', 'have', 'that', 'generates', 'some', 'kind', 'apple', 'talk', 'probing', 'when', 'do', 'caused', 'our', 'routers', 'vpn', 'servers', 'so', 'had', 'turn', 'off', 'what', 'needs', 'be', 'said', 'hasn', 't', 'already', 'been', 'million', 'times', 'greatest', 'albums', 'time', 'arguably', 'dylan', 's', 'best', 'i', 'say', 'but', 'everyone', 'their', 'favorites', 'an', 'artist', 'like', 'hard', 'pin', 'down', 'album', 'as', 'his', 'either', 'way', 'if', 'you', 'dont', 'own', 'should', 'ashamed', 'take', 'hint', 'jack', 'black', 'high', 'fidelity', 'let', 'anyone', 'know', 'audiophile', 'discussion', 'popping', 'up', 'sacd', 'hybrid', 'sounds', 'spectacular', 're', 'people', 'sound', 'worth', 'repurchase', 'even', 'bit', 'pricey', 'truly', 'want', 'go', 'gram', 'mono', 'mix', 'reissue', 'sundazed', 'vinyl', 'turntable', 'nothing', 'digital', 'can', 'hold', 'candle', 'whatever', 'your', 'poison', 'timeless', 'classic', 'gets', 'better', 'every', 'hear', 'six', 'words', 'advice', 'buy', 'these', 'photo', 'corners', 'metallic', 'they', 'grey', 'gold', 'much', 'sheen', 'stay', 'put', 'ones', 'wet', 'believe', 'there', 'aren', 'any', 'reviews', 'yet', 'must', 'thrash', 'NU', 'Ms', 'almost', 'certainly', 'death', 'scream', 'bloody', 'gore', 'could', 'give', 'run', 'money', 'during', 'year', 'love', 'everything', 'about', 'disc', 'playing', 'tight', 'vox', 'cool', 'lyrics', 'actually', 'make', 'think', 'quite', 'cd', 'impossible', 'find', 'days', 'just', 'heard', 'great', 'news', 'brazil', 'marquee', 'records', 'signed', 'deal', 'legendary', 'canadian', 'thrashers', 'sacrifice', 'release', 'first', 'three', 'torment', 'fire', 'forward', 'termination', 'soldiers', 'misfortune', 'plus', 'live', 'complete', 'show', 'cds', 'will', 'double', 'special', 'editions', 'full', 'bonus', 'tracks', 'probably', 'released', 'dvd', 'set', 'distribution', 'u', 'japan', 'handled', 'by', 'khaosmaster', 'disk', 'heaven', 'respectively', 'metal', 'lives', 'trying', 'move', 'away', 'fake', 'sugars', 'bad', 'my', 'memory', 'stevia', 'mild', 'licorice', 'taste', 'bothers', 'me', 'm', 'hyper', 'sensitive', 'since', 'hate', 'others', 'would', 'fine', 'picked', 'light', 'agave', 'syrup', 'health', 'food', 'grocery', 'store', 'made', 'cup', 'tea', 'subtly', 'flavor', 'white', 'sugar', 'd', 'initial', 'thought', 'slightly', 'toward', 'honey', 'though', 'doesn', 'strong', 'softer', 'or', 'somehow', 'very', 'pleasant', 'tell', 'office', 'baker']\n"
     ]
    }
   ],
   "source": [
    "## Treat the id's as index into list and create a list of words in the ascending order of id's\n",
    "## word with id i goes at index i of the list.\n",
    "vocabulary = list(list(zip(*sorted_vocab))[0])\n",
    "print(vocabulary)"
   ]
  },
  {
   "cell_type": "code",
   "execution_count": 17,
   "metadata": {},
   "outputs": [
    {
     "name": "stdout",
     "output_type": "stream",
     "text": [
      "X:\n",
      " [[1], [2], [3]]\n",
      "[[2], [3], [4]]\n",
      "[[3], [4], [5]]\n",
      "[[4], [5], [6]]\n",
      "[[5], [6], [7]]\n",
      "Y:\n",
      " [2 3 4]\n",
      "[3 4 5]\n",
      "[4 5 6]\n",
      "[5 6 7]\n",
      "[6 7 8]\n"
     ]
    }
   ],
   "source": [
    "seq_size = 3 \n",
    "trainX, trainY = [], []\n",
    "\n",
    "for review in train_transformed:\n",
    "    #loop through every word in the review\n",
    "    for i in range(max_document_length):        \n",
    "        #if the next 3 consecutive words are 0, that means the review has ended.\n",
    "        # eg: [1 2 3 4 0 0 0 0]\n",
    "        # this will create x: [1 2] [2 3]. (no [3 4])\n",
    "        if review[i+2] ==0 and review[i+3] == 0 and review [i+4] ==0:        \n",
    "            break\n",
    "        else:\n",
    "            trainX.append(np.expand_dims(review[i:i+seq_size], axis=1).tolist())\n",
    "            trainY.append(review[i+1:i+seq_size+1])\n",
    "\n",
    "# Inspect trainX and trainY\n",
    "print(\"X:\\n\",'\\n'.join([str(item) for item in trainX[0:5]]))\n",
    "print(\"Y:\\n\",'\\n'.join([str(item) for item in trainY[0:5]]))"
   ]
  },
  {
   "cell_type": "markdown",
   "metadata": {},
   "source": [
    "# TF setup"
   ]
  },
  {
   "cell_type": "code",
   "execution_count": 18,
   "metadata": {
    "collapsed": true
   },
   "outputs": [],
   "source": [
    "%matplotlib inline\n",
    "\n",
    "import pandas as pd\n",
    "import numpy as np\n",
    "import matplotlib.pyplot as plt\n",
    "import tensorflow as tf\n",
    "from tensorflow.contrib import rnn\n",
    "from sklearn.preprocessing import MinMaxScaler"
   ]
  },
  {
   "cell_type": "code",
   "execution_count": 19,
   "metadata": {
    "collapsed": true
   },
   "outputs": [],
   "source": [
    "# Build computational graph\n",
    "input_dim=1 # dim > 1 for multivariate time series\n",
    "hidden_dim=100 # number of hiddent units h\n",
    "graph = tf.Graph()\n",
    "with graph.as_default():\n",
    "    # input place holders\n",
    "    # input Shape: [# training examples, sequence length, # features]\n",
    "    x = tf.placeholder(tf.float32,[None,seq_size,input_dim])\n",
    "    # label Shape: [# training examples, sequence length]\n",
    "    y = tf.placeholder(tf.float32,[None,seq_size])\n",
    "    \n",
    "    # RNN Network\n",
    "    cell = rnn.BasicRNNCell(hidden_dim)\n",
    "    \n",
    "    # RNN output Shape: [# training examples, sequence length, # hidden] \n",
    "    outputs, _ = tf.nn.dynamic_rnn(cell,x,dtype=tf.float32)\n",
    "    \n",
    "    \n",
    "    # weights for output dense layer (i.e., after RNN)\n",
    "    # W shape: [# hidden, 1]\n",
    "    W_out = tf.Variable(tf.random_normal([hidden_dim,1]),name=\"w_out\") \n",
    "    # b shape: [1]\n",
    "    b_out = tf.Variable(tf.random_normal([1]),name=\"b_out\")\n",
    "\n",
    "    # output dense layer:\n",
    "    num_examples = tf.shape(x)[0] \n",
    "    # convert W from [# hidden, 1] to [# training examples, # hidden, 1]\n",
    "    # step 1: add a new dimension at index 0 using tf.expand_dims\n",
    "    w_exp= tf.expand_dims(W_out,0)\n",
    "    # step 2: duplicate W for 'num_examples' times using tf.tile\n",
    "    W_repeated = tf.tile(w_exp,[num_examples,1,1])\n",
    "    \n",
    "    # Dense Layer calculation: \n",
    "    # [# training examples, sequence length, # hidden] *\n",
    "    # [# training examples, # hidden, 1] = [# training examples, sequence length]\n",
    "    \n",
    "    y_pred = tf.matmul(outputs,W_repeated)+b_out\n",
    "    # Actually, y_pred: [# training examples, sequence length, 1]\n",
    "    # Remove last dimension using tf.squeeze\n",
    "    y_pred = tf.squeeze(y_pred)\n",
    "    \n",
    "    # Cost & Training Step\n",
    "    cost = tf.reduce_mean(tf.square(y_pred-y))\n",
    "    train_op = tf.train.AdamOptimizer(learning_rate=0.01).minimize(cost)"
   ]
  },
  {
   "cell_type": "code",
   "execution_count": 22,
   "metadata": {},
   "outputs": [
    {
     "name": "stdout",
     "output_type": "stream",
     "text": [
      "Training...\n",
      "  step, train err=      0: 22765.29688\n",
      "  step, train err=    100: 8766.83105\n",
      "  step, train err=    200: 8194.45996\n",
      "  step, train err=    300: 8026.06836\n",
      "  step, train err=    400: 8003.53076\n",
      "  step, train err=    500: 7907.50830\n",
      "  step, train err=    600: 7863.64502\n",
      "  step, train err=    700: 7831.04248\n",
      "  step, train err=    800: 7795.58789\n",
      "  step, train err=    900: 7754.71582\n",
      "  step, train err=   1000: 7813.45654\n"
     ]
    },
    {
     "data": {
      "text/plain": [
       "array([-18.272993 , -10.420187 ,   1.6713265, ..., 191.49825  ,\n",
       "       198.0648   , 198.06398  ], dtype=float32)"
      ]
     },
     "execution_count": 22,
     "metadata": {},
     "output_type": "execute_result"
    }
   ],
   "source": [
    "# Run Session\n",
    "with tf.Session(graph=graph) as sess:\n",
    "    # initialize variables\n",
    "    sess.run(tf.global_variables_initializer())\n",
    "    # Run for 1000 iterations (1000 is arbitrary, need a validation set to tune!)\n",
    "    print('Training...')\n",
    "    for i in range(1000): # If we train more, would we overfit? Try 10000\n",
    "        _, train_err = sess.run([train_op,cost],feed_dict={x:trainX,y:trainY})\n",
    "        if i==0:\n",
    "            print('  step, train err= %6d: %8.5f' % (0,train_err)) \n",
    "        elif  (i+1) % 100 == 0: \n",
    "            print('  step, train err= %6d: %8.5f' % (i+1,train_err)) \n",
    "\n",
    "    # Test trained model on training data\n",
    "    predicted_vals_all= sess.run(y_pred,feed_dict={x:trainX}) \n",
    "    # Get last item in each predicted sequence:\n",
    "    predicted_vals = predicted_vals_all[:,seq_size-1]\n",
    "    \n",
    "    # Plot predictions\n",
    "    #plt.figure()\n",
    "    #plt.plot(list(range(seq_size,seq_size+len(predicted_vals_dnorm))), predicted_vals_dnorm, color='r', label='predicted')\n",
    "    #plt.plot(list(range(len(dataset))), dataset, color='g', label='actual')\n",
    "    #plt.legend()\n",
    "predicted_vals"
   ]
  },
  {
   "cell_type": "code",
   "execution_count": 34,
   "metadata": {},
   "outputs": [
    {
     "ename": "ValueError",
     "evalue": "Tried to convert 'tensor' to a tensor and failed. Error: Argument must be a dense tensor: [array([2, 3]), array([3, 4]), array([4, 5]), array([5, 6]), array([6, 7]), array([7, 8]), array([8, 9]), array([ 9, 10]), array([10, 11]), array([11, 12]), array([12, 13]), array([13, 14]), array([14, 11]), array([11, 15]), array([15, 15]), array([15, 16]), array([16, 17]), array([17, 18]), array([18, 19]), array([19, 13]), array([13,  9]), array([ 9, 20]), array([20, 17]), array([17, 21]), array([21, 19]), array([19, 22]), array([22, 23]), array([23, 24]), array([24, 25]), array([25, 26]), array([26, 27]), array([27, 28]), array([28, 12]), array([12, 29]), array([29, 19]), array([19, 27]), array([27, 28]), array([28, 13]), array([13, 15]), array([15, 29]), array([29, 19]), array([19, 27]), array([27, 28]), array([28, 30]), array([30,  9]), array([ 9, 10]), array([10, 29]), array([29, 31]), array([31, 32]), array([32, 13]), array([13, 33]), array([33, 34]), array([34, 35]), array([35, 15]), array([15, 19]), array([19,  6]), array([ 6, 36]), array([36, 37]), array([37,  9]), array([ 9, 16]), array([16, 38]), array([38, 39]), array([39, 36]), array([36, 40]), array([40, 28]), array([28, 41]), array([41, 42]), array([42,  4]), array([ 4, 43]), array([43, 44]), array([44, 15]), array([15, 16]), array([16, 45]), array([45, 46]), array([46,  9]), array([ 9, 16]), array([16, 47]), array([47, 48]), array([48, 49]), array([49, 50]), array([50, 51]), array([51, 35]), array([35, 39]), array([39, 15]), array([15, 45]), array([45, 46]), array([46,  9]), array([ 9, 16]), array([16, 52]), array([52, 53]), array([53, 54]), array([54, 55]), array([55, 15]), array([15, 16]), array([16, 56]), array([56, 53]), array([53, 57]), array([57,  3]), array([ 3, 58]), array([58, 59]), array([59, 55]), array([55,  9]), array([ 9, 16]), array([16, 17]), array([17, 60]), array([60, 61]), array([61, 62]), array([62, 36]), array([36, 63]), array([63, 32]), array([32, 33]), array([33, 13]), array([13, 64]), array([64, 65]), array([65, 17]), array([17, 57]), array([57, 66]), array([66, 67]), array([67, 68]), array([68,  7]), array([ 7, 26]), array([26, 69]), array([69, 70]), array([70, 71]), array([71, 35]), array([35, 72]), array([72, 73]), array([73,  1]), array([ 1, 74]), array([74, 17]), array([17, 75]), array([75,  9]), array([ 9, 16]), array([16, 76]), array([76, 77]), array([77, 78]), array([78, 23]), array([23, 79]), array([79, 80]), array([80, 81]), array([81, 82]), array([82,  1]), array([ 1, 74]), array([74, 16]), array([16, 48]), array([48,  7]), array([ 7, 83]), array([83, 49]), array([49, 50]), array([50, 51]), array([51, 23]), array([23, 39]), array([39, 75]), array([75, 81]), array([81, 84]), array([84, 73]), array([73,  7]), array([ 7, 85]), array([85, 86]), array([86, 13]), array([13, 87]), array([87, 88]), array([88, 89]), array([89,  1]), array([ 1, 90]), array([90,  7]), array([ 7, 91]), array([91, 35]), array([35, 49]), array([49, 92]), array([94,  7]), array([ 7, 95]), array([95, 96]), array([96, 60]), array([60, 75]), array([75, 97]), array([97, 98]), array([98, 99]), array([ 99, 100]), array([100,  96]), array([96, 57]), array([ 57, 101]), array([101, 102]), array([102,   9]), array([ 9, 17]), array([17, 20]), array([20, 23]), array([23, 35]), array([ 35, 103]), array([103, 104]), array([104,  23]), array([23, 26]), array([ 26, 105]), array([105,  13]), array([ 13, 106]), array([106, 107]), array([107, 108]), array([108, 109]), array([109, 110]), array([110, 111]), array([111,  65]), array([65, 17]), array([ 17, 112]), array([112, 113]), array([113,  29]), array([ 29, 114]), array([114, 115]), array([115,  13]), array([13, 53]), array([ 53, 116]), array([116, 117]), array([117, 118]), array([118, 107]), array([107,  65]), array([ 65, 108]), array([108, 119]), array([119,   7]), array([  7, 120]), array([120, 121]), array([121,  20]), array([ 20, 122]), array([122, 123]), array([123, 124]), array([124, 109]), array([109, 125]), array([125, 126]), array([126, 127]), array([127, 128]), array([128, 129]), array([129, 130]), array([130,   9]), array([  9, 128]), array([128, 131]), array([131,  95]), array([ 95, 132]), array([132, 133]), array([133,  57]), array([ 57, 134]), array([134,  11]), array([ 11, 135]), array([135, 136]), array([136,  42]), array([ 42, 137]), array([137, 138]), array([138, 127]), array([127, 128]), array([128, 129]), array([129, 130]), array([130,  65]), array([ 65, 129]), array([129, 139]), array([139, 140]), array([140, 141]), array([141, 123]), array([123,  36]), array([36, 35]), array([ 35, 142]), array([142, 143]), array([143,  75]), array([ 75, 108]), array([108, 100]), array([100, 144]), array([144, 145]), array([145,   9]), array([  9, 146]), array([146, 147]), array([147, 148]), array([148, 149]), array([149,  13]), array([ 13, 127]), array([127, 128]), array([128, 150]), array([150,  20]), array([20, 23]), array([23, 69]), array([ 69, 151]), array([151,  75]), array([75, 60]), array([ 60, 118]), array([118,  61]), array([ 61, 152]), array([152,  65]), array([ 65, 108]), array([108, 153]), array([153,  57]), array([ 57, 154]), array([154, 155]), array([155, 127]), array([127,  65]), array([65, 17]), array([17, 57]), array([ 57, 156]), array([156, 157]), array([157,  30]), array([ 30, 127]), array([127, 128]), array([128, 158]), array([158, 159]), array([159,  35]), array([ 35, 109]), array([109, 152]), array([152,  36]), array([36,  9]), array([  9, 122]), array([122, 160]), array([160,  53]), array([53, 35]), array([35, 19]), array([ 19, 161]), array([161, 162]), array([162, 163]), array([163, 164]), array([164,  11]), array([ 11, 165]), array([165, 166]), array([166,  50]), array([50, 57]), array([57, 61]), array([ 61, 167]), array([167, 168]), array([168, 169]), array([169, 170]), array([170, 171]), array([171,  57]), array([ 57, 172]), array([172,   7]), array([ 7, 65]), array([ 65, 112]), array([112, 173]), array([173, 174]), array([174, 175]), array([175,   9]), array([ 9, 17]), array([17, 57]), array([ 57, 176]), array([176, 177]), array([177,  75]), array([75, 72]), array([ 72, 178]), array([178, 179]), array([179, 180]), array([180, 105]), array([105, 128]), array([128, 181]), array([181,  65]), array([ 65, 182]), array([182, 183]), array([183,  23]), array([ 23, 184]), array([184, 185]), array([185,  65]), array([ 65, 185]), array([185,  65]), array([ 65, 185]), array([185,  65]), array([187, 188]), array([188,  25]), array([25, 46]), array([ 46, 123]), array([123, 189]), array([189, 123]), array([123, 190]), array([190,  25]), array([ 25, 191]), array([191,  13]), array([ 13, 192]), array([192,  46]), array([ 46, 193]), array([193, 194]), array([194,  30]), array([ 30, 190]), array([190, 195]), array([195, 196]), array([196, 193]), array([193, 179]), array([179,  34]), array([34, 69]), array([ 69, 158]), array([158, 189]), array([189, 197]), array([197,  75]), array([ 75, 128]), array([128,  74]), array([74,  7]), array([  7, 198]), array([170,  98]), array([ 98, 199]), array([199, 200]), array([200, 201]), array([201,  98]), array([ 98, 202]), array([202, 203]), array([203,  36]), array([36,  9]), array([  9, 204]), array([204, 112]), array([112, 110]), array([110, 205]), array([205, 111]), array([111,  75]), array([75,  9]), array([ 9, 17]), array([17, 20]), array([20, 23]), array([23, 35]), array([35, 51]), array([ 51, 206]), array([206, 104]), array([104,  23]), array([23, 35]), array([ 35, 207]), array([207, 208]), array([208,  13]), array([ 13, 209]), array([209, 210]), array([210,  35]), array([ 35, 109]), array([109,  23]), array([23, 19]), array([19, 72]), array([ 72, 211]), array([211, 108]), array([108, 212]), array([212, 213]), array([213, 214]), array([214, 215]), array([215, 216]), array([216,   9]), array([ 9, 20]), array([20, 57]), array([ 57, 217]), array([217,  36]), array([36, 63]), array([ 63, 218]), array([218, 219]), array([219,  75]), array([ 75, 220]), array([220, 110]), array([110, 221]), array([221, 222]), array([222, 223]), array([223,   9]), array([  9, 224]), array([224,  35]), array([ 35, 225]), array([225,  17]), array([ 17, 226]), array([226,  35]), array([ 35, 227]), array([227,  25]), array([ 25, 228]), array([228,  35]), array([ 35, 229]), array([229, 230]), array([230, 231]), array([231, 128]), array([128, 232]), array([232, 155]), array([155,  35]), array([ 35, 163]), array([163,  50]), array([50, 35]), array([ 35, 122]), array([122,  17]), array([ 17, 233]), array([233,  61]), array([61, 35]), array([ 35, 234]), array([234,  17]), array([ 17, 235]), array([235,   7]), array([  7, 236]), array([236, 186]), array([186, 237]), array([237, 112]), array([112, 110]), array([110, 238]), array([238, 239]), array([239,  77]), array([ 77, 240]), array([240, 241]), array([241, 242]), array([242, 108]), array([108, 243]), array([243, 244]), array([244,  29]), array([ 29, 245]), array([245,  57]), array([ 57, 246]), array([246,  53]), array([53, 35]), array([ 35, 247]), array([247, 248]), array([248, 249]), array([249, 250]), array([250,  36]), array([36, 35]), array([ 35, 150]), array([150, 251]), array([251,  23]), array([ 23, 114]), array([114, 252]), array([252, 253]), array([253, 104]), array([104,  19]), array([ 19, 108]), array([108, 254]), array([254,  42]), array([ 42, 255]), array([255,  19]), array([ 19, 108]), array([108, 256]), array([256,   7]), array([  7, 257]), array([257,  13]), array([13, 19]), array([ 19, 108]), array([108, 258]), array([258,  23]), array([ 23, 259]), array([259, 260]), array([260,  57]), array([ 57, 261]), array([261, 122]), array([122,  53]), array([53, 57]), array([ 57, 262]), array([262, 263]), array([263,  11]), array([11, 19]), array([19, 26]), array([ 26, 264]), array([264, 265]), array([265,  95]), array([ 95, 266]), array([266, 264]), array([264, 267]), array([267, 268]), array([268, 269]), array([269,  23]), array([ 23, 270]), array([270, 271]), array([271,  35]), array([ 35, 261]), array([261,  20]), array([ 20, 265]), array([265, 272]), array([272,  95]), array([ 95, 273]), array([273, 123]), array([123,  57]), array([ 57, 234]), array([234, 274]), array([274, 275]), array([275,  35]), array([ 35, 276]), array([276,  42]), array([42, 35]), array([ 35, 277]), array([277, 108]), array([108,  13]), array([ 13, 278]), array([278, 265]), array([265,  95]), array([ 95, 279]), array([279, 280]), array([280, 281]), array([281, 244]), array([244,  13]), array([ 13, 282]), array([282, 283]), array([283, 284]), array([284, 285]), array([285, 286]), array([ 74, 100]), array([100, 287]), array([287,   7]), array([  7, 288]), array([288, 289]), array([289,  11]), array([ 11, 290]), array([290, 291]), array([291, 292]), array([292,  36]), array([ 36, 293]), array([293, 294]), array([294, 112]), array([112, 295]), array([295, 108]), array([108, 296]), array([296, 297]), array([297, 298]), array([298,  60]), array([ 60, 299]), array([299, 300]), array([300, 110]), array([110, 301]), array([301, 302]), array([302, 303]), array([303,   7]), array([  7, 297]), array([297, 304]), array([304, 110]), array([110, 305]), array([305,  65]), array([65, 89]), array([ 89, 193]), array([193, 272]), array([272, 306]), array([306, 307]), array([307,  95]), array([ 95, 308]), array([308,  53]), array([53, 65]), array([65, 89]), array([ 89, 110]), array([110, 309]), array([309, 145]), array([145,   9]), array([  9, 310]), array([310, 311]), array([311, 312]), array([312,  11]), array([11, 57]), array([ 57, 313]), array([313, 314]), array([314, 315]), array([315, 316]), array([316, 110]), array([110, 238]), array([238, 317]), array([317, 293]), array([293, 252]), array([252, 318]), array([318,  23]), array([ 23, 319]), array([319,  53]), array([53, 65]), array([65, 13]), array([ 13, 110]), array([110,  74]), array([74,  7]), array([  7, 111]), array([111, 110]), array([110,  60]), array([ 60, 118]), array([118,  65]), array([65, 65]), array([ 65, 108]), array([108,  57]), array([ 57, 320]), array([320,   4]), array([  4, 321]), array([321,  34]), array([ 34, 322]), array([322, 323]), array([323, 110]), array([110, 324]), array([324, 111]), array([111, 174]), array([174, 325]), array([325, 326]), array([326,  17]), array([ 17, 327]), array([327, 328]), array([328, 329]), array([329, 155]), array([155, 330]), array([330,  65]), array([ 65, 331]), array([331,  98]), array([98, 74]), array([ 74, 329]), array([329, 108]), array([108, 332]), array([332, 298]), array([298,  65]), array([ 65, 108]), array([108,  57]), array([ 57, 333]), array([333, 321]), array([321,  34]), array([ 34, 322]), array([322, 323]), array([323, 334]), array([334, 290]), array([290, 323]), array([323, 335]), array([335,  42]), array([42, 26]), array([26, 57]), array([ 57, 336]), array([336, 337]), array([337, 298]), array([298,  13]), array([ 13, 110]), array([110, 265]), array([265, 210]), array([210, 338]), array([338,  35]), array([ 35, 339]), array([339, 340]), array([340, 223]), array([223,  65])] - got shape [704, 2], but wanted [704].",
     "output_type": "error",
     "traceback": [
      "\u001b[0;31m---------------------------------------------------------------------------\u001b[0m",
      "\u001b[0;31mValueError\u001b[0m                                Traceback (most recent call last)",
      "\u001b[0;32m~/anaconda3/lib/python3.6/site-packages/tensorflow/python/framework/op_def_library.py\u001b[0m in \u001b[0;36m_apply_op_helper\u001b[0;34m(self, op_type_name, name, **keywords)\u001b[0m\n\u001b[1;32m    509\u001b[0m                 \u001b[0mas_ref\u001b[0m\u001b[0;34m=\u001b[0m\u001b[0minput_arg\u001b[0m\u001b[0;34m.\u001b[0m\u001b[0mis_ref\u001b[0m\u001b[0;34m,\u001b[0m\u001b[0;34m\u001b[0m\u001b[0m\n\u001b[0;32m--> 510\u001b[0;31m                 preferred_dtype=default_dtype)\n\u001b[0m\u001b[1;32m    511\u001b[0m           \u001b[0;32mexcept\u001b[0m \u001b[0mTypeError\u001b[0m \u001b[0;32mas\u001b[0m \u001b[0merr\u001b[0m\u001b[0;34m:\u001b[0m\u001b[0;34m\u001b[0m\u001b[0m\n",
      "\u001b[0;32m~/anaconda3/lib/python3.6/site-packages/tensorflow/python/framework/ops.py\u001b[0m in \u001b[0;36minternal_convert_to_tensor\u001b[0;34m(value, dtype, name, as_ref, preferred_dtype, ctx)\u001b[0m\n\u001b[1;32m   1021\u001b[0m     \u001b[0;32mif\u001b[0m \u001b[0mret\u001b[0m \u001b[0;32mis\u001b[0m \u001b[0;32mNone\u001b[0m\u001b[0;34m:\u001b[0m\u001b[0;34m\u001b[0m\u001b[0m\n\u001b[0;32m-> 1022\u001b[0;31m       \u001b[0mret\u001b[0m \u001b[0;34m=\u001b[0m \u001b[0mconversion_func\u001b[0m\u001b[0;34m(\u001b[0m\u001b[0mvalue\u001b[0m\u001b[0;34m,\u001b[0m \u001b[0mdtype\u001b[0m\u001b[0;34m=\u001b[0m\u001b[0mdtype\u001b[0m\u001b[0;34m,\u001b[0m \u001b[0mname\u001b[0m\u001b[0;34m=\u001b[0m\u001b[0mname\u001b[0m\u001b[0;34m,\u001b[0m \u001b[0mas_ref\u001b[0m\u001b[0;34m=\u001b[0m\u001b[0mas_ref\u001b[0m\u001b[0;34m)\u001b[0m\u001b[0;34m\u001b[0m\u001b[0m\n\u001b[0m\u001b[1;32m   1023\u001b[0m \u001b[0;34m\u001b[0m\u001b[0m\n",
      "\u001b[0;32m~/anaconda3/lib/python3.6/site-packages/tensorflow/python/framework/constant_op.py\u001b[0m in \u001b[0;36m_constant_tensor_conversion_function\u001b[0;34m(v, dtype, name, as_ref)\u001b[0m\n\u001b[1;32m    232\u001b[0m   \u001b[0m_\u001b[0m \u001b[0;34m=\u001b[0m \u001b[0mas_ref\u001b[0m\u001b[0;34m\u001b[0m\u001b[0m\n\u001b[0;32m--> 233\u001b[0;31m   \u001b[0;32mreturn\u001b[0m \u001b[0mconstant\u001b[0m\u001b[0;34m(\u001b[0m\u001b[0mv\u001b[0m\u001b[0;34m,\u001b[0m \u001b[0mdtype\u001b[0m\u001b[0;34m=\u001b[0m\u001b[0mdtype\u001b[0m\u001b[0;34m,\u001b[0m \u001b[0mname\u001b[0m\u001b[0;34m=\u001b[0m\u001b[0mname\u001b[0m\u001b[0;34m)\u001b[0m\u001b[0;34m\u001b[0m\u001b[0m\n\u001b[0m\u001b[1;32m    234\u001b[0m \u001b[0;34m\u001b[0m\u001b[0m\n",
      "\u001b[0;32m~/anaconda3/lib/python3.6/site-packages/tensorflow/python/framework/constant_op.py\u001b[0m in \u001b[0;36mconstant\u001b[0;34m(value, dtype, shape, name, verify_shape)\u001b[0m\n\u001b[1;32m    211\u001b[0m       tensor_util.make_tensor_proto(\n\u001b[0;32m--> 212\u001b[0;31m           value, dtype=dtype, shape=shape, verify_shape=verify_shape))\n\u001b[0m\u001b[1;32m    213\u001b[0m   \u001b[0mdtype_value\u001b[0m \u001b[0;34m=\u001b[0m \u001b[0mattr_value_pb2\u001b[0m\u001b[0;34m.\u001b[0m\u001b[0mAttrValue\u001b[0m\u001b[0;34m(\u001b[0m\u001b[0mtype\u001b[0m\u001b[0;34m=\u001b[0m\u001b[0mtensor_value\u001b[0m\u001b[0;34m.\u001b[0m\u001b[0mtensor\u001b[0m\u001b[0;34m.\u001b[0m\u001b[0mdtype\u001b[0m\u001b[0;34m)\u001b[0m\u001b[0;34m\u001b[0m\u001b[0m\n",
      "\u001b[0;32m~/anaconda3/lib/python3.6/site-packages/tensorflow/python/framework/tensor_util.py\u001b[0m in \u001b[0;36mmake_tensor_proto\u001b[0;34m(values, dtype, shape, verify_shape)\u001b[0m\n\u001b[1;32m    421\u001b[0m                              \u001b[0mvalues\u001b[0m\u001b[0;34m,\u001b[0m \u001b[0mlist\u001b[0m\u001b[0;34m(\u001b[0m\u001b[0mnparray\u001b[0m\u001b[0;34m.\u001b[0m\u001b[0mshape\u001b[0m\u001b[0;34m)\u001b[0m\u001b[0;34m,\u001b[0m\u001b[0;34m\u001b[0m\u001b[0m\n\u001b[0;32m--> 422\u001b[0;31m                              _GetDenseDimensions(values)))\n\u001b[0m\u001b[1;32m    423\u001b[0m \u001b[0;34m\u001b[0m\u001b[0m\n",
      "\u001b[0;31mValueError\u001b[0m: Argument must be a dense tensor: [array([2, 3]), array([3, 4]), array([4, 5]), array([5, 6]), array([6, 7]), array([7, 8]), array([8, 9]), array([ 9, 10]), array([10, 11]), array([11, 12]), array([12, 13]), array([13, 14]), array([14, 11]), array([11, 15]), array([15, 15]), array([15, 16]), array([16, 17]), array([17, 18]), array([18, 19]), array([19, 13]), array([13,  9]), array([ 9, 20]), array([20, 17]), array([17, 21]), array([21, 19]), array([19, 22]), array([22, 23]), array([23, 24]), array([24, 25]), array([25, 26]), array([26, 27]), array([27, 28]), array([28, 12]), array([12, 29]), array([29, 19]), array([19, 27]), array([27, 28]), array([28, 13]), array([13, 15]), array([15, 29]), array([29, 19]), array([19, 27]), array([27, 28]), array([28, 30]), array([30,  9]), array([ 9, 10]), array([10, 29]), array([29, 31]), array([31, 32]), array([32, 13]), array([13, 33]), array([33, 34]), array([34, 35]), array([35, 15]), array([15, 19]), array([19,  6]), array([ 6, 36]), array([36, 37]), array([37,  9]), array([ 9, 16]), array([16, 38]), array([38, 39]), array([39, 36]), array([36, 40]), array([40, 28]), array([28, 41]), array([41, 42]), array([42,  4]), array([ 4, 43]), array([43, 44]), array([44, 15]), array([15, 16]), array([16, 45]), array([45, 46]), array([46,  9]), array([ 9, 16]), array([16, 47]), array([47, 48]), array([48, 49]), array([49, 50]), array([50, 51]), array([51, 35]), array([35, 39]), array([39, 15]), array([15, 45]), array([45, 46]), array([46,  9]), array([ 9, 16]), array([16, 52]), array([52, 53]), array([53, 54]), array([54, 55]), array([55, 15]), array([15, 16]), array([16, 56]), array([56, 53]), array([53, 57]), array([57,  3]), array([ 3, 58]), array([58, 59]), array([59, 55]), array([55,  9]), array([ 9, 16]), array([16, 17]), array([17, 60]), array([60, 61]), array([61, 62]), array([62, 36]), array([36, 63]), array([63, 32]), array([32, 33]), array([33, 13]), array([13, 64]), array([64, 65]), array([65, 17]), array([17, 57]), array([57, 66]), array([66, 67]), array([67, 68]), array([68,  7]), array([ 7, 26]), array([26, 69]), array([69, 70]), array([70, 71]), array([71, 35]), array([35, 72]), array([72, 73]), array([73,  1]), array([ 1, 74]), array([74, 17]), array([17, 75]), array([75,  9]), array([ 9, 16]), array([16, 76]), array([76, 77]), array([77, 78]), array([78, 23]), array([23, 79]), array([79, 80]), array([80, 81]), array([81, 82]), array([82,  1]), array([ 1, 74]), array([74, 16]), array([16, 48]), array([48,  7]), array([ 7, 83]), array([83, 49]), array([49, 50]), array([50, 51]), array([51, 23]), array([23, 39]), array([39, 75]), array([75, 81]), array([81, 84]), array([84, 73]), array([73,  7]), array([ 7, 85]), array([85, 86]), array([86, 13]), array([13, 87]), array([87, 88]), array([88, 89]), array([89,  1]), array([ 1, 90]), array([90,  7]), array([ 7, 91]), array([91, 35]), array([35, 49]), array([49, 92]), array([94,  7]), array([ 7, 95]), array([95, 96]), array([96, 60]), array([60, 75]), array([75, 97]), array([97, 98]), array([98, 99]), array([ 99, 100]), array([100,  96]), array([96, 57]), array([ 57, 101]), array([101, 102]), array([102,   9]), array([ 9, 17]), array([17, 20]), array([20, 23]), array([23, 35]), array([ 35, 103]), array([103, 104]), array([104,  23]), array([23, 26]), array([ 26, 105]), array([105,  13]), array([ 13, 106]), array([106, 107]), array([107, 108]), array([108, 109]), array([109, 110]), array([110, 111]), array([111,  65]), array([65, 17]), array([ 17, 112]), array([112, 113]), array([113,  29]), array([ 29, 114]), array([114, 115]), array([115,  13]), array([13, 53]), array([ 53, 116]), array([116, 117]), array([117, 118]), array([118, 107]), array([107,  65]), array([ 65, 108]), array([108, 119]), array([119,   7]), array([  7, 120]), array([120, 121]), array([121,  20]), array([ 20, 122]), array([122, 123]), array([123, 124]), array([124, 109]), array([109, 125]), array([125, 126]), array([126, 127]), array([127, 128]), array([128, 129]), array([129, 130]), array([130,   9]), array([  9, 128]), array([128, 131]), array([131,  95]), array([ 95, 132]), array([132, 133]), array([133,  57]), array([ 57, 134]), array([134,  11]), array([ 11, 135]), array([135, 136]), array([136,  42]), array([ 42, 137]), array([137, 138]), array([138, 127]), array([127, 128]), array([128, 129]), array([129, 130]), array([130,  65]), array([ 65, 129]), array([129, 139]), array([139, 140]), array([140, 141]), array([141, 123]), array([123,  36]), array([36, 35]), array([ 35, 142]), array([142, 143]), array([143,  75]), array([ 75, 108]), array([108, 100]), array([100, 144]), array([144, 145]), array([145,   9]), array([  9, 146]), array([146, 147]), array([147, 148]), array([148, 149]), array([149,  13]), array([ 13, 127]), array([127, 128]), array([128, 150]), array([150,  20]), array([20, 23]), array([23, 69]), array([ 69, 151]), array([151,  75]), array([75, 60]), array([ 60, 118]), array([118,  61]), array([ 61, 152]), array([152,  65]), array([ 65, 108]), array([108, 153]), array([153,  57]), array([ 57, 154]), array([154, 155]), array([155, 127]), array([127,  65]), array([65, 17]), array([17, 57]), array([ 57, 156]), array([156, 157]), array([157,  30]), array([ 30, 127]), array([127, 128]), array([128, 158]), array([158, 159]), array([159,  35]), array([ 35, 109]), array([109, 152]), array([152,  36]), array([36,  9]), array([  9, 122]), array([122, 160]), array([160,  53]), array([53, 35]), array([35, 19]), array([ 19, 161]), array([161, 162]), array([162, 163]), array([163, 164]), array([164,  11]), array([ 11, 165]), array([165, 166]), array([166,  50]), array([50, 57]), array([57, 61]), array([ 61, 167]), array([167, 168]), array([168, 169]), array([169, 170]), array([170, 171]), array([171,  57]), array([ 57, 172]), array([172,   7]), array([ 7, 65]), array([ 65, 112]), array([112, 173]), array([173, 174]), array([174, 175]), array([175,   9]), array([ 9, 17]), array([17, 57]), array([ 57, 176]), array([176, 177]), array([177,  75]), array([75, 72]), array([ 72, 178]), array([178, 179]), array([179, 180]), array([180, 105]), array([105, 128]), array([128, 181]), array([181,  65]), array([ 65, 182]), array([182, 183]), array([183,  23]), array([ 23, 184]), array([184, 185]), array([185,  65]), array([ 65, 185]), array([185,  65]), array([ 65, 185]), array([185,  65]), array([187, 188]), array([188,  25]), array([25, 46]), array([ 46, 123]), array([123, 189]), array([189, 123]), array([123, 190]), array([190,  25]), array([ 25, 191]), array([191,  13]), array([ 13, 192]), array([192,  46]), array([ 46, 193]), array([193, 194]), array([194,  30]), array([ 30, 190]), array([190, 195]), array([195, 196]), array([196, 193]), array([193, 179]), array([179,  34]), array([34, 69]), array([ 69, 158]), array([158, 189]), array([189, 197]), array([197,  75]), array([ 75, 128]), array([128,  74]), array([74,  7]), array([  7, 198]), array([170,  98]), array([ 98, 199]), array([199, 200]), array([200, 201]), array([201,  98]), array([ 98, 202]), array([202, 203]), array([203,  36]), array([36,  9]), array([  9, 204]), array([204, 112]), array([112, 110]), array([110, 205]), array([205, 111]), array([111,  75]), array([75,  9]), array([ 9, 17]), array([17, 20]), array([20, 23]), array([23, 35]), array([35, 51]), array([ 51, 206]), array([206, 104]), array([104,  23]), array([23, 35]), array([ 35, 207]), array([207, 208]), array([208,  13]), array([ 13, 209]), array([209, 210]), array([210,  35]), array([ 35, 109]), array([109,  23]), array([23, 19]), array([19, 72]), array([ 72, 211]), array([211, 108]), array([108, 212]), array([212, 213]), array([213, 214]), array([214, 215]), array([215, 216]), array([216,   9]), array([ 9, 20]), array([20, 57]), array([ 57, 217]), array([217,  36]), array([36, 63]), array([ 63, 218]), array([218, 219]), array([219,  75]), array([ 75, 220]), array([220, 110]), array([110, 221]), array([221, 222]), array([222, 223]), array([223,   9]), array([  9, 224]), array([224,  35]), array([ 35, 225]), array([225,  17]), array([ 17, 226]), array([226,  35]), array([ 35, 227]), array([227,  25]), array([ 25, 228]), array([228,  35]), array([ 35, 229]), array([229, 230]), array([230, 231]), array([231, 128]), array([128, 232]), array([232, 155]), array([155,  35]), array([ 35, 163]), array([163,  50]), array([50, 35]), array([ 35, 122]), array([122,  17]), array([ 17, 233]), array([233,  61]), array([61, 35]), array([ 35, 234]), array([234,  17]), array([ 17, 235]), array([235,   7]), array([  7, 236]), array([236, 186]), array([186, 237]), array([237, 112]), array([112, 110]), array([110, 238]), array([238, 239]), array([239,  77]), array([ 77, 240]), array([240, 241]), array([241, 242]), array([242, 108]), array([108, 243]), array([243, 244]), array([244,  29]), array([ 29, 245]), array([245,  57]), array([ 57, 246]), array([246,  53]), array([53, 35]), array([ 35, 247]), array([247, 248]), array([248, 249]), array([249, 250]), array([250,  36]), array([36, 35]), array([ 35, 150]), array([150, 251]), array([251,  23]), array([ 23, 114]), array([114, 252]), array([252, 253]), array([253, 104]), array([104,  19]), array([ 19, 108]), array([108, 254]), array([254,  42]), array([ 42, 255]), array([255,  19]), array([ 19, 108]), array([108, 256]), array([256,   7]), array([  7, 257]), array([257,  13]), array([13, 19]), array([ 19, 108]), array([108, 258]), array([258,  23]), array([ 23, 259]), array([259, 260]), array([260,  57]), array([ 57, 261]), array([261, 122]), array([122,  53]), array([53, 57]), array([ 57, 262]), array([262, 263]), array([263,  11]), array([11, 19]), array([19, 26]), array([ 26, 264]), array([264, 265]), array([265,  95]), array([ 95, 266]), array([266, 264]), array([264, 267]), array([267, 268]), array([268, 269]), array([269,  23]), array([ 23, 270]), array([270, 271]), array([271,  35]), array([ 35, 261]), array([261,  20]), array([ 20, 265]), array([265, 272]), array([272,  95]), array([ 95, 273]), array([273, 123]), array([123,  57]), array([ 57, 234]), array([234, 274]), array([274, 275]), array([275,  35]), array([ 35, 276]), array([276,  42]), array([42, 35]), array([ 35, 277]), array([277, 108]), array([108,  13]), array([ 13, 278]), array([278, 265]), array([265,  95]), array([ 95, 279]), array([279, 280]), array([280, 281]), array([281, 244]), array([244,  13]), array([ 13, 282]), array([282, 283]), array([283, 284]), array([284, 285]), array([285, 286]), array([ 74, 100]), array([100, 287]), array([287,   7]), array([  7, 288]), array([288, 289]), array([289,  11]), array([ 11, 290]), array([290, 291]), array([291, 292]), array([292,  36]), array([ 36, 293]), array([293, 294]), array([294, 112]), array([112, 295]), array([295, 108]), array([108, 296]), array([296, 297]), array([297, 298]), array([298,  60]), array([ 60, 299]), array([299, 300]), array([300, 110]), array([110, 301]), array([301, 302]), array([302, 303]), array([303,   7]), array([  7, 297]), array([297, 304]), array([304, 110]), array([110, 305]), array([305,  65]), array([65, 89]), array([ 89, 193]), array([193, 272]), array([272, 306]), array([306, 307]), array([307,  95]), array([ 95, 308]), array([308,  53]), array([53, 65]), array([65, 89]), array([ 89, 110]), array([110, 309]), array([309, 145]), array([145,   9]), array([  9, 310]), array([310, 311]), array([311, 312]), array([312,  11]), array([11, 57]), array([ 57, 313]), array([313, 314]), array([314, 315]), array([315, 316]), array([316, 110]), array([110, 238]), array([238, 317]), array([317, 293]), array([293, 252]), array([252, 318]), array([318,  23]), array([ 23, 319]), array([319,  53]), array([53, 65]), array([65, 13]), array([ 13, 110]), array([110,  74]), array([74,  7]), array([  7, 111]), array([111, 110]), array([110,  60]), array([ 60, 118]), array([118,  65]), array([65, 65]), array([ 65, 108]), array([108,  57]), array([ 57, 320]), array([320,   4]), array([  4, 321]), array([321,  34]), array([ 34, 322]), array([322, 323]), array([323, 110]), array([110, 324]), array([324, 111]), array([111, 174]), array([174, 325]), array([325, 326]), array([326,  17]), array([ 17, 327]), array([327, 328]), array([328, 329]), array([329, 155]), array([155, 330]), array([330,  65]), array([ 65, 331]), array([331,  98]), array([98, 74]), array([ 74, 329]), array([329, 108]), array([108, 332]), array([332, 298]), array([298,  65]), array([ 65, 108]), array([108,  57]), array([ 57, 333]), array([333, 321]), array([321,  34]), array([ 34, 322]), array([322, 323]), array([323, 334]), array([334, 290]), array([290, 323]), array([323, 335]), array([335,  42]), array([42, 26]), array([26, 57]), array([ 57, 336]), array([336, 337]), array([337, 298]), array([298,  13]), array([ 13, 110]), array([110, 265]), array([265, 210]), array([210, 338]), array([338,  35]), array([ 35, 339]), array([339, 340]), array([340, 223]), array([223,  65])] - got shape [704, 2], but wanted [704].",
      "\nDuring handling of the above exception, another exception occurred:\n",
      "\u001b[0;31mValueError\u001b[0m                                Traceback (most recent call last)",
      "\u001b[0;32m~/anaconda3/lib/python3.6/site-packages/tensorflow/python/framework/op_def_library.py\u001b[0m in \u001b[0;36m_apply_op_helper\u001b[0;34m(self, op_type_name, name, **keywords)\u001b[0m\n\u001b[1;32m    523\u001b[0m               observed = ops.internal_convert_to_tensor(\n\u001b[0;32m--> 524\u001b[0;31m                   values, as_ref=input_arg.is_ref).dtype.name\n\u001b[0m\u001b[1;32m    525\u001b[0m             \u001b[0;32mexcept\u001b[0m \u001b[0mValueError\u001b[0m \u001b[0;32mas\u001b[0m \u001b[0merr\u001b[0m\u001b[0;34m:\u001b[0m\u001b[0;34m\u001b[0m\u001b[0m\n",
      "\u001b[0;32m~/anaconda3/lib/python3.6/site-packages/tensorflow/python/framework/ops.py\u001b[0m in \u001b[0;36minternal_convert_to_tensor\u001b[0;34m(value, dtype, name, as_ref, preferred_dtype, ctx)\u001b[0m\n\u001b[1;32m   1021\u001b[0m     \u001b[0;32mif\u001b[0m \u001b[0mret\u001b[0m \u001b[0;32mis\u001b[0m \u001b[0;32mNone\u001b[0m\u001b[0;34m:\u001b[0m\u001b[0;34m\u001b[0m\u001b[0m\n\u001b[0;32m-> 1022\u001b[0;31m       \u001b[0mret\u001b[0m \u001b[0;34m=\u001b[0m \u001b[0mconversion_func\u001b[0m\u001b[0;34m(\u001b[0m\u001b[0mvalue\u001b[0m\u001b[0;34m,\u001b[0m \u001b[0mdtype\u001b[0m\u001b[0;34m=\u001b[0m\u001b[0mdtype\u001b[0m\u001b[0;34m,\u001b[0m \u001b[0mname\u001b[0m\u001b[0;34m=\u001b[0m\u001b[0mname\u001b[0m\u001b[0;34m,\u001b[0m \u001b[0mas_ref\u001b[0m\u001b[0;34m=\u001b[0m\u001b[0mas_ref\u001b[0m\u001b[0;34m)\u001b[0m\u001b[0;34m\u001b[0m\u001b[0m\n\u001b[0m\u001b[1;32m   1023\u001b[0m \u001b[0;34m\u001b[0m\u001b[0m\n",
      "\u001b[0;32m~/anaconda3/lib/python3.6/site-packages/tensorflow/python/framework/constant_op.py\u001b[0m in \u001b[0;36m_constant_tensor_conversion_function\u001b[0;34m(v, dtype, name, as_ref)\u001b[0m\n\u001b[1;32m    232\u001b[0m   \u001b[0m_\u001b[0m \u001b[0;34m=\u001b[0m \u001b[0mas_ref\u001b[0m\u001b[0;34m\u001b[0m\u001b[0m\n\u001b[0;32m--> 233\u001b[0;31m   \u001b[0;32mreturn\u001b[0m \u001b[0mconstant\u001b[0m\u001b[0;34m(\u001b[0m\u001b[0mv\u001b[0m\u001b[0;34m,\u001b[0m \u001b[0mdtype\u001b[0m\u001b[0;34m=\u001b[0m\u001b[0mdtype\u001b[0m\u001b[0;34m,\u001b[0m \u001b[0mname\u001b[0m\u001b[0;34m=\u001b[0m\u001b[0mname\u001b[0m\u001b[0;34m)\u001b[0m\u001b[0;34m\u001b[0m\u001b[0m\n\u001b[0m\u001b[1;32m    234\u001b[0m \u001b[0;34m\u001b[0m\u001b[0m\n",
      "\u001b[0;32m~/anaconda3/lib/python3.6/site-packages/tensorflow/python/framework/constant_op.py\u001b[0m in \u001b[0;36mconstant\u001b[0;34m(value, dtype, shape, name, verify_shape)\u001b[0m\n\u001b[1;32m    211\u001b[0m       tensor_util.make_tensor_proto(\n\u001b[0;32m--> 212\u001b[0;31m           value, dtype=dtype, shape=shape, verify_shape=verify_shape))\n\u001b[0m\u001b[1;32m    213\u001b[0m   \u001b[0mdtype_value\u001b[0m \u001b[0;34m=\u001b[0m \u001b[0mattr_value_pb2\u001b[0m\u001b[0;34m.\u001b[0m\u001b[0mAttrValue\u001b[0m\u001b[0;34m(\u001b[0m\u001b[0mtype\u001b[0m\u001b[0;34m=\u001b[0m\u001b[0mtensor_value\u001b[0m\u001b[0;34m.\u001b[0m\u001b[0mtensor\u001b[0m\u001b[0;34m.\u001b[0m\u001b[0mdtype\u001b[0m\u001b[0;34m)\u001b[0m\u001b[0;34m\u001b[0m\u001b[0m\n",
      "\u001b[0;32m~/anaconda3/lib/python3.6/site-packages/tensorflow/python/framework/tensor_util.py\u001b[0m in \u001b[0;36mmake_tensor_proto\u001b[0;34m(values, dtype, shape, verify_shape)\u001b[0m\n\u001b[1;32m    421\u001b[0m                              \u001b[0mvalues\u001b[0m\u001b[0;34m,\u001b[0m \u001b[0mlist\u001b[0m\u001b[0;34m(\u001b[0m\u001b[0mnparray\u001b[0m\u001b[0;34m.\u001b[0m\u001b[0mshape\u001b[0m\u001b[0;34m)\u001b[0m\u001b[0;34m,\u001b[0m\u001b[0;34m\u001b[0m\u001b[0m\n\u001b[0;32m--> 422\u001b[0;31m                              _GetDenseDimensions(values)))\n\u001b[0m\u001b[1;32m    423\u001b[0m \u001b[0;34m\u001b[0m\u001b[0m\n",
      "\u001b[0;31mValueError\u001b[0m: Argument must be a dense tensor: [array([2, 3]), array([3, 4]), array([4, 5]), array([5, 6]), array([6, 7]), array([7, 8]), array([8, 9]), array([ 9, 10]), array([10, 11]), array([11, 12]), array([12, 13]), array([13, 14]), array([14, 11]), array([11, 15]), array([15, 15]), array([15, 16]), array([16, 17]), array([17, 18]), array([18, 19]), array([19, 13]), array([13,  9]), array([ 9, 20]), array([20, 17]), array([17, 21]), array([21, 19]), array([19, 22]), array([22, 23]), array([23, 24]), array([24, 25]), array([25, 26]), array([26, 27]), array([27, 28]), array([28, 12]), array([12, 29]), array([29, 19]), array([19, 27]), array([27, 28]), array([28, 13]), array([13, 15]), array([15, 29]), array([29, 19]), array([19, 27]), array([27, 28]), array([28, 30]), array([30,  9]), array([ 9, 10]), array([10, 29]), array([29, 31]), array([31, 32]), array([32, 13]), array([13, 33]), array([33, 34]), array([34, 35]), array([35, 15]), array([15, 19]), array([19,  6]), array([ 6, 36]), array([36, 37]), array([37,  9]), array([ 9, 16]), array([16, 38]), array([38, 39]), array([39, 36]), array([36, 40]), array([40, 28]), array([28, 41]), array([41, 42]), array([42,  4]), array([ 4, 43]), array([43, 44]), array([44, 15]), array([15, 16]), array([16, 45]), array([45, 46]), array([46,  9]), array([ 9, 16]), array([16, 47]), array([47, 48]), array([48, 49]), array([49, 50]), array([50, 51]), array([51, 35]), array([35, 39]), array([39, 15]), array([15, 45]), array([45, 46]), array([46,  9]), array([ 9, 16]), array([16, 52]), array([52, 53]), array([53, 54]), array([54, 55]), array([55, 15]), array([15, 16]), array([16, 56]), array([56, 53]), array([53, 57]), array([57,  3]), array([ 3, 58]), array([58, 59]), array([59, 55]), array([55,  9]), array([ 9, 16]), array([16, 17]), array([17, 60]), array([60, 61]), array([61, 62]), array([62, 36]), array([36, 63]), array([63, 32]), array([32, 33]), array([33, 13]), array([13, 64]), array([64, 65]), array([65, 17]), array([17, 57]), array([57, 66]), array([66, 67]), array([67, 68]), array([68,  7]), array([ 7, 26]), array([26, 69]), array([69, 70]), array([70, 71]), array([71, 35]), array([35, 72]), array([72, 73]), array([73,  1]), array([ 1, 74]), array([74, 17]), array([17, 75]), array([75,  9]), array([ 9, 16]), array([16, 76]), array([76, 77]), array([77, 78]), array([78, 23]), array([23, 79]), array([79, 80]), array([80, 81]), array([81, 82]), array([82,  1]), array([ 1, 74]), array([74, 16]), array([16, 48]), array([48,  7]), array([ 7, 83]), array([83, 49]), array([49, 50]), array([50, 51]), array([51, 23]), array([23, 39]), array([39, 75]), array([75, 81]), array([81, 84]), array([84, 73]), array([73,  7]), array([ 7, 85]), array([85, 86]), array([86, 13]), array([13, 87]), array([87, 88]), array([88, 89]), array([89,  1]), array([ 1, 90]), array([90,  7]), array([ 7, 91]), array([91, 35]), array([35, 49]), array([49, 92]), array([94,  7]), array([ 7, 95]), array([95, 96]), array([96, 60]), array([60, 75]), array([75, 97]), array([97, 98]), array([98, 99]), array([ 99, 100]), array([100,  96]), array([96, 57]), array([ 57, 101]), array([101, 102]), array([102,   9]), array([ 9, 17]), array([17, 20]), array([20, 23]), array([23, 35]), array([ 35, 103]), array([103, 104]), array([104,  23]), array([23, 26]), array([ 26, 105]), array([105,  13]), array([ 13, 106]), array([106, 107]), array([107, 108]), array([108, 109]), array([109, 110]), array([110, 111]), array([111,  65]), array([65, 17]), array([ 17, 112]), array([112, 113]), array([113,  29]), array([ 29, 114]), array([114, 115]), array([115,  13]), array([13, 53]), array([ 53, 116]), array([116, 117]), array([117, 118]), array([118, 107]), array([107,  65]), array([ 65, 108]), array([108, 119]), array([119,   7]), array([  7, 120]), array([120, 121]), array([121,  20]), array([ 20, 122]), array([122, 123]), array([123, 124]), array([124, 109]), array([109, 125]), array([125, 126]), array([126, 127]), array([127, 128]), array([128, 129]), array([129, 130]), array([130,   9]), array([  9, 128]), array([128, 131]), array([131,  95]), array([ 95, 132]), array([132, 133]), array([133,  57]), array([ 57, 134]), array([134,  11]), array([ 11, 135]), array([135, 136]), array([136,  42]), array([ 42, 137]), array([137, 138]), array([138, 127]), array([127, 128]), array([128, 129]), array([129, 130]), array([130,  65]), array([ 65, 129]), array([129, 139]), array([139, 140]), array([140, 141]), array([141, 123]), array([123,  36]), array([36, 35]), array([ 35, 142]), array([142, 143]), array([143,  75]), array([ 75, 108]), array([108, 100]), array([100, 144]), array([144, 145]), array([145,   9]), array([  9, 146]), array([146, 147]), array([147, 148]), array([148, 149]), array([149,  13]), array([ 13, 127]), array([127, 128]), array([128, 150]), array([150,  20]), array([20, 23]), array([23, 69]), array([ 69, 151]), array([151,  75]), array([75, 60]), array([ 60, 118]), array([118,  61]), array([ 61, 152]), array([152,  65]), array([ 65, 108]), array([108, 153]), array([153,  57]), array([ 57, 154]), array([154, 155]), array([155, 127]), array([127,  65]), array([65, 17]), array([17, 57]), array([ 57, 156]), array([156, 157]), array([157,  30]), array([ 30, 127]), array([127, 128]), array([128, 158]), array([158, 159]), array([159,  35]), array([ 35, 109]), array([109, 152]), array([152,  36]), array([36,  9]), array([  9, 122]), array([122, 160]), array([160,  53]), array([53, 35]), array([35, 19]), array([ 19, 161]), array([161, 162]), array([162, 163]), array([163, 164]), array([164,  11]), array([ 11, 165]), array([165, 166]), array([166,  50]), array([50, 57]), array([57, 61]), array([ 61, 167]), array([167, 168]), array([168, 169]), array([169, 170]), array([170, 171]), array([171,  57]), array([ 57, 172]), array([172,   7]), array([ 7, 65]), array([ 65, 112]), array([112, 173]), array([173, 174]), array([174, 175]), array([175,   9]), array([ 9, 17]), array([17, 57]), array([ 57, 176]), array([176, 177]), array([177,  75]), array([75, 72]), array([ 72, 178]), array([178, 179]), array([179, 180]), array([180, 105]), array([105, 128]), array([128, 181]), array([181,  65]), array([ 65, 182]), array([182, 183]), array([183,  23]), array([ 23, 184]), array([184, 185]), array([185,  65]), array([ 65, 185]), array([185,  65]), array([ 65, 185]), array([185,  65]), array([187, 188]), array([188,  25]), array([25, 46]), array([ 46, 123]), array([123, 189]), array([189, 123]), array([123, 190]), array([190,  25]), array([ 25, 191]), array([191,  13]), array([ 13, 192]), array([192,  46]), array([ 46, 193]), array([193, 194]), array([194,  30]), array([ 30, 190]), array([190, 195]), array([195, 196]), array([196, 193]), array([193, 179]), array([179,  34]), array([34, 69]), array([ 69, 158]), array([158, 189]), array([189, 197]), array([197,  75]), array([ 75, 128]), array([128,  74]), array([74,  7]), array([  7, 198]), array([170,  98]), array([ 98, 199]), array([199, 200]), array([200, 201]), array([201,  98]), array([ 98, 202]), array([202, 203]), array([203,  36]), array([36,  9]), array([  9, 204]), array([204, 112]), array([112, 110]), array([110, 205]), array([205, 111]), array([111,  75]), array([75,  9]), array([ 9, 17]), array([17, 20]), array([20, 23]), array([23, 35]), array([35, 51]), array([ 51, 206]), array([206, 104]), array([104,  23]), array([23, 35]), array([ 35, 207]), array([207, 208]), array([208,  13]), array([ 13, 209]), array([209, 210]), array([210,  35]), array([ 35, 109]), array([109,  23]), array([23, 19]), array([19, 72]), array([ 72, 211]), array([211, 108]), array([108, 212]), array([212, 213]), array([213, 214]), array([214, 215]), array([215, 216]), array([216,   9]), array([ 9, 20]), array([20, 57]), array([ 57, 217]), array([217,  36]), array([36, 63]), array([ 63, 218]), array([218, 219]), array([219,  75]), array([ 75, 220]), array([220, 110]), array([110, 221]), array([221, 222]), array([222, 223]), array([223,   9]), array([  9, 224]), array([224,  35]), array([ 35, 225]), array([225,  17]), array([ 17, 226]), array([226,  35]), array([ 35, 227]), array([227,  25]), array([ 25, 228]), array([228,  35]), array([ 35, 229]), array([229, 230]), array([230, 231]), array([231, 128]), array([128, 232]), array([232, 155]), array([155,  35]), array([ 35, 163]), array([163,  50]), array([50, 35]), array([ 35, 122]), array([122,  17]), array([ 17, 233]), array([233,  61]), array([61, 35]), array([ 35, 234]), array([234,  17]), array([ 17, 235]), array([235,   7]), array([  7, 236]), array([236, 186]), array([186, 237]), array([237, 112]), array([112, 110]), array([110, 238]), array([238, 239]), array([239,  77]), array([ 77, 240]), array([240, 241]), array([241, 242]), array([242, 108]), array([108, 243]), array([243, 244]), array([244,  29]), array([ 29, 245]), array([245,  57]), array([ 57, 246]), array([246,  53]), array([53, 35]), array([ 35, 247]), array([247, 248]), array([248, 249]), array([249, 250]), array([250,  36]), array([36, 35]), array([ 35, 150]), array([150, 251]), array([251,  23]), array([ 23, 114]), array([114, 252]), array([252, 253]), array([253, 104]), array([104,  19]), array([ 19, 108]), array([108, 254]), array([254,  42]), array([ 42, 255]), array([255,  19]), array([ 19, 108]), array([108, 256]), array([256,   7]), array([  7, 257]), array([257,  13]), array([13, 19]), array([ 19, 108]), array([108, 258]), array([258,  23]), array([ 23, 259]), array([259, 260]), array([260,  57]), array([ 57, 261]), array([261, 122]), array([122,  53]), array([53, 57]), array([ 57, 262]), array([262, 263]), array([263,  11]), array([11, 19]), array([19, 26]), array([ 26, 264]), array([264, 265]), array([265,  95]), array([ 95, 266]), array([266, 264]), array([264, 267]), array([267, 268]), array([268, 269]), array([269,  23]), array([ 23, 270]), array([270, 271]), array([271,  35]), array([ 35, 261]), array([261,  20]), array([ 20, 265]), array([265, 272]), array([272,  95]), array([ 95, 273]), array([273, 123]), array([123,  57]), array([ 57, 234]), array([234, 274]), array([274, 275]), array([275,  35]), array([ 35, 276]), array([276,  42]), array([42, 35]), array([ 35, 277]), array([277, 108]), array([108,  13]), array([ 13, 278]), array([278, 265]), array([265,  95]), array([ 95, 279]), array([279, 280]), array([280, 281]), array([281, 244]), array([244,  13]), array([ 13, 282]), array([282, 283]), array([283, 284]), array([284, 285]), array([285, 286]), array([ 74, 100]), array([100, 287]), array([287,   7]), array([  7, 288]), array([288, 289]), array([289,  11]), array([ 11, 290]), array([290, 291]), array([291, 292]), array([292,  36]), array([ 36, 293]), array([293, 294]), array([294, 112]), array([112, 295]), array([295, 108]), array([108, 296]), array([296, 297]), array([297, 298]), array([298,  60]), array([ 60, 299]), array([299, 300]), array([300, 110]), array([110, 301]), array([301, 302]), array([302, 303]), array([303,   7]), array([  7, 297]), array([297, 304]), array([304, 110]), array([110, 305]), array([305,  65]), array([65, 89]), array([ 89, 193]), array([193, 272]), array([272, 306]), array([306, 307]), array([307,  95]), array([ 95, 308]), array([308,  53]), array([53, 65]), array([65, 89]), array([ 89, 110]), array([110, 309]), array([309, 145]), array([145,   9]), array([  9, 310]), array([310, 311]), array([311, 312]), array([312,  11]), array([11, 57]), array([ 57, 313]), array([313, 314]), array([314, 315]), array([315, 316]), array([316, 110]), array([110, 238]), array([238, 317]), array([317, 293]), array([293, 252]), array([252, 318]), array([318,  23]), array([ 23, 319]), array([319,  53]), array([53, 65]), array([65, 13]), array([ 13, 110]), array([110,  74]), array([74,  7]), array([  7, 111]), array([111, 110]), array([110,  60]), array([ 60, 118]), array([118,  65]), array([65, 65]), array([ 65, 108]), array([108,  57]), array([ 57, 320]), array([320,   4]), array([  4, 321]), array([321,  34]), array([ 34, 322]), array([322, 323]), array([323, 110]), array([110, 324]), array([324, 111]), array([111, 174]), array([174, 325]), array([325, 326]), array([326,  17]), array([ 17, 327]), array([327, 328]), array([328, 329]), array([329, 155]), array([155, 330]), array([330,  65]), array([ 65, 331]), array([331,  98]), array([98, 74]), array([ 74, 329]), array([329, 108]), array([108, 332]), array([332, 298]), array([298,  65]), array([ 65, 108]), array([108,  57]), array([ 57, 333]), array([333, 321]), array([321,  34]), array([ 34, 322]), array([322, 323]), array([323, 334]), array([334, 290]), array([290, 323]), array([323, 335]), array([335,  42]), array([42, 26]), array([26, 57]), array([ 57, 336]), array([336, 337]), array([337, 298]), array([298,  13]), array([ 13, 110]), array([110, 265]), array([265, 210]), array([210, 338]), array([338,  35]), array([ 35, 339]), array([339, 340]), array([340, 223]), array([223,  65])] - got shape [704, 2], but wanted [704].",
      "\nDuring handling of the above exception, another exception occurred:\n",
      "\u001b[0;31mValueError\u001b[0m                                Traceback (most recent call last)",
      "\u001b[0;32m<ipython-input-34-88dced0e1b73>\u001b[0m in \u001b[0;36m<module>\u001b[0;34m()\u001b[0m\n\u001b[1;32m     10\u001b[0m \u001b[0mnum_decoder_symbols\u001b[0m\u001b[0;34m=\u001b[0m \u001b[0mlen\u001b[0m\u001b[0;34m(\u001b[0m\u001b[0mvocabulary\u001b[0m\u001b[0;34m)\u001b[0m\u001b[0;34m+\u001b[0m\u001b[0;36m1\u001b[0m\u001b[0;34m\u001b[0m\u001b[0m\n\u001b[1;32m     11\u001b[0m \u001b[0;34m\u001b[0m\u001b[0m\n\u001b[0;32m---> 12\u001b[0;31m \u001b[0mencoder_inputs\u001b[0m\u001b[0;34m=\u001b[0m\u001b[0mtf\u001b[0m\u001b[0;34m.\u001b[0m\u001b[0mreshape\u001b[0m\u001b[0;34m(\u001b[0m\u001b[0mtrainY\u001b[0m\u001b[0;34m,\u001b[0m \u001b[0mshape\u001b[0m\u001b[0;34m=\u001b[0m\u001b[0;34m[\u001b[0m\u001b[0mbatch_size\u001b[0m\u001b[0;34m,\u001b[0m\u001b[0msequence_length\u001b[0m\u001b[0;34m,\u001b[0m\u001b[0mnum_decoder_symbols\u001b[0m\u001b[0;34m]\u001b[0m\u001b[0;34m)\u001b[0m\u001b[0;34m\u001b[0m\u001b[0m\n\u001b[0m\u001b[1;32m     13\u001b[0m \u001b[0mdecoder_inputs\u001b[0m\u001b[0;34m=\u001b[0m\u001b[0mtrainX\u001b[0m\u001b[0;34m\u001b[0m\u001b[0m\n\u001b[1;32m     14\u001b[0m \u001b[0;34m\u001b[0m\u001b[0m\n",
      "\u001b[0;32m~/anaconda3/lib/python3.6/site-packages/tensorflow/python/ops/gen_array_ops.py\u001b[0m in \u001b[0;36mreshape\u001b[0;34m(tensor, shape, name)\u001b[0m\n\u001b[1;32m   3995\u001b[0m   \u001b[0;32mif\u001b[0m \u001b[0m_ctx\u001b[0m\u001b[0;34m.\u001b[0m\u001b[0min_graph_mode\u001b[0m\u001b[0;34m(\u001b[0m\u001b[0;34m)\u001b[0m\u001b[0;34m:\u001b[0m\u001b[0;34m\u001b[0m\u001b[0m\n\u001b[1;32m   3996\u001b[0m     _, _, _op = _op_def_lib._apply_op_helper(\n\u001b[0;32m-> 3997\u001b[0;31m         \"Reshape\", tensor=tensor, shape=shape, name=name)\n\u001b[0m\u001b[1;32m   3998\u001b[0m     \u001b[0m_result\u001b[0m \u001b[0;34m=\u001b[0m \u001b[0m_op\u001b[0m\u001b[0;34m.\u001b[0m\u001b[0moutputs\u001b[0m\u001b[0;34m[\u001b[0m\u001b[0;34m:\u001b[0m\u001b[0;34m]\u001b[0m\u001b[0;34m\u001b[0m\u001b[0m\n\u001b[1;32m   3999\u001b[0m     \u001b[0m_inputs_flat\u001b[0m \u001b[0;34m=\u001b[0m \u001b[0m_op\u001b[0m\u001b[0;34m.\u001b[0m\u001b[0minputs\u001b[0m\u001b[0;34m\u001b[0m\u001b[0m\n",
      "\u001b[0;32m~/anaconda3/lib/python3.6/site-packages/tensorflow/python/framework/op_def_library.py\u001b[0m in \u001b[0;36m_apply_op_helper\u001b[0;34m(self, op_type_name, name, **keywords)\u001b[0m\n\u001b[1;32m    526\u001b[0m               raise ValueError(\n\u001b[1;32m    527\u001b[0m                   \u001b[0;34m\"Tried to convert '%s' to a tensor and failed. Error: %s\"\u001b[0m \u001b[0;34m%\u001b[0m\u001b[0;34m\u001b[0m\u001b[0m\n\u001b[0;32m--> 528\u001b[0;31m                   (input_name, err))\n\u001b[0m\u001b[1;32m    529\u001b[0m             prefix = (\"Input '%s' of '%s' Op has type %s that does not match\" %\n\u001b[1;32m    530\u001b[0m                       (input_name, op_type_name, observed))\n",
      "\u001b[0;31mValueError\u001b[0m: Tried to convert 'tensor' to a tensor and failed. Error: Argument must be a dense tensor: [array([2, 3]), array([3, 4]), array([4, 5]), array([5, 6]), array([6, 7]), array([7, 8]), array([8, 9]), array([ 9, 10]), array([10, 11]), array([11, 12]), array([12, 13]), array([13, 14]), array([14, 11]), array([11, 15]), array([15, 15]), array([15, 16]), array([16, 17]), array([17, 18]), array([18, 19]), array([19, 13]), array([13,  9]), array([ 9, 20]), array([20, 17]), array([17, 21]), array([21, 19]), array([19, 22]), array([22, 23]), array([23, 24]), array([24, 25]), array([25, 26]), array([26, 27]), array([27, 28]), array([28, 12]), array([12, 29]), array([29, 19]), array([19, 27]), array([27, 28]), array([28, 13]), array([13, 15]), array([15, 29]), array([29, 19]), array([19, 27]), array([27, 28]), array([28, 30]), array([30,  9]), array([ 9, 10]), array([10, 29]), array([29, 31]), array([31, 32]), array([32, 13]), array([13, 33]), array([33, 34]), array([34, 35]), array([35, 15]), array([15, 19]), array([19,  6]), array([ 6, 36]), array([36, 37]), array([37,  9]), array([ 9, 16]), array([16, 38]), array([38, 39]), array([39, 36]), array([36, 40]), array([40, 28]), array([28, 41]), array([41, 42]), array([42,  4]), array([ 4, 43]), array([43, 44]), array([44, 15]), array([15, 16]), array([16, 45]), array([45, 46]), array([46,  9]), array([ 9, 16]), array([16, 47]), array([47, 48]), array([48, 49]), array([49, 50]), array([50, 51]), array([51, 35]), array([35, 39]), array([39, 15]), array([15, 45]), array([45, 46]), array([46,  9]), array([ 9, 16]), array([16, 52]), array([52, 53]), array([53, 54]), array([54, 55]), array([55, 15]), array([15, 16]), array([16, 56]), array([56, 53]), array([53, 57]), array([57,  3]), array([ 3, 58]), array([58, 59]), array([59, 55]), array([55,  9]), array([ 9, 16]), array([16, 17]), array([17, 60]), array([60, 61]), array([61, 62]), array([62, 36]), array([36, 63]), array([63, 32]), array([32, 33]), array([33, 13]), array([13, 64]), array([64, 65]), array([65, 17]), array([17, 57]), array([57, 66]), array([66, 67]), array([67, 68]), array([68,  7]), array([ 7, 26]), array([26, 69]), array([69, 70]), array([70, 71]), array([71, 35]), array([35, 72]), array([72, 73]), array([73,  1]), array([ 1, 74]), array([74, 17]), array([17, 75]), array([75,  9]), array([ 9, 16]), array([16, 76]), array([76, 77]), array([77, 78]), array([78, 23]), array([23, 79]), array([79, 80]), array([80, 81]), array([81, 82]), array([82,  1]), array([ 1, 74]), array([74, 16]), array([16, 48]), array([48,  7]), array([ 7, 83]), array([83, 49]), array([49, 50]), array([50, 51]), array([51, 23]), array([23, 39]), array([39, 75]), array([75, 81]), array([81, 84]), array([84, 73]), array([73,  7]), array([ 7, 85]), array([85, 86]), array([86, 13]), array([13, 87]), array([87, 88]), array([88, 89]), array([89,  1]), array([ 1, 90]), array([90,  7]), array([ 7, 91]), array([91, 35]), array([35, 49]), array([49, 92]), array([94,  7]), array([ 7, 95]), array([95, 96]), array([96, 60]), array([60, 75]), array([75, 97]), array([97, 98]), array([98, 99]), array([ 99, 100]), array([100,  96]), array([96, 57]), array([ 57, 101]), array([101, 102]), array([102,   9]), array([ 9, 17]), array([17, 20]), array([20, 23]), array([23, 35]), array([ 35, 103]), array([103, 104]), array([104,  23]), array([23, 26]), array([ 26, 105]), array([105,  13]), array([ 13, 106]), array([106, 107]), array([107, 108]), array([108, 109]), array([109, 110]), array([110, 111]), array([111,  65]), array([65, 17]), array([ 17, 112]), array([112, 113]), array([113,  29]), array([ 29, 114]), array([114, 115]), array([115,  13]), array([13, 53]), array([ 53, 116]), array([116, 117]), array([117, 118]), array([118, 107]), array([107,  65]), array([ 65, 108]), array([108, 119]), array([119,   7]), array([  7, 120]), array([120, 121]), array([121,  20]), array([ 20, 122]), array([122, 123]), array([123, 124]), array([124, 109]), array([109, 125]), array([125, 126]), array([126, 127]), array([127, 128]), array([128, 129]), array([129, 130]), array([130,   9]), array([  9, 128]), array([128, 131]), array([131,  95]), array([ 95, 132]), array([132, 133]), array([133,  57]), array([ 57, 134]), array([134,  11]), array([ 11, 135]), array([135, 136]), array([136,  42]), array([ 42, 137]), array([137, 138]), array([138, 127]), array([127, 128]), array([128, 129]), array([129, 130]), array([130,  65]), array([ 65, 129]), array([129, 139]), array([139, 140]), array([140, 141]), array([141, 123]), array([123,  36]), array([36, 35]), array([ 35, 142]), array([142, 143]), array([143,  75]), array([ 75, 108]), array([108, 100]), array([100, 144]), array([144, 145]), array([145,   9]), array([  9, 146]), array([146, 147]), array([147, 148]), array([148, 149]), array([149,  13]), array([ 13, 127]), array([127, 128]), array([128, 150]), array([150,  20]), array([20, 23]), array([23, 69]), array([ 69, 151]), array([151,  75]), array([75, 60]), array([ 60, 118]), array([118,  61]), array([ 61, 152]), array([152,  65]), array([ 65, 108]), array([108, 153]), array([153,  57]), array([ 57, 154]), array([154, 155]), array([155, 127]), array([127,  65]), array([65, 17]), array([17, 57]), array([ 57, 156]), array([156, 157]), array([157,  30]), array([ 30, 127]), array([127, 128]), array([128, 158]), array([158, 159]), array([159,  35]), array([ 35, 109]), array([109, 152]), array([152,  36]), array([36,  9]), array([  9, 122]), array([122, 160]), array([160,  53]), array([53, 35]), array([35, 19]), array([ 19, 161]), array([161, 162]), array([162, 163]), array([163, 164]), array([164,  11]), array([ 11, 165]), array([165, 166]), array([166,  50]), array([50, 57]), array([57, 61]), array([ 61, 167]), array([167, 168]), array([168, 169]), array([169, 170]), array([170, 171]), array([171,  57]), array([ 57, 172]), array([172,   7]), array([ 7, 65]), array([ 65, 112]), array([112, 173]), array([173, 174]), array([174, 175]), array([175,   9]), array([ 9, 17]), array([17, 57]), array([ 57, 176]), array([176, 177]), array([177,  75]), array([75, 72]), array([ 72, 178]), array([178, 179]), array([179, 180]), array([180, 105]), array([105, 128]), array([128, 181]), array([181,  65]), array([ 65, 182]), array([182, 183]), array([183,  23]), array([ 23, 184]), array([184, 185]), array([185,  65]), array([ 65, 185]), array([185,  65]), array([ 65, 185]), array([185,  65]), array([187, 188]), array([188,  25]), array([25, 46]), array([ 46, 123]), array([123, 189]), array([189, 123]), array([123, 190]), array([190,  25]), array([ 25, 191]), array([191,  13]), array([ 13, 192]), array([192,  46]), array([ 46, 193]), array([193, 194]), array([194,  30]), array([ 30, 190]), array([190, 195]), array([195, 196]), array([196, 193]), array([193, 179]), array([179,  34]), array([34, 69]), array([ 69, 158]), array([158, 189]), array([189, 197]), array([197,  75]), array([ 75, 128]), array([128,  74]), array([74,  7]), array([  7, 198]), array([170,  98]), array([ 98, 199]), array([199, 200]), array([200, 201]), array([201,  98]), array([ 98, 202]), array([202, 203]), array([203,  36]), array([36,  9]), array([  9, 204]), array([204, 112]), array([112, 110]), array([110, 205]), array([205, 111]), array([111,  75]), array([75,  9]), array([ 9, 17]), array([17, 20]), array([20, 23]), array([23, 35]), array([35, 51]), array([ 51, 206]), array([206, 104]), array([104,  23]), array([23, 35]), array([ 35, 207]), array([207, 208]), array([208,  13]), array([ 13, 209]), array([209, 210]), array([210,  35]), array([ 35, 109]), array([109,  23]), array([23, 19]), array([19, 72]), array([ 72, 211]), array([211, 108]), array([108, 212]), array([212, 213]), array([213, 214]), array([214, 215]), array([215, 216]), array([216,   9]), array([ 9, 20]), array([20, 57]), array([ 57, 217]), array([217,  36]), array([36, 63]), array([ 63, 218]), array([218, 219]), array([219,  75]), array([ 75, 220]), array([220, 110]), array([110, 221]), array([221, 222]), array([222, 223]), array([223,   9]), array([  9, 224]), array([224,  35]), array([ 35, 225]), array([225,  17]), array([ 17, 226]), array([226,  35]), array([ 35, 227]), array([227,  25]), array([ 25, 228]), array([228,  35]), array([ 35, 229]), array([229, 230]), array([230, 231]), array([231, 128]), array([128, 232]), array([232, 155]), array([155,  35]), array([ 35, 163]), array([163,  50]), array([50, 35]), array([ 35, 122]), array([122,  17]), array([ 17, 233]), array([233,  61]), array([61, 35]), array([ 35, 234]), array([234,  17]), array([ 17, 235]), array([235,   7]), array([  7, 236]), array([236, 186]), array([186, 237]), array([237, 112]), array([112, 110]), array([110, 238]), array([238, 239]), array([239,  77]), array([ 77, 240]), array([240, 241]), array([241, 242]), array([242, 108]), array([108, 243]), array([243, 244]), array([244,  29]), array([ 29, 245]), array([245,  57]), array([ 57, 246]), array([246,  53]), array([53, 35]), array([ 35, 247]), array([247, 248]), array([248, 249]), array([249, 250]), array([250,  36]), array([36, 35]), array([ 35, 150]), array([150, 251]), array([251,  23]), array([ 23, 114]), array([114, 252]), array([252, 253]), array([253, 104]), array([104,  19]), array([ 19, 108]), array([108, 254]), array([254,  42]), array([ 42, 255]), array([255,  19]), array([ 19, 108]), array([108, 256]), array([256,   7]), array([  7, 257]), array([257,  13]), array([13, 19]), array([ 19, 108]), array([108, 258]), array([258,  23]), array([ 23, 259]), array([259, 260]), array([260,  57]), array([ 57, 261]), array([261, 122]), array([122,  53]), array([53, 57]), array([ 57, 262]), array([262, 263]), array([263,  11]), array([11, 19]), array([19, 26]), array([ 26, 264]), array([264, 265]), array([265,  95]), array([ 95, 266]), array([266, 264]), array([264, 267]), array([267, 268]), array([268, 269]), array([269,  23]), array([ 23, 270]), array([270, 271]), array([271,  35]), array([ 35, 261]), array([261,  20]), array([ 20, 265]), array([265, 272]), array([272,  95]), array([ 95, 273]), array([273, 123]), array([123,  57]), array([ 57, 234]), array([234, 274]), array([274, 275]), array([275,  35]), array([ 35, 276]), array([276,  42]), array([42, 35]), array([ 35, 277]), array([277, 108]), array([108,  13]), array([ 13, 278]), array([278, 265]), array([265,  95]), array([ 95, 279]), array([279, 280]), array([280, 281]), array([281, 244]), array([244,  13]), array([ 13, 282]), array([282, 283]), array([283, 284]), array([284, 285]), array([285, 286]), array([ 74, 100]), array([100, 287]), array([287,   7]), array([  7, 288]), array([288, 289]), array([289,  11]), array([ 11, 290]), array([290, 291]), array([291, 292]), array([292,  36]), array([ 36, 293]), array([293, 294]), array([294, 112]), array([112, 295]), array([295, 108]), array([108, 296]), array([296, 297]), array([297, 298]), array([298,  60]), array([ 60, 299]), array([299, 300]), array([300, 110]), array([110, 301]), array([301, 302]), array([302, 303]), array([303,   7]), array([  7, 297]), array([297, 304]), array([304, 110]), array([110, 305]), array([305,  65]), array([65, 89]), array([ 89, 193]), array([193, 272]), array([272, 306]), array([306, 307]), array([307,  95]), array([ 95, 308]), array([308,  53]), array([53, 65]), array([65, 89]), array([ 89, 110]), array([110, 309]), array([309, 145]), array([145,   9]), array([  9, 310]), array([310, 311]), array([311, 312]), array([312,  11]), array([11, 57]), array([ 57, 313]), array([313, 314]), array([314, 315]), array([315, 316]), array([316, 110]), array([110, 238]), array([238, 317]), array([317, 293]), array([293, 252]), array([252, 318]), array([318,  23]), array([ 23, 319]), array([319,  53]), array([53, 65]), array([65, 13]), array([ 13, 110]), array([110,  74]), array([74,  7]), array([  7, 111]), array([111, 110]), array([110,  60]), array([ 60, 118]), array([118,  65]), array([65, 65]), array([ 65, 108]), array([108,  57]), array([ 57, 320]), array([320,   4]), array([  4, 321]), array([321,  34]), array([ 34, 322]), array([322, 323]), array([323, 110]), array([110, 324]), array([324, 111]), array([111, 174]), array([174, 325]), array([325, 326]), array([326,  17]), array([ 17, 327]), array([327, 328]), array([328, 329]), array([329, 155]), array([155, 330]), array([330,  65]), array([ 65, 331]), array([331,  98]), array([98, 74]), array([ 74, 329]), array([329, 108]), array([108, 332]), array([332, 298]), array([298,  65]), array([ 65, 108]), array([108,  57]), array([ 57, 333]), array([333, 321]), array([321,  34]), array([ 34, 322]), array([322, 323]), array([323, 334]), array([334, 290]), array([290, 323]), array([323, 335]), array([335,  42]), array([42, 26]), array([26, 57]), array([ 57, 336]), array([336, 337]), array([337, 298]), array([298,  13]), array([ 13, 110]), array([110, 265]), array([265, 210]), array([210, 338]), array([338,  35]), array([ 35, 339]), array([339, 340]), array([340, 223]), array([223,  65])] - got shape [704, 2], but wanted [704]."
     ]
    }
   ],
   "source": [
    "import tensorflow as tf\n",
    "\n",
    "import numpy as np\n",
    "\n",
    "params=np.random.normal(loc=0.0,scale=1.0,size=[10,10])\n",
    "\n",
    "batch_size = None\n",
    "sequence_length = 2\n",
    "num_decoder_symbols = len(vocabulary)+1\n",
    "num_decoder_symbols= len(vocabulary)+1\n",
    "\n",
    "encoder_inputs=tf.reshape(trainY, shape=[batch_size,sequence_length,num_decoder_symbols])\n",
    "decoder_inputs=trainX\n",
    "\n",
    "logits=tf.placeholder(dtype=tf.float32,shape=[batch_size,sequence_length,num_decoder_symbols]) #[batch_size, sequence_length, num_decoder_symbols]\n",
    "targets=tf.placeholder(dtype=tf.int32,shape=[batch_size,sequence_lengt]) #[batch_size, sequence_length]\n",
    "weights=tf.placeholder(dtype=tf.float32,shape=[batch_size,sequence_length]) #[batch_size, sequence_length]\n",
    "\n",
    "\n",
    "train_encoder_inputs=np.ones(shape=[sequence_length,sequence_length],dtype=np.int32)\n",
    "train_decoder_inputs=np.ones(shape=[sequence_length,sequence_length],dtype=np.int32)\n",
    "train_weights=np.ones(shape=[sequence_length,sequence_length],dtype=np.float32)\n",
    "\n",
    "embedding_size=10\n",
    "cell = rnn.BasicRNNCell(hidden_dim)\n",
    "\n",
    "def seq2seq(encoder_inputs,decoder_inputs,cell,num_encoder_symbols,num_decoder_symbols,embedding_size):\n",
    "    encoder_inputs = tf.unstack(encoder_inputs, axis=0)\n",
    "    decoder_inputs = tf.unstack(decoder_inputs, axis=0)\n",
    "    results,states=tf.contrib.legacy_seq2seq.embedding_rnn_seq2seq(\n",
    "    encoder_inputs,\n",
    "    decoder_inputs,\n",
    "    cell,\n",
    "    num_encoder_symbols,\n",
    "    num_decoder_symbols,\n",
    "    embedding_size,\n",
    "    output_projection=None,\n",
    "    feed_previous=False,\n",
    "    dtype=None,\n",
    "    scope=None\n",
    ")\n",
    "    return results\n",
    "\n",
    "def get_loss(logits,targets,weights):\n",
    "    loss=tf.contrib.seq2seq.sequence_loss(\n",
    "        logits,\n",
    "        targets=targets,\n",
    "        weights=weights\n",
    "    )\n",
    "    return loss\n",
    "\n",
    "results=seq2seq(encoder_inputs,decoder_inputs,cell,num_encoder_symbols,num_decoder_symbols,embedding_size)\n",
    "logits=tf.stack(results,axis=0)\n",
    "print(logits)\n",
    "loss=get_loss(logits,targets,weights)\n",
    "\n",
    "with tf.Session() as sess:\n",
    "    sess.run(tf.global_variables_initializer())\n",
    "    results_value=sess.run(results,feed_dict={encoder_inputs:train_encoder_inputs,decoder_inputs:train_decoder_inputs})\n",
    "    print(type(results_value[0]))\n",
    "    print(len(results_value))\n",
    "    cost = sess.run(loss, feed_dict={encoder_inputs: train_encoder_inputs, targets: train_decoder_inputs,\n",
    "                                     weights:train_weights,decoder_inputs:train_decoder_inputs})\n",
    "    print(cost)\n",
    "\n",
    "\n"
   ]
  }
 ],
 "metadata": {
  "kernelspec": {
   "display_name": "Python 3",
   "language": "python",
   "name": "python3"
  },
  "language_info": {
   "codemirror_mode": {
    "name": "ipython",
    "version": 3
   },
   "file_extension": ".py",
   "mimetype": "text/x-python",
   "name": "python",
   "nbconvert_exporter": "python",
   "pygments_lexer": "ipython3",
   "version": "3.6.1"
  },
  "toc": {
   "nav_menu": {},
   "number_sections": true,
   "sideBar": true,
   "skip_h1_title": false,
   "title_cell": "Table of Contents",
   "title_sidebar": "Contents",
   "toc_cell": false,
   "toc_position": {},
   "toc_section_display": true,
   "toc_window_display": false
  }
 },
 "nbformat": 4,
 "nbformat_minor": 2
}
